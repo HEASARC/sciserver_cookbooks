{
 "cells": [
  {
   "cell_type": "markdown",
   "id": "earlier-daily",
   "metadata": {},
   "source": [
    "## Visualization Demo\n",
    "\n",
    "This demonstration of visualizatioin uses the [PyWWT package](https://pywwt.readthedocs.io/en/stable/)  as well as catalog access and image retrieval with [PyVO](https://pyvo.readthedocs.io/en/latest/).  For more about how to use the latter, see the [python notebooks](https://heasarc.gsfc.nasa.gov/navo/summary/python.html) developed by the NASA archives.  "
   ]
  },
  {
   "cell_type": "code",
   "execution_count": null,
   "id": "amateur-composite",
   "metadata": {},
   "outputs": [],
   "source": [
    "## Two ways to do this.  If you open the WWT App through \n",
    "##  the JupyterLab Launcher, here's how to connect to it:\n",
    "#from pywwt.jupyter import connect_to_app\n",
    "#wwt = connect_to_app()\n",
    "## Or you can open the widget in this notebook\n",
    "import warnings\n",
    "from astropy.io import fits\n",
    "from astropy.utils.data import download_file\n",
    "from astropy import units as u\n",
    "\n",
    "import matplotlib.pyplot as plt\n",
    "\n",
    "\n",
    "import astropy.coordinates as coord\n",
    "import pyvo as vo\n",
    "warnings.filterwarnings('ignore', '.*Unknown element mirrorURL.*', vo.utils.xml.elements.UnknownElementWarning)\n",
    "\n",
    "from pywwt.jupyter import WWTJupyterWidget\n",
    "wwt = WWTJupyterWidget()\n",
    "wwt"
   ]
  },
  {
   "cell_type": "markdown",
   "id": "acoustic-matter",
   "metadata": {},
   "source": [
    "The widget opens up with a default view. Let's set the background to Halpha emission and the field of view to center on the crab.  You can do the pan and zoom with your mouse or with the command below.  "
   ]
  },
  {
   "cell_type": "code",
   "execution_count": null,
   "id": "emotional-festival",
   "metadata": {},
   "outputs": [],
   "source": [
    "wwt.background = 'Hydrogen Alpha Full Sky Map' \n",
    "coords=coord.SkyCoord.from_name('crab')\n",
    "from astropy import units as u\n",
    "wwt.center_on_coordinates(coords,fov=5*u.arcmin)\n"
   ]
  },
  {
   "cell_type": "markdown",
   "id": "elegant-breast",
   "metadata": {},
   "source": [
    "Now we're going to look for Chandra observations of the crab using a query to the HEASARC catalog service.  Let's just get the top 10 deepest exposures:"
   ]
  },
  {
   "cell_type": "code",
   "execution_count": null,
   "id": "intended-millennium",
   "metadata": {},
   "outputs": [],
   "source": [
    "#  Get the TAP service from the Registry.  \n",
    "heasarc=vo.regsearch(servicetype='tap',keywords=['heasarc'])[0]\n",
    "query=f\"\"\"SELECT top 10 * \n",
    "    FROM chanmaster\n",
    "    WHERE 1=CONTAINS(POINT('ICRS', ra, dec),CIRCLE('ICRS', {coords.ra.deg}, {coords.dec.deg}, 1))  \n",
    " \"\"\"\n",
    "\n",
    "results=heasarc.search(query)\n",
    "results.to_table()"
   ]
  },
  {
   "cell_type": "markdown",
   "id": "turned-midnight",
   "metadata": {},
   "source": [
    "Now that we have a list of observations, we can see what data products are available for them using the getdatalink() function look for a FITS image to display.  Each observation has a list of things you can retrieve, some of which are further links to browse deeper into the HEASARC archive.  This function below recurses down a given observation to find products of a given type:"
   ]
  },
  {
   "cell_type": "code",
   "execution_count": null,
   "id": "advanced-halloween",
   "metadata": {},
   "outputs": [],
   "source": [
    "def linkwalker( result, level, keyword=None, ctype=None,returnFirst=True):\n",
    "    try:\n",
    "        result2=result.getdatalink()\n",
    "        if keyword is None and ctype is None:\n",
    "            print(result2.to_table()['description','content_type'])\n",
    "        else:\n",
    "            for i,r in enumerate(result2.to_table()):\n",
    "                if keyword is not None and keyword.lower() not in r['description'].lower():\n",
    "                    continue \n",
    "                if ctype is not None and ctype.lower() not in r['content_type'].lower():\n",
    "                    continue\n",
    "                print(f\"Found match in level {level}\")\n",
    "                return(result2[i])\n",
    "    except Exception as e:\n",
    "        print(\"Exception {}\".format(e))\n",
    "        return\n",
    "    for link in [l for l in result2 if \"datalink\" in l.content_type]:\n",
    "        x=linkwalker(link, level+1, keyword,ctype)\n",
    "        if x is not None:\n",
    "            return(x)\n",
    "    return"
   ]
  },
  {
   "cell_type": "markdown",
   "id": "virtual-surname",
   "metadata": {},
   "source": [
    "Not all of these observations have a FITS image available.  You can browse them, or loop over them, as you wish.  You'll find that the 9th row (counting from 0) has a decent looking image:"
   ]
  },
  {
   "cell_type": "code",
   "execution_count": null,
   "id": "stock-yield",
   "metadata": {},
   "outputs": [],
   "source": [
    "#  This returns the (first) Record corresponding to the \n",
    "#   Center Image in FITS for the given observation:\n",
    "r=linkwalker(results[9],0,keyword='Center',ctype='fits')\n",
    "hdu_list = fits.open(r.getdataurl())\n",
    "plt.imshow(hdu_list[0].data)"
   ]
  },
  {
   "cell_type": "code",
   "execution_count": null,
   "id": "municipal-converter",
   "metadata": {},
   "outputs": [],
   "source": [
    "hdu_list[0].data.shape"
   ]
  },
  {
   "cell_type": "markdown",
   "id": "confidential-findings",
   "metadata": {},
   "source": [
    "Let's just cut out the central region:"
   ]
  },
  {
   "cell_type": "code",
   "execution_count": null,
   "id": "measured-trunk",
   "metadata": {},
   "outputs": [],
   "source": [
    "from astropy.nddata import Cutout2D\n",
    "from astropy.wcs import WCS\n",
    "from astropy import units as u\n",
    "w = WCS(hdu_list[0].header, hdu_list)\n",
    "cutout = Cutout2D(hdu_list[0].data, coords, (2*u.arcmin,2*u.arcmin), wcs=w)"
   ]
  },
  {
   "cell_type": "code",
   "execution_count": null,
   "id": "virtual-hanging",
   "metadata": {},
   "outputs": [],
   "source": [
    "plt.imshow(hdu_list[0].data,origin='lower')\n",
    "cutout.plot_on_original(color='white')"
   ]
  },
  {
   "cell_type": "markdown",
   "id": "north-refrigerator",
   "metadata": {},
   "source": [
    "So now let's add it to the viewing widget on top of the background Halpha emission:"
   ]
  },
  {
   "cell_type": "code",
   "execution_count": null,
   "id": "shared-settle",
   "metadata": {},
   "outputs": [],
   "source": [
    "layer2= wwt.layers.add_image_layer(image=(cutout.data,cutout.wcs))\n",
    "layer2.opacity=0.5"
   ]
  },
  {
   "cell_type": "code",
   "execution_count": null,
   "id": "746cc32a-b893-4f03-94d8-6b89f11ebf51",
   "metadata": {},
   "outputs": [],
   "source": []
  }
 ],
 "metadata": {
  "kernelspec": {
   "display_name": "(heasoft)",
   "language": "python",
   "name": "heasoft"
  },
  "language_info": {
   "codemirror_mode": {
    "name": "ipython",
    "version": 3
   },
   "file_extension": ".py",
   "mimetype": "text/x-python",
   "name": "python",
   "nbconvert_exporter": "python",
   "pygments_lexer": "ipython3",
   "version": "3.9.16"
  }
 },
 "nbformat": 4,
 "nbformat_minor": 5
}

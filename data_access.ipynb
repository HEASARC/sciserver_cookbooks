{
 "cells": [
  {
   "cell_type": "markdown",
   "metadata": {},
   "source": [
    "# HEASARC data access on SciServer\n",
    "\n",
    "Here we show several methods for getting the lists of the files you're interested in.  "
   ]
  },
  {
   "cell_type": "code",
   "execution_count": null,
   "metadata": {},
   "outputs": [],
   "source": [
    "import sys,os\n",
    "import pyvo as vo\n",
    "import astropy.coordinates as coord\n",
    "import requests\n",
    "import glob\n",
    "import numpy as np\n",
    "# Ignore unimportant warnings\n",
    "import warnings\n",
    "warnings.filterwarnings('ignore', '.*Unknown element mirrorURL.*', \n",
    "                        vo.utils.xml.elements.UnknownElementWarning)"
   ]
  },
  {
   "cell_type": "markdown",
   "metadata": {},
   "source": [
    "### Get the HEASARC TAP service\n",
    "\n",
    "We can use the Virtual Observatory interfaces to the HEASARC to find the data we're  interested in.  Specifically, we want to look at the observation tables.  So first we get a list of all the tables HEASARC serves and then look for the ones related to RXTE. If you are interested in finding and downloading data from a specific telescope, you can use the tutorial in the other [data access notebook](data_find_download.ipynb).\n",
    "\n",
    "We start with the Registry of all VO services.  The HEASARC table service is using the same backend as our [Xamin web interface](https://heasarc.gsfc.nasa.gov/xamin/), the same database that [Browse](https://heasarc.gsfc.nasa.gov/cgi-bin/W3Browse/w3browse.pl) also uses.  "
   ]
  },
  {
   "cell_type": "code",
   "execution_count": null,
   "metadata": {},
   "outputs": [],
   "source": [
    "tap_services=vo.regsearch(servicetype='tap',keywords=['heasarc'])"
   ]
  },
  {
   "cell_type": "markdown",
   "metadata": {},
   "source": [
    "We then ask the service for all of the tables that are available at the HEASARC:"
   ]
  },
  {
   "cell_type": "code",
   "execution_count": null,
   "metadata": {},
   "outputs": [],
   "source": [
    "heasarc_tables=tap_services[0].service.tables"
   ]
  },
  {
   "cell_type": "markdown",
   "metadata": {},
   "source": [
    "And then we look for the ones related to XTE:"
   ]
  },
  {
   "cell_type": "code",
   "execution_count": null,
   "metadata": {},
   "outputs": [],
   "source": [
    "for tablename in heasarc_tables.keys():\n",
    "    if \"xte\" in tablename:  \n",
    "        print(\" {:20s} {}\".format(tablename,heasarc_tables[tablename].description))\n"
   ]
  },
  {
   "cell_type": "markdown",
   "metadata": {},
   "source": [
    "The \"xtemaster\" catalog is the one that we're interested in.  \n",
    "\n",
    "Let's see what this table has in it.  Alternatively, we can google it and find the same information here:\n",
    "\n",
    "https://heasarc.gsfc.nasa.gov/W3Browse/all/xtemaster.html\n"
   ]
  },
  {
   "cell_type": "code",
   "execution_count": null,
   "metadata": {},
   "outputs": [],
   "source": [
    "for c in heasarc_tables['xtemaster'].columns:\n",
    "    print(\"{:20s} {}\".format(c.name,c.description))"
   ]
  },
  {
   "cell_type": "markdown",
   "metadata": {},
   "source": [
    "We're interested in Eta Carinae, and we want to get the RXTE cycle, proposal, and observation ID etc. for every observation it took of this source based on its position.  (Just in case the name has been entered differently, which can happen.)  This constructs a query in the ADQL language to select the columns (target_name, cycle, prnb, obsid, time, exposure, ra, dec) where the point defined by the observation's RA and DEC lies inside a circle defined by our chosen source position.  The results will be sorted by time.  See the [NAVO website](https://heasarc.gsfc.nasa.gov/vo/summary/python.html) for more information on how to use these services with python and how to construct ADQL queries for catalog searches."
   ]
  },
  {
   "cell_type": "code",
   "execution_count": null,
   "metadata": {},
   "outputs": [],
   "source": [
    "# Get the coordinate for Eta Car\n",
    "pos=coord.SkyCoord.from_name(\"eta car\")\n",
    "query=\"\"\"SELECT target_name, cycle, prnb, obsid, time, exposure, ra, dec \n",
    "    FROM public.xtemaster as cat \n",
    "    where \n",
    "    contains(point('ICRS',cat.ra,cat.dec),circle('ICRS',{},{},0.1))=1 \n",
    "    and \n",
    "    cat.exposure > 0 order by cat.time\n",
    "    \"\"\".format(pos.ra.deg, pos.dec.deg)"
   ]
  },
  {
   "cell_type": "code",
   "execution_count": null,
   "metadata": {},
   "outputs": [],
   "source": [
    "results=tap_services[0].search(query).to_table()\n",
    "results"
   ]
  },
  {
   "cell_type": "markdown",
   "metadata": {},
   "source": [
    "###  Xamin's servlet API "
   ]
  },
  {
   "cell_type": "markdown",
   "metadata": {},
   "source": [
    "An alternative, if for some reason you don't want to use PyVO, is to use the Xamin API specifically:\n",
    "\n",
    "The base URL for the Xamin query servelet is \n",
    "\n",
    " https://heasarc.gsfc.nasa.gov/xamin/QueryServlet?\n",
    " \n",
    " And it then takes options\n",
    " * table:  e.g., \"table=xtemaster\"\n",
    " * constraint:   eg., \"obsid=10004-01-40-00\"\n",
    " * object:  \"object=andromeda\" or \"object=10.68,41.27\"\n",
    "  \n",
    " So we can do:"
   ]
  },
  {
   "cell_type": "code",
   "execution_count": null,
   "metadata": {},
   "outputs": [],
   "source": [
    "url=\"https://heasarc.gsfc.nasa.gov/xamin/QueryServlet?products&\"\n",
    "result=requests.get(url,params={\"table\":\"xtemaster\",\n",
    "                                \"object\":\"eta car\",\n",
    "                                \"resultmax\":\"10\"\n",
    "                               })\n",
    "result.text.split('\\n')[0:2]"
   ]
  },
  {
   "cell_type": "code",
   "execution_count": null,
   "metadata": {},
   "outputs": [],
   "source": []
  },
  {
   "cell_type": "markdown",
   "metadata": {},
   "source": [
    "And then you can construct a file list from the second to last field in each row, the *obs_root.  "
   ]
  },
  {
   "cell_type": "markdown",
   "metadata": {},
   "source": [
    "###  Know the archive structure\n",
    "\n",
    "With either method, you're still going to have to know how to find the specific files you're interested in for the given mission.  (We are working on making this easier.)  Then you can take the list of observations from XTE above and find the specific files of the type you want for each of those observations.  \n",
    "\n",
    "Let's collect all the standard product light curves for RXTE.  (These are described on the [RXTE analysis pages](https://heasarc.gsfc.nasa.gov/docs/xte/recipes/cook_book.html).)"
   ]
  },
  {
   "cell_type": "code",
   "execution_count": null,
   "metadata": {},
   "outputs": [],
   "source": [
    "## Need cycle number as well, since after AO9, \n",
    "##  no longer 1st digit of proposal number\n",
    "ids=np.unique( results['cycle','prnb','obsid','time'])\n",
    "ids.sort(order='time')\n",
    "ids"
   ]
  },
  {
   "cell_type": "code",
   "execution_count": null,
   "metadata": {},
   "outputs": [],
   "source": [
    "## Construct a file list.\n",
    "## Though Jupyter Lab container, either works:\n",
    "#rootdir=\"/home/idies/workspace/headata/FTP\"\n",
    "## This one is a link\n",
    "rootdir=\"/FTP\"\n",
    "rxtedata=\"rxte/data/archive\"\n",
    "filenames=[]\n",
    "for (k,val) in enumerate(ids['obsid']):\n",
    "    fname=\"{}/{}/AO{}/P{}/{}/stdprod/xp{}_n2a.lc.gz\".format(\n",
    "        rootdir,\n",
    "        rxtedata,\n",
    "        ids['cycle'][k],\n",
    "        ids['prnb'][k],\n",
    "        ids['obsid'][k],\n",
    "        ids['obsid'][k].replace('-',''))\n",
    "    #print(fname)\n",
    "    f=glob.glob(fname)\n",
    "    if (len(f) > 0):\n",
    "        filenames.append(f[0])\n",
    "print(\"Found {} out of {} files\".format(len(filenames),len(ids)))"
   ]
  },
  {
   "cell_type": "code",
   "execution_count": null,
   "metadata": {},
   "outputs": [],
   "source": []
  }
 ],
 "metadata": {
  "kernelspec": {
   "display_name": "(heasoft)",
   "language": "python",
   "name": "heasoft"
  },
  "language_info": {
   "codemirror_mode": {
    "name": "ipython",
    "version": 3
   },
   "file_extension": ".py",
   "mimetype": "text/x-python",
   "name": "python",
   "nbconvert_exporter": "python",
   "pygments_lexer": "ipython3",
   "version": "3.9.16"
  }
 },
 "nbformat": 4,
 "nbformat_minor": 4
}

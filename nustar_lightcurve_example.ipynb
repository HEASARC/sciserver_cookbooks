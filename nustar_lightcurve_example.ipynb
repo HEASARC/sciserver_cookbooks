{
 "cells": [
  {
   "cell_type": "markdown",
   "id": "a7af890c-585f-4061-aade-4be99c309552",
   "metadata": {},
   "source": [
    "## An Example Analysing NuSTAR Data One Sciserver\n",
    "\n",
    "In this tutorial, we will go through the steps of analyzing NuSTAR observation of the AGN in center of `SWIFT J2127.4+5654` with `obsid = 60001110002` using `heasoftpy`.\n",
    "\n",
    "The following assumes this notebook is run from the (heasoft) environment on Sciserver. You should see `(Heasoft)` at the top right of the notebook. If not, click there and select `(Heasoft)`"
   ]
  },
  {
   "cell_type": "code",
   "execution_count": null,
   "id": "75a1cc5f-c51d-4b6f-aee1-078c376696f5",
   "metadata": {},
   "outputs": [],
   "source": [
    "import os\n",
    "import sys\n",
    "import heasoftpy as hsp"
   ]
  },
  {
   "cell_type": "code",
   "execution_count": null,
   "id": "d13443b5-a2e3-4def-bab1-a1c439972b3b",
   "metadata": {},
   "outputs": [],
   "source": [
    "print(hsp.__version__)"
   ]
  },
  {
   "cell_type": "markdown",
   "id": "ef6f6a19-663e-442b-a607-eafacab2ff86",
   "metadata": {},
   "source": [
    "We are interested in *NuSTAR* observation `60001110002`. To obtain the full path to the data directory, we can use [Xamin](https://heasarc.gsfc.nasa.gov/xamin/) and select `FTP Paths` in `Data Products Cart` to find the path:  `/FTP/nustar/data/obs/00/6//60001110002/`. \n",
    "\n",
    "You can also see the `Getting-Started.ipynb` and `data_access.ipynb` notebooks for examples using `pyVO` to find the data.\n",
    "\n",
    "On Sciserver, all the data is available locally in the path `/FTP/...`.\n",
    "\n",
    "In the case of *NuSTAR*, we don't even have to copy the data. We can call the pipleline tool using the that data path."
   ]
  },
  {
   "cell_type": "code",
   "execution_count": null,
   "id": "2db3ae02-5339-4aa3-ae98-88c7821ffcde",
   "metadata": {},
   "outputs": [],
   "source": [
    "\n",
    "obsid = '60001110002'\n",
    "path  = '/FTP/nustar/data/obs/00/6//60001110002/'"
   ]
  },
  {
   "cell_type": "markdown",
   "id": "eff3f774-a5c0-439e-aba0-d87555a11e52",
   "metadata": {},
   "source": [
    "Next, we use `nupipeline` to process the data ([see detail here](https://heasarc.gsfc.nasa.gov/lheasoft/ftools/caldb/help/nupipeline.html)).\n",
    "\n",
    "\n",
    "To run `nupipeline`, only three parameters are needed: `indir`, `outdir` and `steminput`. By default, calling the task will also query for other parameters. We can instruct the task to use default values by setting `noprompt=True`.\n",
    "\n",
    "We will also request the output to be logged to the screen by setting `verbose=True`.\n",
    "\n",
    "For the purposes of illustrations in this tutorial, we will focus on the `FMPA` instrument.\n",
    "\n",
    "If we use `outdir='60001110002_p/event_cl'`, the call may look something like:\n"
   ]
  },
  {
   "cell_type": "code",
   "execution_count": null,
   "id": "708bfb78-4145-4794-88cc-8f7928dfe9b2",
   "metadata": {
    "scrolled": true,
    "tags": []
   },
   "outputs": [],
   "source": [
    "\n",
    "# set some parameters.\n",
    "indir  = path\n",
    "outdir = obsid + '_p/event_cl'\n",
    "stem   = 'nu' + obsid\n",
    "\n",
    "# call the tasks\n",
    "out = hsp.nupipeline(indir=indir, outdir=outdir, steminputs=stem, instrument='FPMA', \n",
    "                     clobber='yes', noprompt=True, verbose=True)"
   ]
  },
  {
   "cell_type": "markdown",
   "id": "11e6d95f-8c71-47c1-9477-43e850459168",
   "metadata": {},
   "source": [
    "After running for some time, and if things run smoothly, the last a few lines of the output may contain a message like:\n",
    "\n",
    "```\n",
    "=============================================================================================\n",
    "nupipeline_0.4.9: Exit with no errors - Fri Nov 26 13:53:29 EST 2021\n",
    "\n",
    "=============================================================================================\n",
    "```\n",
    "\n",
    "A return code `out.returncode` of `0`, indicates that the task run with success!"
   ]
  },
  {
   "cell_type": "code",
   "execution_count": null,
   "id": "446f3c36-9e60-4245-a510-deedbed51def",
   "metadata": {},
   "outputs": [],
   "source": [
    "print('return code:', out.returncode)"
   ]
  },
  {
   "cell_type": "markdown",
   "id": "a8a2d53e-9500-4462-a6a7-c16d0eda808f",
   "metadata": {},
   "source": [
    "The main cleaned event files are: `nu60001110002A01_cl.evt` and `nu60001110002B01_cl.evt` for NuSTAR modules `A` and `B`, respectively.\n",
    "\n",
    "\n",
    "---\n",
    "Note that the same results can acheived by using the parameters as attributes of the tasks:\n",
    "\n",
    "```python\n",
    "\n",
    "nupipeline = hsp.HSPTask('nupipeline')\n",
    "\n",
    "nupipeline.indir = indir\n",
    "nupipeline.outdir = obsid + '_p/event_cl'\n",
    "nupipeline.steminput = 'nu' + obsid\n",
    "nupipeline(noprompt=True, verbose=True)\n",
    "\n",
    "```"
   ]
  },
  {
   "cell_type": "markdown",
   "id": "b6ebbc9a-8db6-43e1-b24f-116546c43063",
   "metadata": {},
   "source": [
    "---\n",
    "### Extracting a light curve\n",
    "Now that we have data processed, we can proceed and extract a light curve for the source. For this, we use `nuproducts` (see [nuproducts](https://heasarc.gsfc.nasa.gov/lheasoft/ftools/caldb/help/nuproducts.html) for details)\n",
    "\n",
    "First, we need to create a source and background region files.\n",
    "\n",
    "The source regions is a circle centered on the source with a radius of 150 arcseconds, while the background region is an annulus with an inner and outer radii of 180 and 300 arcseconds, respectively."
   ]
  },
  {
   "cell_type": "code",
   "execution_count": null,
   "id": "79e4a458-9bdf-4d30-bbb2-50bec45e4723",
   "metadata": {},
   "outputs": [],
   "source": [
    "# write region files\n",
    "region = 'circle(21:27:46.406,+56:56:31.38,150\")'\n",
    "with open('src.reg', 'w') as fp: fp.write(region)\n",
    "\n",
    "region = 'annulus(21:27:46.406,+56:56:31.38,180\",300\")'\n",
    "with open('bgd.reg', 'w') as fp: fp.write(region)\n"
   ]
  },
  {
   "cell_type": "code",
   "execution_count": null,
   "id": "b857fb88-469b-47b8-bea8-e9619a3a08db",
   "metadata": {
    "scrolled": true,
    "tags": []
   },
   "outputs": [],
   "source": [
    "\n",
    "# initialize the task instance\n",
    "nuproducts = hsp.HSPTask('nuproducts')\n",
    "\n",
    "params = {\n",
    "    'indir'         : f'{obsid}_p/event_cl',\n",
    "    'outdir'        : f'{obsid}_p/lc',\n",
    "    'instrument'    : 'FPMA',\n",
    "    'steminputs'    : f'nu{obsid}',\n",
    "    'outdir'        : f'{obsid}_p/lc',\n",
    "    'binsize'       : 256,\n",
    "    'bkgextract'    : 'yes',\n",
    "    'srcregionfile' : 'src.reg',\n",
    "    'bkgregionfile' : 'bgd.reg',\n",
    "    'imagefile'     : 'none',\n",
    "    'phafile'       : 'DEFAULT',\n",
    "    'bkgphafile'    : 'DEFAULT',\n",
    "    'runbackscale'  : 'yes',\n",
    "    'correctlc'     : 'yes',\n",
    "    'runmkarf'      : 'no',\n",
    "    'runmkrmf'      : 'no',  \n",
    "}\n",
    "\n",
    "out = nuproducts(params, noprompt=True, verbose=True)\n"
   ]
  },
  {
   "cell_type": "code",
   "execution_count": null,
   "id": "614dd747-9fc6-4075-b2ce-3751df597da2",
   "metadata": {},
   "outputs": [],
   "source": [
    "print('return code:', out.returncode)"
   ]
  },
  {
   "cell_type": "markdown",
   "id": "9dc9b37a-4fe6-4d3e-8c7a-1a44033f70c7",
   "metadata": {},
   "source": [
    "listing the content of the output directory `60001110002_p/lc`, we see that the task has created a source and background light cruves (`nu60001110002A01_sr.lc` and `nu60001110002A01_bk.lc`) along with the corresponding spectra. \n",
    "\n",
    "The task also generates `.flc` file, which contains the background-subtracted light curves.\n",
    "\n",
    "We can proceed in different ways. We may for example use `fits` libraries in `astropy` to read this fits file directly, or we can use `ftlist` to dump the content of that file to an ascii file before reading it (we use `option=T` to list the table content)."
   ]
  },
  {
   "cell_type": "code",
   "execution_count": null,
   "id": "c93f5c1c-c065-46d0-9ec5-f90bcb1bab91",
   "metadata": {},
   "outputs": [],
   "source": [
    "out = hsp.ftlist(infile='60001110002_p/lc/nu60001110002A01.flc', option='T', \n",
    "                 outfile='60001110002_p/lc/nu60001110002A01.txt', rownum='no', colheader='no', clobber='yes')"
   ]
  },
  {
   "cell_type": "markdown",
   "id": "52f890a1-e4dc-48b0-a29b-752bb125095b",
   "metadata": {},
   "source": [
    "\n",
    "---\n",
    "\n",
    "- Now, we use `numpy` for example for read the file, and `matplotlib` to plot it.\n",
    "\n",
    "- For reading the data, we use `numpy.genfromtxt`, which allows for easy handling of missing data (`NULL` values in our case), so these are just replaced by `np.nan`\n",
    "\n",
    "- The columns are: `Time`, `Time_err`, `Rate`, `Rate_err`, `Fraction_exposure`\n",
    "\n",
    "- After reading the data, we plot the data points with full exposure (`Fraction_exposure == 1`)"
   ]
  },
  {
   "cell_type": "code",
   "execution_count": null,
   "id": "cca88e69-99fa-4301-9fcf-282883fa0fad",
   "metadata": {},
   "outputs": [],
   "source": [
    "import numpy as np\n",
    "import matplotlib.pyplot as plt\n",
    "\n",
    "%matplotlib inline"
   ]
  },
  {
   "cell_type": "code",
   "execution_count": null,
   "id": "8b048f43-e447-461c-a335-f1ab5f9359dd",
   "metadata": {},
   "outputs": [],
   "source": [
    "lc_data = np.genfromtxt('60001110002_p/lc/nu60001110002A01.txt', missing_values='NULL', filling_values=np.nan)\n",
    "good_data = lc_data[:,4] == 1\n",
    "lc_data = lc_data[good_data, :]"
   ]
  },
  {
   "cell_type": "code",
   "execution_count": null,
   "id": "8230bb70-0b51-4d61-82de-60750c23d9b3",
   "metadata": {},
   "outputs": [],
   "source": [
    "# modify the plot style a little bit\n",
    "plt.rcParams.update({\n",
    "    'font.size': 14, \n",
    "    'lines.markersize': 8.0,\n",
    "    'xtick.direction': 'in',\n",
    "    'ytick.direction': 'in',\n",
    "    'xtick.major.size': 9.,\n",
    "    'ytick.major.size': 9.,\n",
    "})\n",
    "\n",
    "fig = plt.figure(figsize=(12,6))\n",
    "plt.errorbar(lc_data[:,0], lc_data[:,2], lc_data[:,3], fmt='o', lw=0.5)\n",
    "plt.xlabel('Time (sec)')\n",
    "plt.ylabel('Count Rate (per sec)')"
   ]
  }
 ],
 "metadata": {
  "kernelspec": {
   "display_name": "(heasoft)",
   "language": "python",
   "name": "heasoft"
  },
  "language_info": {
   "codemirror_mode": {
    "name": "ipython",
    "version": 3
   },
   "file_extension": ".py",
   "mimetype": "text/x-python",
   "name": "python",
   "nbconvert_exporter": "python",
   "pygments_lexer": "ipython3",
   "version": "3.9.16"
  }
 },
 "nbformat": 4,
 "nbformat_minor": 5
}

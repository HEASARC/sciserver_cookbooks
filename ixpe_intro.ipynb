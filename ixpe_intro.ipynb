{
 "cells": [
  {
   "cell_type": "markdown",
   "id": "3ff49ecd-f70d-477b-9537-21e763fdb519",
   "metadata": {},
   "source": [
    "# Getting Started with IXPE data\n",
    "\n",
    "This notebook is a tutorial on accessing IXPE data on Sciserver and getting started with analysing the data. You will learn to download the data, extract the source and background regions and perform spectro-polarimetric fits.\n",
    "\n",
    "It also highly recommended that new users read the IXPE Quick Start Guide ([linked here](https://heasarc.gsfc.nasa.gov/docs/ixpe/analysis/IXPE_quickstart.pdf)) and the recommended practices for statistical treatment of IXPE results [here](https://heasarcdev.gsfc.nasa.gov/docs/ixpe/analysis/IXPE_Stats-Advice.pdf)."
   ]
  },
  {
   "cell_type": "markdown",
   "id": "c1e62ecb-8df4-4697-945f-54239abbf70e",
   "metadata": {},
   "source": [
    "## Finding and exploring data \n",
    "\n",
    "All the heasarc data is mounted into the compute under /FTP/, so once we have the path to the data, we can directly access it without the need to download it.\n",
    "\n",
    "For our exploratory data analysis, we will use an observation of the blazar Mrk 501 (ObsID 01004701).\n",
    "\n",
    "(For more information on how to locate datasets of interest, see the [data access notebook](data_access.ipynb).)"
   ]
  },
  {
   "cell_type": "code",
   "execution_count": null,
   "id": "2ecf6563-fb53-4615-abc2-6028d2f513dd",
   "metadata": {},
   "outputs": [],
   "source": [
    "paths_txt = \"\"\"\n",
    "/FTP/ixpe/data/obs/01/01004701\n",
    "\"\"\"\n",
    "paths = paths_txt.split('\\n')[1:-1]"
   ]
  },
  {
   "cell_type": "markdown",
   "id": "94ad54df-8ffd-4844-8771-3a4a043de5a7",
   "metadata": {},
   "source": [
    "Check the contents of this folder"
   ]
  },
  {
   "cell_type": "code",
   "execution_count": null,
   "id": "a5b5c204-1236-4aab-9cd1-5735e7ae5df4",
   "metadata": {},
   "outputs": [],
   "source": [
    "import glob\n",
    "glob.glob(f'{paths[0]}/*')"
   ]
  },
  {
   "cell_type": "markdown",
   "id": "4e907cf3-4cbf-4e25-b962-4ca4574c7d7b",
   "metadata": {},
   "source": [
    "---\n",
    "## Analyzing The Data\n",
    "To Analyze the data within the notebook, we use `heasoftpy`.\n",
    "\n",
    "In the folder for each observation, check for a README file. This file is included with a description of known issues (if any) with the processing for that observation.\n",
    "\n",
    "In this *IXPE* example, it is not necessary to reprocess the data. Instead the level 2 data products can be analysed directly. "
   ]
  },
  {
   "cell_type": "code",
   "execution_count": null,
   "id": "a8b976c9-ccfa-444e-ab8b-3bf7b39bf3dd",
   "metadata": {},
   "outputs": [],
   "source": [
    "import heasoftpy as hsp\n",
    "\n",
    "# set some input\n",
    "indir  = paths[0]\n",
    "obsid  = indir.split('/')[-1] \n",
    "\n",
    "filelist = glob.glob(f'{paths[0]}/event_l2/*')\n",
    "filelist"
   ]
  },
  {
   "cell_type": "markdown",
   "id": "ccc29af0-85b4-4d57-b841-ba2dd517b0db",
   "metadata": {},
   "source": [
    "We see that there are three files: one event file for each detector. We can examine the structure of these level 2 files."
   ]
  },
  {
   "cell_type": "code",
   "execution_count": null,
   "id": "285be5fb-f267-4cd2-b080-0319ef12fec1",
   "metadata": {
    "tags": []
   },
   "outputs": [],
   "source": [
    "det1_fits = filelist[0]\n",
    "det2_fits = filelist[1]\n",
    "det3_fits = filelist[2]\n",
    "\n",
    "#print the file structure for event 1 dectector file\n",
    "hsp.fstruct(infile=det1_fits).output"
   ]
  },
  {
   "cell_type": "markdown",
   "id": "7303a643-bfa6-4bc9-8cb7-2c05e11e21c2",
   "metadata": {},
   "source": [
    "---\n",
    "## Extracting the spectro polarimetric data \n",
    "\n",
    "### Defining the source and background regions\n",
    "\n",
    "To obtain the source and background spectra from the Level 2 files, we need to define a source region and background region for the extraction. \n",
    "\n",
    "For the source, we extract a 60\" circle centered on the source. For the background region, we use an annulus with inner radius of 132.000\" and outer radius 252.000\"\n",
    "\n",
    "The region files should be independently defined for each telescope; in this example, the source location has the same celestial coordinates within 0.25\" for all three detectors so a single source and a single background region can be used."
   ]
  },
  {
   "cell_type": "code",
   "execution_count": null,
   "id": "a450f537-db5d-46fb-8b9c-c65608dadec7",
   "metadata": {},
   "outputs": [],
   "source": [
    "f = open(\"src.reg\", \"w\")\n",
    "f.write('circle(16:53:51.766,+39:45:44.41,60.000\")')\n",
    "f.close()\n",
    "\n",
    "f = open(\"bkg.reg\", \"w\")\n",
    "f.write('annulus(16:53:51.766,+39:45:44.41,132.000\",252.000\")')\n",
    "f.close()"
   ]
  },
  {
   "cell_type": "markdown",
   "id": "6e11f067-8bbf-4f32-9a41-5bdbd42218a8",
   "metadata": {},
   "source": [
    "For more information on how to define region files interactively usin [jdaviz](https://jdaviz.readthedocs.io/en/latest/), see our [jdaviz notebook](https://github.com/HEASARC/sciserver_cookbooks/blob/main/jdaviz-demo.ipynb)."
   ]
  },
  {
   "cell_type": "markdown",
   "id": "4e14c56b-db2e-4449-883b-dd86d1f8f16d",
   "metadata": {},
   "source": [
    "### Running the extractor tools\n",
    "\n",
    "The `extractor` from from FTOOLS, can now be used to extract I,Q and U spectra from IXPE Level 2\n",
    "event lists as shown below. \n",
    "\n",
    "The help for the tool can be displayed using the `hsp.extractor?` command. \n",
    "\n",
    "First, we extract the source I,Q and U spectra "
   ]
  },
  {
   "cell_type": "code",
   "execution_count": null,
   "id": "f169d432-2e4b-4206-bf5a-af13ab453f35",
   "metadata": {
    "tags": []
   },
   "outputs": [],
   "source": [
    "#Extract source I,Q and U spectra for DU1\n",
    "hsp.extractor(filename=det1_fits, binlc=10.0, eventsout='NONE', imgfile='NONE',fitsbinlc='NONE', \n",
    "              phafile= 'ixpe_det1_src_.pha',regionfile='src.reg', timefile='NONE', stokes='NEFF', \n",
    "              polwcol='W_MOM', tcol='TIME', ecol='PI', xcolf='X', xcolh='X',ycolf='Y', ycolh='Y')\n",
    "\n",
    "#Extract source I,Q and U spectra for DU2\n",
    "hsp.extractor(filename=det2_fits, binlc=10.0, eventsout='NONE', imgfile='NONE',fitsbinlc='NONE', \n",
    "              phafile= 'ixpe_det2_src_.pha',regionfile='src.reg', timefile='NONE', stokes='NEFF', \n",
    "              polwcol='W_MOM', tcol='TIME', ecol='PI', xcolf='X', xcolh='X',ycolf='Y', ycolh='Y')\n",
    "\n",
    "#Extract source I,Q and U spectra for DU3\n",
    "hsp.extractor(filename=det3_fits, binlc=10.0, eventsout='NONE', imgfile='NONE',fitsbinlc='NONE', \n",
    "              phafile= 'ixpe_det3_src_.pha',regionfile='src.reg', timefile='NONE', stokes='NEFF', \n",
    "              polwcol='W_MOM', tcol='TIME', ecol='PI', xcolf='X', xcolh='X',ycolf='Y', ycolh='Y')"
   ]
  },
  {
   "cell_type": "markdown",
   "id": "b95e3bd8-aa8e-4355-8cca-9a2c8b417d93",
   "metadata": {},
   "source": [
    "Now repeat the process to extract background I,Q and U spectra"
   ]
  },
  {
   "cell_type": "code",
   "execution_count": null,
   "id": "27ca3f55-ef05-43b7-9c91-b584e6a8e371",
   "metadata": {
    "tags": []
   },
   "outputs": [],
   "source": [
    "#Extract backgorund I,Q and U spectra for DU1\n",
    "hsp.extractor(filename=det1_fits, binlc=10.0, eventsout='NONE', imgfile='NONE',fitsbinlc='NONE', \n",
    "              phafile= 'ixpe_det1_bkg_.pha',regionfile='bkg.reg', timefile='NONE', stokes='NEFF', \n",
    "              polwcol='W_MOM', tcol='TIME', ecol='PI', xcolf='X', xcolh='X',ycolf='Y', ycolh='Y')\n",
    "\n",
    "#Extract backgorund I,Q and U spectra for DU2\n",
    "hsp.extractor(filename=det2_fits, binlc=10.0, eventsout='NONE', imgfile='NONE',fitsbinlc='NONE', \n",
    "              phafile= 'ixpe_det2_bkg_.pha',regionfile='bkg.reg', timefile='NONE', stokes='NEFF', \n",
    "              polwcol='W_MOM', tcol='TIME', ecol='PI', xcolf='X', xcolh='X',ycolf='Y', ycolh='Y')\n",
    "\n",
    "#Extract backgorund I,Q and U spectra for DU3\n",
    "hsp.extractor(filename=det3_fits, binlc=10.0, eventsout='NONE', imgfile='NONE',fitsbinlc='NONE', \n",
    "              phafile= 'ixpe_det3_bkg_.pha',regionfile='bkg.reg', timefile='NONE', stokes='NEFF', \n",
    "              polwcol='W_MOM', tcol='TIME', ecol='PI', xcolf='X', xcolh='X',ycolf='Y', ycolh='Y')"
   ]
  },
  {
   "cell_type": "markdown",
   "id": "0912fc95-293e-4ae8-9d6b-460cae20bc09",
   "metadata": {
    "tags": []
   },
   "source": [
    "---\n",
    "### Obtaining the response files\n",
    "\n",
    "For the I spectra, you will need to include the RMF (Response Matrix File), and\n",
    "the ARF (Ancillary Response File). \n",
    "\n",
    "For the Q and U spectra, you will need to include the RMF and MRF (Modulation Response File). The MRF is defined as defined by the product of the energy-dependent modulation factor, $\\mu$(E) and the ARF.\n",
    "\n",
    "The location of the calibration files can be obtained through the `hsp.quzcif` tool. Type in `hsp.quzcif?` to get more information on this function. \n",
    "\n",
    "Note that the output of the `hsp.quzcif` gives the path to more than one file. This is because there are 3 sets of response files, corresponding to the different weighting schemes. \n",
    "\n",
    "For the 'NEFF' weighting, use 'alpha07_02'.\n",
    "For the 'SIMPLE' weighting, use 'alpha075simple_02'. \n",
    "For the 'UNWEIGHTED' version, use '20170101_02'."
   ]
  },
  {
   "cell_type": "code",
   "execution_count": null,
   "id": "4b9ea262-673a-4458-9029-c392407b6bdb",
   "metadata": {
    "tags": []
   },
   "outputs": [],
   "source": [
    "# hsp.quzcif?"
   ]
  },
  {
   "cell_type": "code",
   "execution_count": null,
   "id": "1b6c9b82-5971-420c-898a-d4004652178a",
   "metadata": {},
   "outputs": [],
   "source": [
    "# get the on-axis rmf\n",
    "res = hsp.quzcif(mission='ixpe', instrument='gpd',detector='DU1',\n",
    "             filter='-', date='-', time='-',expr='-',codename='MATRIX')\n",
    "\n",
    "rmf1 = [x.split()[0] for x in res.output if 'alpha075_02'  in x][0]\n",
    "\n",
    "res = hsp.quzcif(mission='ixpe', instrument='gpd',detector='DU2',\n",
    "             filter='-', date='-', time='-',expr='-',codename='MATRIX')\n",
    "\n",
    "rmf2 = [x.split()[0] for x in res.output if 'alpha075_02'  in x][0]\n",
    "\n",
    "res = hsp.quzcif(mission='ixpe', instrument='gpd',detector='DU3',\n",
    "             filter='-', date='-', time='-',expr='-',codename='MATRIX')\n",
    "\n",
    "rmf3 = [x.split()[0] for x in res.output if 'alpha075_02'  in x][0]"
   ]
  },
  {
   "cell_type": "code",
   "execution_count": null,
   "id": "27474665-a683-4cf8-9d97-b92dcee5da71",
   "metadata": {},
   "outputs": [],
   "source": [
    "# get the on-axis arf\n",
    "res = hsp.quzcif(mission='ixpe', instrument='gpd',detector='DU1',\n",
    "             filter='-', date='-', time='-',expr='-',codename='SPECRESP')\n",
    "arf1 = [x.split()[0] for x in res.output if 'alpha075_02'  in x][0]\n",
    "\n",
    "res = hsp.quzcif(mission='ixpe', instrument='gpd',detector='DU2',\n",
    "             filter='-', date='-', time='-',expr='-',codename='SPECRESP')\n",
    "arf2 = [x.split()[0] for x in res.output if 'alpha075_02'  in x][0]\n",
    "\n",
    "res = hsp.quzcif(mission='ixpe', instrument='gpd',detector='DU3',\n",
    "             filter='-', date='-', time='-',expr='-',codename='SPECRESP')\n",
    "arf3 = [x.split()[0] for x in res.output if 'alpha075_02'  in x][0]"
   ]
  },
  {
   "cell_type": "code",
   "execution_count": null,
   "id": "ec1c5d42-7115-4e62-936e-6654e3467ebe",
   "metadata": {},
   "outputs": [],
   "source": [
    "# get the on-axis mrf\n",
    "res = hsp.quzcif(mission='ixpe', instrument='gpd',detector='DU1',\n",
    "             filter='-', date='-', time='-',expr='-',codename='MODSPECRESP')\n",
    "mrf1 = [x.split()[0] for x in res.output if 'alpha075_02'  in x][0]\n",
    "\n",
    "res = hsp.quzcif(mission='ixpe', instrument='gpd',detector='DU2',\n",
    "             filter='-', date='-', time='-',expr='-',codename='MODSPECRESP')\n",
    "mrf2 = [x.split()[0] for x in res.output if 'alpha075_02'  in x][0]\n",
    "\n",
    "res = hsp.quzcif(mission='ixpe', instrument='gpd',detector='DU3',\n",
    "             filter='-', date='-', time='-',expr='-',codename='MODSPECRESP')\n",
    "mrf3 = [x.split()[0] for x in res.output if 'alpha075_02'  in x][0]"
   ]
  },
  {
   "cell_type": "markdown",
   "id": "ccc03cd3-08c6-4179-a7f2-a19005bbe10e",
   "metadata": {},
   "source": [
    "---\n",
    "### Load data into PyXSPEC and start fitting "
   ]
  },
  {
   "cell_type": "code",
   "execution_count": null,
   "id": "3ef88f0c-d920-48ae-b5a8-15fbb3d0a989",
   "metadata": {
    "tags": []
   },
   "outputs": [],
   "source": [
    "import xspec\n",
    "\n",
    "rmf_list = [rmf1,rmf2,rmf3]\n",
    "mrf_list = [mrf1,mrf2,mrf3]\n",
    "arf_list = [arf1,arf2,arf3]\n",
    "du_list = [1,2,3]\n",
    "\n",
    "xspec.AllData.clear()\n",
    "\n",
    "x=0 #factor to get the spectrum numbering right \n",
    "for (du, rmf_file, mrf_file, arf_file) in zip(du_list, rmf_list, mrf_list, arf_list):\n",
    "\n",
    "    #Load the I data\n",
    "    xspec.AllData(\"%i:%i ixpe_det%i_src_I.pha\"%(du, du+x, du))\n",
    "    s = xspec.AllData(du+x)\n",
    "    \n",
    "    # #Load response and background files\n",
    "    s.response = rmf_file\n",
    "    s.response.arf = arf_file\n",
    "    s.background = 'ixpe_det%i_bkg_I.pha'%du\n",
    "    \n",
    "    #Load the Q data\n",
    "    xspec.AllData(\"%i:%i ixpe_det%i_src_Q.pha\"%(du, du+x+1, du))\n",
    "    s = xspec.AllData(du+x+1)\n",
    "    \n",
    "    # #Load response and background files\n",
    "    s.response = rmf_file\n",
    "    s.response.arf = mrf_file\n",
    "    s.background = 'ixpe_det%i_bkg_Q.pha'%du\n",
    "    \n",
    "    #Load the U data\n",
    "    xspec.AllData(\"%i:%i ixpe_det%i_src_U.pha\"%(du, du+x+2, du))\n",
    "    s = xspec.AllData(du+x+2)\n",
    "    \n",
    "    # #Load response and background files\n",
    "    s.response = rmf_file\n",
    "    s.response.arf = mrf_file\n",
    "    s.background = 'ixpe_det%i_bkg_U.pha'%du\n",
    "    \n",
    "    x+=2\n"
   ]
  },
  {
   "cell_type": "code",
   "execution_count": null,
   "id": "6485f20c-5ae3-4410-8ff9-f0fa729b1bd2",
   "metadata": {
    "tags": []
   },
   "outputs": [],
   "source": [
    "#Ignore all channels except 2-8keV\n",
    "xspec.AllData.ignore(\"0.0-2.0, 8.0-**\")"
   ]
  },
  {
   "cell_type": "code",
   "execution_count": null,
   "id": "46c1e39e-fa88-44bf-b33f-ae1b00547a15",
   "metadata": {
    "jupyter": {
     "source_hidden": true
    },
    "tags": []
   },
   "outputs": [],
   "source": [
    "model = xspec.Model('polconst*tbabs(constant*powerlaw)')\n",
    "\n",
    "model.polconst.A = 0.05\n",
    "model.polconst.psi = -50\n",
    "model.TBabs.nH = 0.15\n",
    "model.powerlaw.PhoIndex = 2.7\n",
    "model.powerlaw.norm = 0.1\n",
    "\n",
    "# xspec.Fit.perform()\n",
    "\n",
    "# model.show()"
   ]
  },
  {
   "cell_type": "code",
   "execution_count": null,
   "id": "1c60ee73-44d2-46fa-905d-8d363970280f",
   "metadata": {
    "tags": []
   },
   "outputs": [],
   "source": [
    "m1 = xspec.AllModels(1)\n",
    "m2 = xspec.AllModels(2)\n",
    "m3 = xspec.AllModels(3)\n",
    "\n",
    "m1.constant.factor = 1.0\n",
    "m1.constant.factor.frozen = True\n",
    "m2.constant.factor = 0.8\n",
    "m3.constant.factor = 0.9"
   ]
  },
  {
   "cell_type": "code",
   "execution_count": null,
   "id": "2867124f-c377-43ce-ac32-fcdd90c444ed",
   "metadata": {
    "tags": []
   },
   "outputs": [],
   "source": [
    "xspec.AllModels.show()"
   ]
  },
  {
   "cell_type": "code",
   "execution_count": null,
   "id": "72bd0837-6914-4eee-98ca-5f11b2cdd191",
   "metadata": {
    "tags": []
   },
   "outputs": [],
   "source": [
    "xspec.Fit.perform()"
   ]
  },
  {
   "cell_type": "markdown",
   "id": "e7f71005-ccf8-43a8-81fe-baa674347435",
   "metadata": {},
   "source": [
    "---\n",
    "### Plotting the results\n",
    "\n",
    "This is done through matplotlib."
   ]
  },
  {
   "cell_type": "code",
   "execution_count": null,
   "id": "3b323a16-c138-4c60-836a-cd831c4ab3a3",
   "metadata": {},
   "outputs": [],
   "source": [
    "import matplotlib.pyplot as plt\n",
    "\n",
    "\n",
    "%matplotlib inline \n",
    "xspec.Plot.area=True\n",
    "xspec.Plot.xAxis='keV'\n",
    "xspec.Plot('lda')\n",
    "yVals=xspec.Plot.y()\n",
    "yErr = xspec.Plot.yErr()\n",
    "xVals = xspec.Plot.x()\n",
    "xErr = xspec.Plot.xErr()\n",
    "mop = xspec.Plot.model()\n",
    "\n",
    "\n",
    "fig, ax = plt.subplots(figsize=(10,6))\n",
    "ax.errorbar(xVals, yVals, xerr=xErr, yerr=yErr, fmt='k.', alpha=0.2)\n",
    "ax.plot(xVals, mop,'r-')\n",
    "ax.set_xlabel('Energy (keV)')\n",
    "ax.set_ylabel(r'counts/cm$^2$/s/keV')\n",
    "ax.set_xscale(\"log\")\n",
    "ax.set_yscale(\"log\")\n"
   ]
  },
  {
   "cell_type": "code",
   "execution_count": null,
   "id": "ea29ccf6-70ff-47c9-9a6c-85fb4432d8bf",
   "metadata": {},
   "outputs": [],
   "source": [
    "xspec.Plot.area=True\n",
    "xspec.Plot.xAxis='keV'\n",
    "xspec.Plot('polangle')\n",
    "yVals=xspec.Plot.y()\n",
    "yErr = xspec.Plot.yErr()\n",
    "xVals = xspec.Plot.x()\n",
    "xErr = xspec.Plot.xErr()\n",
    "mop = xspec.Plot.model()\n",
    "\n",
    "\n",
    "fig, ax = plt.subplots(figsize=(10,6))\n",
    "ax.errorbar(xVals, yVals, xerr=xErr, yerr=yErr, fmt='k.', alpha=0.2)\n",
    "ax.plot(xVals, mop,'r-')\n",
    "ax.set_xlabel('Energy (keV)')\n",
    "ax.set_ylabel(r'Polangle')"
   ]
  },
  {
   "cell_type": "markdown",
   "id": "1aed5f34-f7fa-42d7-9118-08a357e49b02",
   "metadata": {},
   "source": [
    "---\n",
    "## Interpreting the results from XSPEC\n",
    "\n",
    "There are two parameters of interest in our example. These given by the polarization fraction, A,\n",
    "and polarization angle, $\\psi$. The XSPEC error (or uncertainty) command can be used\n",
    "to deduce confidence intervals for these parameters. \n",
    "\n",
    "We can estimate the 99% confidence interval for these two parameters."
   ]
  },
  {
   "cell_type": "code",
   "execution_count": null,
   "id": "81e77733-9dd6-4450-b105-706f2d2ee14d",
   "metadata": {},
   "outputs": [],
   "source": [
    "xspec.Fit.error(\"6.635 1\") #Uncertainty on parameter 1"
   ]
  },
  {
   "cell_type": "code",
   "execution_count": null,
   "id": "cb71f914-51f5-430a-89ab-92db0d901da4",
   "metadata": {},
   "outputs": [],
   "source": [
    "xspec.Fit.error(\"6.635 2\") #Uncertainty on parameter 2"
   ]
  },
  {
   "cell_type": "markdown",
   "id": "d5d4d384-650e-48e5-bbc6-c59f61b59751",
   "metadata": {},
   "source": [
    "Of particular interest is the 2-D error contour for the polarization fraction and polarization angle. "
   ]
  },
  {
   "cell_type": "code",
   "execution_count": null,
   "id": "3b315267-43c7-44f9-8f3b-b3c2e07a41ab",
   "metadata": {
    "tags": []
   },
   "outputs": [],
   "source": [
    "lch = xspec.Xset.logChatter\n",
    "xspec.Xset.logChatter = 20\n",
    "\n",
    "# Create and open a log file for XSPEC output. \n",
    "# This step can sometimes take a few minutes. Please be patient!\n",
    "logFile = xspec.Xset.openLog(\"steppar.txt\")\n",
    "\n",
    "xspec.Fit.steppar(\"1 0.00 0.21 41 2 -90 0 36\")\n",
    "\n",
    "# Close XSPEC's currently opened log file.\n",
    "xspec.Xset.closeLog()"
   ]
  },
  {
   "cell_type": "code",
   "execution_count": null,
   "id": "cb4cf4b7-83e3-49c8-b892-efd63a82a91a",
   "metadata": {
    "tags": []
   },
   "outputs": [],
   "source": [
    "#Plot the results\n",
    "xspec.Plot.area=True\n",
    "xspec.Plot('contour ,,4 1.386, 4.61 9.21 13.81')\n",
    "yVals=xspec.Plot.y()\n",
    "xVals = xspec.Plot.x()\n",
    "zVals = xspec.Plot.z()\n",
    "levelvals = xspec.Plot.contourLevels()\n",
    "statval = xspec.Fit.statistic\n",
    "plt.contour(xVals,yVals,zVals,levelvals)\n",
    "plt.ylabel('Psi (deg)')\n",
    "plt.xlabel('A')\n",
    "plt.errorbar(m1.polconst.A.values[0],m1.polconst.psi.values[0],fmt='+')"
   ]
  },
  {
   "cell_type": "markdown",
   "id": "47d848ee-a059-4c71-9efe-db66525132ec",
   "metadata": {},
   "source": [
    "### Determining the flux and calculating MDP"
   ]
  },
  {
   "cell_type": "markdown",
   "id": "aeb7a3cc-b9b9-44e6-9e5d-1a4dc32fec98",
   "metadata": {},
   "source": [
    "Note that the detection is deemed \"highly probable\" (confidence C > 99.9%) as\n",
    "A/$\\sigma$ = 4.123 >\n",
    "$\\sqrt(-2 ln(1- C)$ where $\\sigma$ = 0.01807 as given by XSPEC above. \n",
    "\n",
    "Finally, we can use PIMMS to estimate the Minimum Detectable Polarization (MDP). \n",
    "\n",
    "To do this, we first use XSPEC to determine the (model) flux on the 2-8 keV energy range:"
   ]
  },
  {
   "cell_type": "code",
   "execution_count": null,
   "id": "e6d1a526-911f-433c-8282-c1f5de2958b6",
   "metadata": {},
   "outputs": [],
   "source": [
    "xspec.AllModels.calcFlux(\"2.0 8.0\")"
   ]
  },
  {
   "cell_type": "markdown",
   "id": "d2d760a9-6e11-4cae-88f3-000c303efa1f",
   "metadata": {},
   "source": [
    "Then enter the appropriate parameters (power law model with Galactic hydrogen column density\n",
    "$n_H/10^{22}$ = 0.646, photon index $\\Gamma$ = 2.75, \n",
    "and flux (average of three detectors) 7.55 x $10^{-11} erg cm^{-2} s^{-1}$ in the 2-8 keV range) into [PIMMS](https://heasarc.gsfc.nasa.gov/cgi-bin/Tools/w3pimms/w3pimms.pl). \n",
    "\n",
    "PIMMS returns MDP99 of 5.62% for a 100 ks exposure. Scaling by the actual\n",
    "mean of exposure time of 97243 s gives an MDP99 of 5.70% meaning that, for an unpolarized source with these physical parameters, an IXPE observation will return a value A > 0.057 only 1% of the time. \n",
    "\n",
    "This is consistent with the highly probable detection deduced here of a polarization fraction of 7.45$\\pm$1.8%."
   ]
  },
  {
   "cell_type": "markdown",
   "id": "45cd7e8f-1384-413b-b64b-544efe1aa8a9",
   "metadata": {},
   "source": [
    "## Additional Resources\n",
    "\n",
    "Visit the IXPE [GOF Website](https://heasarcdev.gsfc.nasa.gov/docs/ixpe/analysis/) and the IXPE [Project Website at MSFC](https://ixpe.msfc.nasa.gov/for_scientists/index.html) for more resources."
   ]
  },
  {
   "cell_type": "code",
   "execution_count": null,
   "id": "6eb44e11-25d9-4646-8027-3d3623aa8a0a",
   "metadata": {},
   "outputs": [],
   "source": []
  }
 ],
 "metadata": {
  "kernelspec": {
   "display_name": "Python 3 (ipykernel)",
   "language": "python",
   "name": "python3"
  },
  "language_info": {
   "codemirror_mode": {
    "name": "ipython",
    "version": 3
   },
   "file_extension": ".py",
   "mimetype": "text/x-python",
   "name": "python",
   "nbconvert_exporter": "python",
   "pygments_lexer": "ipython3",
   "version": "3.10.6"
  }
 },
 "nbformat": 4,
 "nbformat_minor": 5
}

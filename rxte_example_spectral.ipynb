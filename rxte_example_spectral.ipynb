{
 "cells": [
  {
   "cell_type": "markdown",
   "metadata": {},
   "source": [
    "# A simple RXTE spectral extraction example\n",
    "\n",
    "Here we just show how to get a list of RXTE observations of a given source, construct a file list to the standard products, and extract spectra in physical units using PyXspec."
   ]
  },
  {
   "cell_type": "code",
   "execution_count": null,
   "metadata": {},
   "outputs": [],
   "source": [
    "import sys,os,glob\n",
    "import pyvo as vo\n",
    "import numpy as np\n",
    "import matplotlib.pyplot as plt\n",
    "%matplotlib inline  \n",
    "import astropy.io.fits as fits\n",
    "import xspec\n",
    "xspec.Xset.allowPrompting = False \n",
    "# Ignore unimportant warnings\n",
    "import warnings\n",
    "warnings.filterwarnings('ignore', '.*Unknown element mirrorURL.*', \n",
    "                        vo.utils.xml.elements.UnknownElementWarning)"
   ]
  },
  {
   "cell_type": "markdown",
   "metadata": {},
   "source": [
    "First query the HEASARC for its catalogs related to XTE.  For more on using PyVO to find observations, see [NAVO's collection of notebook tutorials](https://nasa-navo.github.io/navo-workshop/).  "
   ]
  },
  {
   "cell_type": "code",
   "execution_count": null,
   "metadata": {},
   "outputs": [],
   "source": [
    "#  First query the Registry to get the HEASARC TAP service.\n",
    "tap_services=vo.regsearch(servicetype='tap',keywords=['heasarc'])\n",
    "#  Then query that service for the names of the tables it serves.\n",
    "heasarc_tables=tap_services[0].service.tables\n",
    "\n",
    "for tablename in heasarc_tables.keys():\n",
    "    if \"xte\" in tablename:  \n",
    "        print(\" {:20s} {}\".format(tablename,heasarc_tables[tablename].description))\n",
    " "
   ]
  },
  {
   "cell_type": "markdown",
   "metadata": {},
   "source": [
    "Query the xtemaster catalog for observations of Eta Car"
   ]
  },
  {
   "cell_type": "code",
   "execution_count": null,
   "metadata": {},
   "outputs": [],
   "source": [
    "# Get the coordinate for Eta Car\n",
    "import astropy.coordinates as coord\n",
    "pos=coord.SkyCoord.from_name(\"eta car\")\n",
    "query=\"\"\"SELECT target_name, cycle, prnb, obsid, time, exposure, ra, dec \n",
    "    FROM public.xtemaster as cat \n",
    "    where \n",
    "    contains(point('ICRS',cat.ra,cat.dec),circle('ICRS',{},{},0.1))=1 \n",
    "    and \n",
    "    cat.exposure > 0 order by cat.time\n",
    "    \"\"\".format(pos.ra.deg, pos.dec.deg)\n",
    "results=tap_services[0].search(query).to_table()\n",
    "results"
   ]
  },
  {
   "cell_type": "code",
   "execution_count": null,
   "metadata": {},
   "outputs": [],
   "source": [
    "## Need cycle number as well, since after AO9, \n",
    "##  no longer 1st digit of proposal number\n",
    "ids=np.unique( results['cycle','prnb','obsid'])\n",
    "ids"
   ]
  },
  {
   "cell_type": "markdown",
   "metadata": {},
   "source": [
    "At this point, you need to construct a file list.  There are a number of ways to do this, but this one is just using our knowledge of how the RXTE archive is structured.  This code block limits the results to a particular proposal ID to make this quick, but you could remove that restriction and wait longer:"
   ]
  },
  {
   "cell_type": "code",
   "execution_count": null,
   "metadata": {},
   "outputs": [],
   "source": [
    "## Construct a file list.\n",
    "rootdir=\"/FTP\"\n",
    "rxtedata=\"rxte/data/archive\"\n",
    "filenames=[]\n",
    "for (k,val) in enumerate(ids['obsid']):\n",
    "    #  Skip some for a quicker test case\n",
    "    if ids['prnb'][k]!=80001:\n",
    "        continue\n",
    "    fname=\"{}/{}/AO{}/P{}/{}/stdprod/xp{}_s2.pha.gz\".format(\n",
    "        rootdir,\n",
    "        rxtedata,\n",
    "        ids['cycle'][k],\n",
    "        ids['prnb'][k],\n",
    "        ids['obsid'][k],\n",
    "        ids['obsid'][k].replace('-',''))\n",
    "    #print(fname)\n",
    "    f=glob.glob(fname)\n",
    "    if (len(f) > 0):\n",
    "        filenames.append(f[0])\n",
    "print(\"Found {} out of {} files\".format(len(filenames),len(ids)))"
   ]
  },
  {
   "cell_type": "code",
   "execution_count": null,
   "metadata": {},
   "outputs": [],
   "source": [
    "print(type(ids['obsid'][k]))\n",
    "print(type('-'))\n",
    "import inspect,astropy\n",
    "inspect.getfile(astropy)"
   ]
  },
  {
   "cell_type": "markdown",
   "metadata": {},
   "source": [
    "Now we have to use our knowledge of [PyXspec](https://heasarc.gsfc.nasa.gov/xanadu/xspec/python/html/quick.html) to convert the spectra into physical units.  Then we use Matplotlib to plot, since the Xspec plotter is not available here.  \n",
    "\n",
    "(Note that there will be errors when the code tries to read in the background and response files from the working directory.  We then specify them explicitly.)  "
   ]
  },
  {
   "cell_type": "code",
   "execution_count": null,
   "metadata": {
    "scrolled": true,
    "tags": []
   },
   "outputs": [],
   "source": [
    "dataset=[]\n",
    "xref=np.arange(0.,50.,1)\n",
    "for f in filenames[0:500]:\n",
    "    xspec.AllData.clear()  # clear out any previously loaded dataset\n",
    "    ## Ignore the errors it will print about being unable\n",
    "    ##  to find response or background\n",
    "    s = xspec.Spectrum(f)\n",
    "    ## Then specify with the correct path.  \n",
    "    s.background=f.replace(\"_s2.pha\",\"_b2.pha\")\n",
    "    s.response=f.replace(\"_s2.pha\",\".rsp\")\n",
    "    xspec.Plot.area=True\n",
    "    xspec.Plot.xAxis = \"keV\"\n",
    "    xspec.Plot.add = True\n",
    "    xspec.Plot(\"data\")\n",
    "    xspec.Plot.background = True\n",
    "    xVals = xspec.Plot.x()\n",
    "    yVals = xspec.Plot.y()\n",
    "    yref= np.interp(xref, xVals, yVals) \n",
    "    dataset.append( yref )\n"
   ]
  },
  {
   "cell_type": "code",
   "execution_count": null,
   "metadata": {},
   "outputs": [],
   "source": [
    "fig, ax = plt.subplots(figsize=(10,6))\n",
    "\n",
    "for s in dataset:\n",
    "    ax.plot(xref,s)\n",
    "ax.set_xlabel('Energy (keV)')\n",
    "ax.set_ylabel(r'counts/cm$^2$/s/keV')\n",
    "ax.set_xscale(\"log\")\n",
    "ax.set_yscale(\"log\")"
   ]
  },
  {
   "cell_type": "markdown",
   "metadata": {},
   "source": [
    "And now you can put these into your favorite spectral analysis program like [PyXspec](https://heasarc.gsfc.nasa.gov/xanadu/xspec/python/html/quick.html) or into an AI/ML analysis following [our lightcurve example](rxte_example_lightcurves.ipynb).\n",
    "\n",
    "If you prefer to use the Xspec plot routines, you can do so but only using an output file.  It cannot open a window through a notebook running on SciServer.  So here's an example using a GIF output file and then displaying the result in the notebook:"
   ]
  },
  {
   "cell_type": "code",
   "execution_count": null,
   "metadata": {},
   "outputs": [],
   "source": [
    "xspec.Plot.splashPage=None\n",
    "xspec.Plot.device='spectrum.gif/GIF'\n",
    "xspec.Plot.xLog = True\n",
    "xspec.Plot.yLog = True\n",
    "xspec.Plot.background = False\n",
    "xspec.Plot()\n",
    "xspec.Plot.device='/null'"
   ]
  },
  {
   "cell_type": "code",
   "execution_count": null,
   "metadata": {},
   "outputs": [],
   "source": [
    "from IPython.display import Image\n",
    "with open('spectrum.gif','rb') as f:\n",
    "    display(Image(data=f.read(), format='gif',width=500))"
   ]
  },
  {
   "cell_type": "code",
   "execution_count": null,
   "metadata": {},
   "outputs": [],
   "source": []
  }
 ],
 "metadata": {
  "kernelspec": {
   "display_name": "(heasoft)",
   "language": "python",
   "name": "heasoft"
  },
  "language_info": {
   "codemirror_mode": {
    "name": "ipython",
    "version": 3
   },
   "file_extension": ".py",
   "mimetype": "text/x-python",
   "name": "python",
   "nbconvert_exporter": "python",
   "pygments_lexer": "ipython3",
   "version": "3.9.16"
  }
 },
 "nbformat": 4,
 "nbformat_minor": 4
}

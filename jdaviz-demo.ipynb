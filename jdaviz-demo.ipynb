{
 "cells": [
  {
   "cell_type": "markdown",
   "id": "4210b53d-20ab-461e-a438-a30beb58036a",
   "metadata": {},
   "source": [
    "## An Demo for using jdaviz on Sciserver\n",
    "\n",
    "[jdaviz](https://jdaviz.readthedocs.io/en/latest/) is a package of astronomical data analysis visualization tools based on the Jupyter platform. These GUI-based tools link data visualization and interactive analysis.\n",
    "\n",
    "\n",
    "`jdaviz` includes several tools. Here, we will focus on using `Imviz`, which is a tool for visualization and quick-look analysis for 2D astronomical images, so it can be used to analyze images, create and modify regions files such as those needed in many X-ray analysis pipelines.\n",
    "\n",
    "We will walk through the simple steps of using `Imviz` on sciserver. For more details on using the tool, please refer to the main [jdaviz site](https://jdaviz.readthedocs.io/en/latest/).\n",
    "\n",
    "\n",
    "---\n"
   ]
  },
  {
   "cell_type": "markdown",
   "id": "97ee77bb-a773-4bc6-ab36-463c02540c6a",
   "metadata": {},
   "source": [
    "Say we are analyzing NuSTAR data of some point source and we want to extract the spectra. We typically need to either pass the source and background selection as RA and DEC positions along with selection region information such as the radius, or we can create the region files for the source and backgorund and pass those to the extraction pipeline. In this example, we will use the latter.\n",
    "\n",
    "For the purpose of this example, we will copy the cleaned event file for the FMPA detector from the archive. We will use observation `60001084002` of `3C 382`.\n",
    "\n",
    "Using [`xamin`](https://heasarc.gsfc.nasa.gov/xamin/) to search for NuSTAR observations of `3C 382`, we find that the data for this obsid is located in: `/FTP/nustar/data/obs/00/6//60001084002/`.\n",
    "\n",
    "First, we use the `extractor` tool from `heasoftpy` to extract an image from the event file"
   ]
  },
  {
   "cell_type": "code",
   "execution_count": null,
   "id": "0eea8cbd-ebd7-49de-83d0-2fd29d45bbfb",
   "metadata": {
    "scrolled": true,
    "tags": []
   },
   "outputs": [],
   "source": [
    "# import heasoftpy to use for image extraction\n",
    "import heasoftpy as hsp\n",
    "\n",
    "# Imviz for working with the images\n",
    "from jdaviz import Imviz\n",
    "%matplotlib inline"
   ]
  },
  {
   "cell_type": "code",
   "execution_count": null,
   "id": "31f799dd-ca66-4dd6-a29f-fbea8228c562",
   "metadata": {},
   "outputs": [],
   "source": [
    "evt_file = '/FTP/nustar/data/obs/00/6//60001084002/event_cl/nu60001084002A01_cl.evt.gz'\n",
    "\n",
    "inPars = {\n",
    "    'filename'  : evt_file,\n",
    "    'eventsout' : 'NONE',\n",
    "    'imgfile'   : 'nu_image.fits',\n",
    "    'phafile'   : 'NONE',\n",
    "    'xcolf'     : 'X',\n",
    "    'ycolf'     : 'Y',\n",
    "    'noprompt'  : True\n",
    "}\n",
    "\n",
    "# run the task\n",
    "res = hsp.extractor(**inPars)"
   ]
  },
  {
   "cell_type": "markdown",
   "id": "b67e81a8-130d-44a8-81b4-a04727488c1a",
   "metadata": {
    "tags": []
   },
   "source": [
    "After the image is extracted, we use `Imviz` to load the image, so we can create the region files.\n",
    "\n",
    "We now proceed by creating a source and background region.\n",
    "These are named by default: `Subset 1` and `Subset 2`.\n",
    "This can be done by first selecting the region button (the circle with two dots inside, the third from the right in the top menu), then creating a region around the source (this will be designated Subset1). To create a new region for the background, select 'No Selection (create new)' from the dropdown list next to 'Import Data', as shown in the following image:\n",
    "\n",
    "<img src='_files/jdaviz_demo.gif'/>"
   ]
  },
  {
   "cell_type": "code",
   "execution_count": null,
   "id": "6532a77d-bd7d-4161-abba-84bc136f2f4f",
   "metadata": {},
   "outputs": [],
   "source": [
    "# initlialize the tool\n",
    "imviz = Imviz()\n",
    "viewer = imviz.default_viewer\n",
    "\n",
    "\n",
    "# load the image\n",
    "imviz.load_data('nu_image.fits')\n",
    "\n",
    "# display the tool\n",
    "imviz.show()"
   ]
  },
  {
   "cell_type": "markdown",
   "id": "ce8ba867-9332-43ed-893a-81349bee5273",
   "metadata": {},
   "source": [
    "We now proceed by creating a source and background region.\n",
    "These are named by default: `Subset 1` and `Subset 2`\n",
    "\n",
    "The regions can be saved using the following:"
   ]
  },
  {
   "cell_type": "code",
   "execution_count": null,
   "id": "30827bc2-9735-4797-8974-b72b81657beb",
   "metadata": {},
   "outputs": [],
   "source": [
    "regions = imviz.get_interactive_regions()\n",
    "print(regions)"
   ]
  },
  {
   "cell_type": "code",
   "execution_count": null,
   "id": "933a5bfe-32c5-477b-b30c-35bff244edc8",
   "metadata": {},
   "outputs": [],
   "source": [
    "regions['Subset 1'].write('source.reg', format='ds9', overwrite=True)\n",
    "regions['Subset 2'].write('background.reg', format='ds9', overwrite=True)\n",
    "\n",
    "# let's check the created region files:\n",
    "!cat source.reg\n",
    "!cat background.reg"
   ]
  },
  {
   "cell_type": "markdown",
   "id": "d44ad1eb-8278-4707-8a64-4cae866d41f8",
   "metadata": {},
   "source": [
    "These files can now be passed to the `nuproduct` tool to extract the source and background spectra.\n",
    "\n",
    "More details on using jdaviz can be found in the [pacakge documentation](https://jdaviz.readthedocs.io/en/latest/imviz/index.html)."
   ]
  },
  {
   "cell_type": "code",
   "execution_count": null,
   "id": "b761762f-6525-4233-892b-b23bd02f7a03",
   "metadata": {},
   "outputs": [],
   "source": []
  }
 ],
 "metadata": {
  "kernelspec": {
   "display_name": "(heasoft)",
   "language": "python",
   "name": "heasoft"
  },
  "language_info": {
   "codemirror_mode": {
    "name": "ipython",
    "version": 3
   },
   "file_extension": ".py",
   "mimetype": "text/x-python",
   "name": "python",
   "nbconvert_exporter": "python",
   "pygments_lexer": "ipython3",
   "version": "3.9.15"
  }
 },
 "nbformat": 4,
 "nbformat_minor": 5
}

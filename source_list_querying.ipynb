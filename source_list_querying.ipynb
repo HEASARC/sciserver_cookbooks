{
 "cells": [
  {
   "cell_type": "markdown",
   "id": "25fd7abb",
   "metadata": {},
   "source": [
    "# Example of a large catalog exploration with a list of sources\n",
    "\n",
    "In this example, a user has a catalog of several thousand sources they are interested in.  They'd like to find out if they've been observed by HEASARC missions and what the total exposure each sources has for that mission.  This can be done in a variety of inefficient ways such as writing a script to call one of the HEASARC APIs for each of the sources.  But we encourage users to discover the power of querying databases with SQL.  \n",
    "\n",
    "This tutorial is a HEASARC-specific example of a more general workflow querying astronomy databases with Virtual Observatory protocols as described in our <a href=\"https://heasarc.gsfc.nasa.gov/navo/summary/about_navo.html\">NASA Astronomical Virtual Observatories</a>  (NAVO) <a href=\"https://nasa-navo.github.io/navo-workshop/CS_Catalog_Queries.html\">workshop notebook</a>.  \n",
    "\n",
    "The step in this tutorial are:\n",
    "1. Prepare the input source list as VO table in XML format.\n",
    "2. Find the list of HEASARC missions to be queried.\n",
    "3. Submit and SQL query."
   ]
  },
  {
   "cell_type": "code",
   "execution_count": null,
   "id": "3c9652ff",
   "metadata": {},
   "outputs": [],
   "source": [
    "# suppress some specific warnings that are not important\n",
    "import warnings\n",
    "warnings.filterwarnings(\"ignore\", module=\"astropy.io.votable.*\")\n",
    "warnings.filterwarnings(\"ignore\", module=\"pyvo.utils.xml.*\")\n",
    "warnings.filterwarnings(\"ignore\", module=\"astropy.units.format.vounit\")\n",
    "\n",
    "## Generic VO access routines\n",
    "import pyvo as vo\n",
    "from astropy.table import Table\n",
    "from astropy.io.votable import from_table, writeto\n",
    "from astropy.io import ascii"
   ]
  },
  {
   "cell_type": "markdown",
   "id": "93f20ceb",
   "metadata": {},
   "source": [
    "As described in the NAVO workshop notebooks linked above, the first step is to create an object that represents a tool to query the HEASARC catalogs.  "
   ]
  },
  {
   "cell_type": "code",
   "execution_count": null,
   "id": "8cc12c4a",
   "metadata": {},
   "outputs": [],
   "source": [
    "#  Get HEASARC's TAP service:\n",
    "tap_services = vo.regsearch(servicetype='tap',keywords=['heasarc'])\n",
    "for s in tap_services:\n",
    "    if 'heasarc' in s.ivoid:\n",
    "        heasarc = s\n",
    "        break\n",
    "heasarc.describe()"
   ]
  },
  {
   "cell_type": "markdown",
   "id": "cca4ef05",
   "metadata": {},
   "source": [
    "---\n",
    "## 1. Prepare the input source list as VO table in XML format:\n",
    "\n",
    "VO protocols use the VOTable standard for tables, which is both powerful and complicated.  But astropy has easy tools to convert to and from this XML format. \n",
    "\n",
    "Typically, you may start from a list of sources you want to query. In this tutorial, we first create this list in comma-separated value (CSV) format to be used as our input. The file `inlist_10k.csv` contains a list of 10000 RA and DEC values.\n",
    "\n",
    "We then create a VOTable version that can be used in our query below.  "
   ]
  },
  {
   "cell_type": "code",
   "execution_count": null,
   "id": "fe1a5be5",
   "metadata": {},
   "outputs": [],
   "source": [
    "##  This is how I generated my input list in the first place.  Comment out and replace with your own: \n",
    "result = heasarc.service.run_sync(\"select ra, dec from xray limit 10000\")\n",
    "ascii.write(result.to_table(), \"inlist_10k.csv\", overwrite=True, format='csv')\n",
    "\n",
    "## Input a list of sources in CSV format\n",
    "input_table = Table.read(\"inlist_10k.csv\",format=\"csv\")\n",
    "\n",
    "#  Convert to VOTable\n",
    "votable = from_table(input_table)\n",
    "writeto(votable,\"longlist.xml\")"
   ]
  },
  {
   "cell_type": "markdown",
   "id": "ccd0ab7c-dc22-4e17-b65f-f331a1a51147",
   "metadata": {},
   "source": [
    "## 2. Find the list of HEASARC missions to be queried."
   ]
  },
  {
   "cell_type": "markdown",
   "id": "3b38a666",
   "metadata": {},
   "source": [
    "Note that you may also wish to generate a list of all of our master catalogs.  In the case of the HEASARC, we have of order a thousand different catalogs, most of which are scientific results rather than mission observation tables.  So you don't want to print all of our catalogs but a selection of them.  For instance, you can do it this way:"
   ]
  },
  {
   "cell_type": "code",
   "execution_count": null,
   "id": "dfdb4021",
   "metadata": {
    "scrolled": true
   },
   "outputs": [],
   "source": [
    "master_catalogs=[]\n",
    "for c in heasarc.service.tables:\n",
    "    if \"master\" in c.name or \"mastr\" in c.name:\n",
    "        master_catalogs.append(c.name)\n",
    "print(master_catalogs)"
   ]
  },
  {
   "cell_type": "markdown",
   "id": "67e46adb",
   "metadata": {},
   "source": [
    "## 3. Submit and SQL query.\n",
    "\n",
    "The next step is to construct a query in the SQL language, specifically a dialect created for astronomical queries, the ADQL.  This is also described briefly in the <a href=\"https://nasa-navo.github.io/navo-workshop/CS_Catalog_Queries.html\">workshop notebook</a> among other places.  \n",
    "\n",
    "Note also that each service can show you examples that its curators have put together to demonstrate, e.g.:"
   ]
  },
  {
   "cell_type": "code",
   "execution_count": null,
   "id": "c8f947a0",
   "metadata": {},
   "outputs": [],
   "source": [
    "for e in heasarc.service.examples:\n",
    "    print(e['QUERY'])"
   ]
  },
  {
   "cell_type": "markdown",
   "id": "d9b835f7",
   "metadata": {},
   "source": [
    "<br />\n",
    "\n",
    "For our use case, we need to do something a bit more complicated involving a *cross-match* between our source list and the HEASARC master catalog for a given mission. While it may be possible to construct an even more complicated query that does all of the HEASARC master catalogs in one go, that may overload the servers, as does repeating the same query 10 thousand times for individual sources. The recommended approch is to do a 10 thousand sources cross match in a few dozen queries to the master catalogs.\n",
    "\n",
    "So let's start with the Chandra master catalog `chanmaster`.  You can then repeat the exercise for all of the others.\n",
    "\n",
    "For a cross-match, you can simply upload your catalog with your query as an XML file, and at that point, you tell the service what to name it.  In this case, we call it `mytable`.  Then in your SQL, the table name is `tap_upload.mytable` and it otherwise behaves like any other table. Our list of sources had two columns named RA and DEC, so they are likewise refered to that way in the SQL.  \n",
    "\n",
    "To compare your source list coordinates with the coordinates in the given master observation table, you an use the special `ADQL` functions `POINT`, `CIRCLE`, and `CONTAINS`, which do basically what they sound like.  The query below matches the input source list against `chanmaster` based on a radius of 0.01 degrees.  For each source, it sums all `chanmaster` observations' exposures to give the total exposure and counts how many observations that was:"
   ]
  },
  {
   "cell_type": "code",
   "execution_count": null,
   "id": "9e70f855",
   "metadata": {},
   "outputs": [],
   "source": [
    "#  Construct a query to chanmaster to total the exposures\n",
    "#   for all of the uploaded sources in the list:\n",
    "query=\"\"\"\n",
    "    SELECT cat.name, cat.ra, cat.dec, sum(cat.exposure) as total_exposure, count(*) as num_obs\n",
    "    FROM chanmaster cat, tap_upload.mytable mt\n",
    "    WHERE\n",
    "    CONTAINS(POINT('ICRS',cat.ra,cat.dec),CIRCLE('ICRS',mt.ra,mt.dec,0.01))=1\n",
    "    GROUP BY cat.name, cat.ra, cat.dec \"\"\""
   ]
  },
  {
   "cell_type": "code",
   "execution_count": null,
   "id": "c27e6c6a",
   "metadata": {},
   "outputs": [],
   "source": [
    "#  Send the query to the HEASARC server:\n",
    "result = heasarc.service.run_sync(query, uploads={'mytable': 'longlist.xml'})\n",
    "#  Convert the result to an Astropy Table\n",
    "mytable = result.to_table()\n",
    "mytable"
   ]
  },
  {
   "cell_type": "markdown",
   "id": "bef48f9e",
   "metadata": {},
   "source": [
    "The above shows that of our 10k sources, roughly a dozen (since the catalogs are updated daily and the row order may change, these numbers will change between runs of this notebook) were observed anywhere from once to over a thousand times.  \n",
    "\n",
    "Lastly, you can convert the results back into CSV if you wish:"
   ]
  },
  {
   "cell_type": "code",
   "execution_count": null,
   "id": "eb4e6f74",
   "metadata": {},
   "outputs": [],
   "source": [
    "ascii.write(mytable, \"results_chanmaster.csv\", overwrite=True, format='csv')"
   ]
  },
  {
   "cell_type": "markdown",
   "id": "3261db9b-4b2e-44c8-a897-34a30a01a3c6",
   "metadata": {},
   "source": [
    "Note that sources with slightly different coordinates in the catalogs are summed separately here. If you want to group by the **average** `RA` and `DEC`, the query can be modified to the following, which will average the RA and DEC values that are slightly different for the same source.\n",
    "\n",
    "```python\n",
    "query=\"\"\"\n",
    "    SELECT cat.name, AVG(cat.ra) as avg_ra, AVG(cat.dec) as avg_dec, sum(cat.exposure) as total_exposure, count(*) as num_obs\n",
    "    FROM chanmaster cat, tap_upload.mytable mt\n",
    "    WHERE\n",
    "    CONTAINS(POINT('ICRS',cat.ra,cat.dec),CIRCLE('ICRS',mt.ra,mt.dec,0.01))=1\n",
    "    GROUP BY cat.name \"\"\"\n",
    "\n",
    "```"
   ]
  },
  {
   "cell_type": "code",
   "execution_count": null,
   "id": "c60b3ff0-5783-41ea-94a5-afefecfa81b0",
   "metadata": {},
   "outputs": [],
   "source": []
  }
 ],
 "metadata": {
  "kernelspec": {
   "display_name": "Python 3 (ipykernel)",
   "language": "python",
   "name": "python3"
  },
  "language_info": {
   "codemirror_mode": {
    "name": "ipython",
    "version": 3
   },
   "file_extension": ".py",
   "mimetype": "text/x-python",
   "name": "python",
   "nbconvert_exporter": "python",
   "pygments_lexer": "ipython3",
   "version": "3.11.7"
  }
 },
 "nbformat": 4,
 "nbformat_minor": 5
}

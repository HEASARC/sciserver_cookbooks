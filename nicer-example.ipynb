{
 "cells": [
  {
   "cell_type": "markdown",
   "id": "78865fdf-915e-4ea6-ab93-70ab39119a10",
   "metadata": {},
   "source": [
    "# An Example Analysing NICER Data One Sciserver\n",
    "\n",
    "In this tutorial, we will go through the steps of analyzing a NICER observation of `PSR_B0833-45` (`obsid = 4142010107`) using `heasoftpy`.\n",
    "\n",
    "The following assumes this notebook is run from the (heasoft) environment on Sciserver. You should see `(Heasoft)` at the top right of the notebook. If not, click there and select `(Heasoft)`. Heasoft higher than v6.31 is required in order to be able to run `nicerl3` tools.\n",
    "\n",
    "If running outside sciserver, please ensure that heasoft v6.31 or above is installed."
   ]
  },
  {
   "cell_type": "code",
   "execution_count": null,
   "id": "7412c859-1f3e-40e4-8bbd-cd77fc3c67b3",
   "metadata": {},
   "outputs": [],
   "source": [
    "## Import libraries that we will need.\n",
    "import heasoftpy as hsp\n",
    "import xspec as xs\n",
    "from astropy.io import fits\n",
    "from astropy.table import Table\n",
    "import os\n",
    "import sys\n",
    "import matplotlib.pylab as plt\n",
    "import numpy as np"
   ]
  },
  {
   "cell_type": "markdown",
   "id": "31093f5e-1341-45f7-9b97-2230eb72c1f2",
   "metadata": {},
   "source": [
    "# Set up the NICER obsid directory\n",
    "\n",
    "We are using OBSID `4142010107`. The data archive is mounted under `/FTP/..`. To find the exact location of the observation, we can use `pyvo` to query the archive using the VO services, or use Xamin, as illustrated in the `Getting-Started` and `data_access` notebooks\n",
    "\n",
    "Because nicerl2 may modify of the observation directory, we copy it from the data location."
   ]
  },
  {
   "cell_type": "code",
   "execution_count": null,
   "id": "992807b5-e7f4-44e9-973b-0523522be051",
   "metadata": {},
   "outputs": [],
   "source": [
    "nicerobsID = '4020180460'\n",
    "dataLocation = f'/FTP/nicer/data/obs/2021_12/{nicerobsID}'\n",
    "work_dir = os.getcwd()\n",
    "\n",
    "if not os.path.exists(nicerobsID):\n",
    "    os.system(f'cp -r {dataLocation} {work_dir}')"
   ]
  },
  {
   "cell_type": "markdown",
   "id": "fd4623dd-a4f2-41fa-8125-731f5693e30d",
   "metadata": {},
   "source": [
    "# Process and Clean the Data.\n",
    "Next, we run the `nicerl2` pipeline to process and clean the data using `heasoftpy`\n",
    "\n",
    "There are different ways of calling a `heasoftpy` task. Here, we first create a dictionary that contains the input parameters for the `nicerl2` task, which is then passed to `hsp.nicerl2`"
   ]
  },
  {
   "cell_type": "code",
   "execution_count": null,
   "id": "e38f4c81-30ae-4573-8322-44c315869cb3",
   "metadata": {},
   "outputs": [],
   "source": [
    "# input\n",
    "inPars = {\n",
    "    'indir': nicerobsID,\n",
    "    'geomag_path': '/FTP/caldb/data/gen/pcf/geomag/',\n",
    "    'filtcolumns': 'NICERV4',\n",
    "    \n",
    "    'clobber': True, \n",
    "    'noprompt': True,\n",
    "}\n",
    "\n",
    "# run the task\n",
    "out = hsp.nicerl2(inPars)\n",
    "\n",
    "# check that everything run correctly\n",
    "if out.returncode == 0: \n",
    "    print(f'{nicerobsID} processed sucessfully!')\n",
    "else:\n",
    "    logfile = f'process_nicer_{nicerobsID}.log'\n",
    "    print(f'ERROR processing {nicerobsID}; Writing log to {logfile}')\n",
    "    with open(logfile, 'w') as fp:\n",
    "        fp.write('\\n'.join(out.output))"
   ]
  },
  {
   "cell_type": "markdown",
   "id": "8f3e146c-d8ef-41e3-8208-7ab35783ef4e",
   "metadata": {},
   "source": [
    "# Extract the Spectra using `nicerl3-spect`\n",
    "\n",
    "We use `nicerl3-spect3` (which is available in heasoft v6.31 and up).\n",
    "\n",
    "#### Note\n",
    "> Note that the `-` symbol in the name is replace by `_` when calling the equivalent python name, so that `nicerl3-spect3` becomes `nicerl3_spect3`\n",
    "\n",
    "\n",
    "For this example, we use the `scorpeon` background model to create a background pha file. You can choose other models too, if needed.\n",
    "\n",
    "The spectra are written to the `spec` directory. \n",
    "\n",
    "Note that we set the parameter `updatepha` to `yes`, so that the header of the spectral file is modifered to point to the relevant response and background files."
   ]
  },
  {
   "cell_type": "code",
   "execution_count": null,
   "id": "be1b2542-6431-4cb6-8f0e-9e85ad62ba07",
   "metadata": {},
   "outputs": [],
   "source": [
    "# Setup the output directory\n",
    "os.chdir(work_dir)\n",
    "outdir = 'spec'\n",
    "if not os.path.exists(outdir):\n",
    "    os.system(f'mkdir -p {outdir}')\n",
    "\n",
    "# input parameters\n",
    "inPars = {\n",
    "    'indir'       : nicerobsID,\n",
    "    'phafile'     : f'spec.pha',\n",
    "    'rmffile'     : f'spec.rmf',\n",
    "    'arffile'     : f'spec.arf',\n",
    "    'bkgfile'     : f'spec_sc.bgd',\n",
    "    'grouptype'   : 'optmin',\n",
    "    'groupscale'  : 5,\n",
    "    'updatepha'   : 'yes',\n",
    "    'bkgformat'   : 'file',\n",
    "    'bkgmodeltype': 'scorpeon', \n",
    "    'clobber'     : True,\n",
    "    'noprompt'    : True,\n",
    "}\n",
    "\n",
    "# run the spectral extraction task\n",
    "out = hsp.nicerl3_spect(inPars)\n",
    "\n",
    "# check that the task run correctly\n",
    "if out.returncode == 0: \n",
    "    print(f'Extracted the spectrum sucessfully!')\n",
    "    os.system(f'mv spec*.* {outdir}')\n",
    "else:\n",
    "    logfile = f'nicerl3_spect_{nicerobsID}.log'\n",
    "    print(f'ERROR in nicerl3-spect {nicerobsID}; Writing log to {logfile}')\n",
    "    with open(logfile, 'w') as fp:\n",
    "        fp.write('\\n'.join(out.output))\n",
    "        "
   ]
  },
  {
   "cell_type": "markdown",
   "id": "f527522e-2ef1-43f6-a56b-a6f03331fe63",
   "metadata": {},
   "source": [
    "# Extract the Light Curve using `nicerl3-lc`\n",
    "\n",
    "We use `nicerl3-lc` (which is available in heasoft v6.31 and up).\n",
    "\n",
    "#### Note\n",
    "> Note that, similar to `nicerl3_spect`, the `-` symbol in the name is replace by `_` when calling the equivalent python name, so that `nicerl3-lc` becomes `nicerl3_lc`\n",
    "\n",
    "\n",
    "Note that no background light curve is estimated\n"
   ]
  },
  {
   "cell_type": "code",
   "execution_count": null,
   "id": "90e36989-8404-4edf-b35b-ab9d260c64fa",
   "metadata": {},
   "outputs": [],
   "source": [
    "# extract light curve\n",
    "os.chdir(work_dir)\n",
    "\n",
    "# input parameters\n",
    "inPars = {\n",
    "    'indir'       : nicerobsID,\n",
    "    'timebin'     : 10,\n",
    "    'lcfile'      : 'lc.fits',\n",
    "    \n",
    "    'clobber'     : True,\n",
    "    'noprompt'    : True,\n",
    "}\n",
    "\n",
    "# run the light curve task\n",
    "out = hsp.nicerl3_lc(inPars)\n",
    "\n",
    "# check the task runs correctly\n",
    "if out.returncode == 0: \n",
    "    print(f'Extracted the light curve sucessfully!')\n",
    "else:\n",
    "    logfile = f'nicerl3_lc_{nicerobsID}.log'\n",
    "    print(f'ERROR in nicerl3-lc {nicerobsID}; Writing log to {logfile}')\n",
    "    with open(logfile, 'w') as fp:\n",
    "        fp.write('\\n'.join(out.output))"
   ]
  },
  {
   "cell_type": "markdown",
   "id": "e66184ed-95eb-4c7a-a6b4-9905f2bac377",
   "metadata": {},
   "source": [
    "# Analysis\n",
    "\n",
    "## 1. Spectral Analysis\n",
    "Here, we will show an example of how the spectra we just extract can be analyzed using `pyxspec`.\n",
    "\n",
    "The spectra is loaded and fitted with a broken power-law model.\n",
    "\n",
    "We then plot the data using matplotlib"
   ]
  },
  {
   "cell_type": "code",
   "execution_count": null,
   "id": "f361d5fc-8c8b-4305-aaad-940a79db061f",
   "metadata": {},
   "outputs": [],
   "source": [
    "# move to the right location\n",
    "os.chdir(f'{work_dir}/{outdir}')\n",
    "\n",
    "# load the spectra into xspec\n",
    "xs.AllData.clear()\n",
    "spec = xs.Spectrum('spec.pha')\n",
    "spec.ignore('0.0-0.3, 10.0-**')"
   ]
  },
  {
   "cell_type": "code",
   "execution_count": null,
   "id": "b0bcb560-6be6-4f83-b8c2-ecee203f82b0",
   "metadata": {
    "scrolled": true,
    "tags": []
   },
   "outputs": [],
   "source": [
    "# fit a simple absorbed broken powerlaw model\n",
    "model = xs.Model('wabs*bknpow')\n",
    "xs.Fit.perform()"
   ]
  },
  {
   "cell_type": "code",
   "execution_count": null,
   "id": "67c031ae-3076-4920-b718-12901b631644",
   "metadata": {},
   "outputs": [],
   "source": [
    "# Plot the spectra\n",
    "\n",
    "# first get the data to be plotted\n",
    "xs.Plot.device='/null'\n",
    "xs.Plot.xAxis='keV'\n",
    "xs.Plot('lda')\n",
    "cr = xs.Plot.y()\n",
    "crerr = xs.Plot.yErr()\n",
    "en = xs.Plot.x()\n",
    "enwid = xs.Plot.xErr()\n",
    "mop = xs.Plot.model()\n",
    "target = fits.open(spec.fileName)[1].header['OBJECT']\n",
    "\n",
    "# do the plotting\n",
    "fig = plt.figure(figsize=[8,6])\n",
    "plt.ylabel('Cts/s/keV', fontsize=12)\n",
    "plt.xlabel('Energy (keV)', fontsize=12)\n",
    "plt.title('Target = '+target+' OBSID = '+nicerobsID+' wabs*bknpow', fontsize=12)\n",
    "plt.yscale('log')\n",
    "plt.xscale('log')\n",
    "plt.errorbar(en, cr, xerr=enwid, yerr=crerr, fmt='k.', alpha=0.2)\n",
    "plt.plot(en, mop,'r-')"
   ]
  },
  {
   "cell_type": "markdown",
   "id": "8a67480f-e0a2-45de-8e29-49431e4f3b4e",
   "metadata": {},
   "source": [
    "## 2. Plot the Light Curve\n",
    "Next, we going to read the light curve we just generated.\n",
    "\n",
    "Different Good Time Intervals (GTI) are plotted separately.\n",
    "\n",
    "The light curve in the form of a fits file is read using `astropy.io.fits`."
   ]
  },
  {
   "cell_type": "code",
   "execution_count": null,
   "id": "d1bc4952-861a-434f-b024-e7908e013df7",
   "metadata": {},
   "outputs": [],
   "source": [
    "# read the light curve table to lctab, and the GTI table to gtitab\n",
    "os.chdir(work_dir)\n",
    "with fits.open('lc.fits') as fp:\n",
    "    lctab  = Table(fp['rate'].data)\n",
    "    tBin = fp['rate'].header['timedel']\n",
    "    timezero = fp['rate'].header['timezero']\n",
    "    lctab['TIME'] += timezero\n",
    "    gtitab = Table(fp['gti'].data)"
   ]
  },
  {
   "cell_type": "code",
   "execution_count": null,
   "id": "d9bfb8af-a2d8-40f8-b6e5-61d4cde9c3cf",
   "metadata": {},
   "outputs": [],
   "source": [
    "# select GTI's that are withing the start-end time of the light curve\n",
    "gti = []\n",
    "for _gti in gtitab:\n",
    "    g = (lctab['TIME']-tBin/2 >= _gti['START']) & (lctab['TIME']+tBin/2 <= _gti['STOP'])\n",
    "    if np.any(g):\n",
    "        gti.append(g)"
   ]
  },
  {
   "cell_type": "code",
   "execution_count": null,
   "id": "e54cda81-f680-41d8-8291-f96062120061",
   "metadata": {},
   "outputs": [],
   "source": [
    "# We have two GTI's, we plot them.\n",
    "ngti = len(gti)\n",
    "fig, axs = plt.subplots(1, ngti, figsize=[10,3], sharey=True)\n",
    "for i in range(ngti):\n",
    "    tab = lctab[gti[i]]\n",
    "    axs[i].errorbar(tab['TIME'] - timezero, tab['RATE'], yerr=tab['ERROR'], fmt='k.')\n",
    "    \n",
    "    axs[i].set_ylabel('Cts/s', fontsize=12)\n",
    "    axs[i].set_xlabel('Time (s)', fontsize=12)\n",
    "    axs[i].set_yscale('log')\n",
    "    axs[i].set_ylim(40, 500)\n",
    "    \n",
    "plt.tight_layout()"
   ]
  },
  {
   "cell_type": "code",
   "execution_count": null,
   "id": "0cbb1d2a-aec0-4d83-977a-e92efa0850a1",
   "metadata": {},
   "outputs": [],
   "source": []
  }
 ],
 "metadata": {
  "kernelspec": {
   "display_name": "(heasoft)",
   "language": "python",
   "name": "heasoft"
  },
  "language_info": {
   "codemirror_mode": {
    "name": "ipython",
    "version": 3
   },
   "file_extension": ".py",
   "mimetype": "text/x-python",
   "name": "python",
   "nbconvert_exporter": "python",
   "pygments_lexer": "ipython3",
   "version": "3.8.12"
  }
 },
 "nbformat": 4,
 "nbformat_minor": 5
}

{
 "cells": [
  {
   "cell_type": "code",
   "execution_count": 1,
   "id": "74331f47",
   "metadata": {
    "init_cell": true
   },
   "outputs": [],
   "source": [
    "import os\n",
    "os.environ['HEASOFTPYDIR']= os.path.split(os.getcwd())[0]\n",
    "\n",
    "import sys\n",
    "sys.path.insert(0,os.environ['HEASOFTPYDIR'])\n",
    "sys.path\n",
    "\n",
    "\n",
    "from matplotlib.pyplot import *\n",
    "import glob\n",
    "\n",
    "import heasoftpy as hsp\n",
    "import xspec\n",
    "\n",
    "from astropy.table import Table\n",
    "from astropy.time import Time\n",
    "from astropy.io import fits\n",
    "import astropy.units as u"
   ]
  },
  {
   "cell_type": "markdown",
   "id": "330a8f3c-17ed-417b-b1c5-b531d588711a",
   "metadata": {},
   "source": [
    "# Enter your SciServer username in the cell below"
   ]
  },
  {
   "cell_type": "code",
   "execution_count": 8,
   "id": "a401ab89-6985-4f43-96aa-fbb750c71824",
   "metadata": {},
   "outputs": [
    {
     "name": "stdout",
     "output_type": "stream",
     "text": [
      "Setting nicerdatadir to /home/idies/workspace/Temporary/mfacorcoran/scratch\n"
     ]
    }
   ],
   "source": [
    "username = 'mfacorcoran'"
   ]
  },
  {
   "cell_type": "markdown",
   "id": "6ce36357",
   "metadata": {},
   "source": [
    "# Set up the NICER obsid directory\n",
    "\n",
    "We'll copy a NICER observation directory for OBSID 412010107 to our ``Temporary`` directory\n",
    "\n",
    "The OBSID directory   contains the ``xti``, ``auxil`` and ``hk`` directories containing the standard archived data for the observation\n",
    "\n",
    "We'll put the output from nicerl2 in an ``output`` directory separate from the input directory"
   ]
  },
  {
   "cell_type": "code",
   "execution_count": 9,
   "id": "3aeb3bc6-8d7a-4b00-868d-01e8d645bb9b",
   "metadata": {},
   "outputs": [
    {
     "name": "stdout",
     "output_type": "stream",
     "text": [
      "Setting nicerdatadir to /home/idies/workspace/Temporary/mfacorcoran/scratch\n"
     ]
    }
   ],
   "source": [
    "nicerdatadir = f'/home/idies/workspace/Temporary/{username}/scratch'\n",
    "print(f'Setting nicerdatadir to {nicerdatadir}')"
   ]
  },
  {
   "cell_type": "code",
   "execution_count": 10,
   "id": "81202c1c-bc4b-4ccb-815c-96972cedd29b",
   "metadata": {},
   "outputs": [],
   "source": [
    "obsid = '4142010107'"
   ]
  },
  {
   "cell_type": "markdown",
   "id": "404bfcfa-6fec-4a39-a22e-6c789ba01c44",
   "metadata": {},
   "source": [
    "## Find the NICER data directory for OBSID  "
   ]
  },
  {
   "cell_type": "code",
   "execution_count": 11,
   "id": "428117c1-133b-42e4-afae-dd1bd0fb971d",
   "metadata": {},
   "outputs": [
    {
     "data": {
      "text/plain": [
       "'/home/idies/workspace/headata/FTP/nicer/data/obs/2021_11/4142010107'"
      ]
     },
     "execution_count": 11,
     "metadata": {},
     "output_type": "execute_result"
    }
   ],
   "source": [
    "nicerobs = !ls  -d /home/idies/workspace/headata/FTP/nicer/data/obs/*/{obsid}\n",
    "nicerobs = nicerobs[0]\n",
    "nicerobs"
   ]
  },
  {
   "cell_type": "code",
   "execution_count": 12,
   "id": "b369a0e9-d350-4bb9-8ff1-2977fc467d36",
   "metadata": {},
   "outputs": [],
   "source": [
    "cmd = f'cp -r {nicerobs} {nicerdatadir}'\n",
    "stat = os.system(cmd)"
   ]
  },
  {
   "cell_type": "code",
   "execution_count": 13,
   "id": "e3b7c3df",
   "metadata": {
    "init_cell": true
   },
   "outputs": [],
   "source": [
    "cwd = os.getcwd()\n",
    "os.chdir(nicerdatadir)"
   ]
  },
  {
   "cell_type": "code",
   "execution_count": 15,
   "id": "8a250f05-79f7-413c-9e23-a8c5f2603f97",
   "metadata": {},
   "outputs": [
    {
     "data": {
      "text/plain": [
       "'/home/idies/workspace/Temporary/mfacorcoran/scratch'"
      ]
     },
     "execution_count": 15,
     "metadata": {},
     "output_type": "execute_result"
    }
   ],
   "source": [
    "nicerdatadir\n"
   ]
  },
  {
   "cell_type": "code",
   "execution_count": 16,
   "id": "49ea8e71",
   "metadata": {
    "init_cell": true
   },
   "outputs": [
    {
     "name": "stdout",
     "output_type": "stream",
     "text": [
      "Created /home/idies/workspace/Temporary/mfacorcoran/scratch/nicerl2_output/4142010107_out\n"
     ]
    }
   ],
   "source": [
    "nicerobsID = obsid\n",
    "obsdir = os.path.join(nicerdatadir, nicerobsID)\n",
    "\n",
    "# place cleaned output in a separate directory\n",
    "outdir =  os.path.join(os.environ['HOME'],nicerdatadir,'nicerl2_output/'+nicerobsID+'_out')\n",
    "# if outdir doesn't exist, create it\n",
    "if not os.path.exists(outdir):\n",
    "    os.makedirs(outdir)\n",
    "    print(f'Created {outdir}')\n",
    "# copy the mkf file from the input directory to the outdir"
   ]
  },
  {
   "cell_type": "code",
   "execution_count": 17,
   "id": "29501ef6",
   "metadata": {},
   "outputs": [
    {
     "name": "stdout",
     "output_type": "stream",
     "text": [
      "cp /home/idies/workspace/Temporary/mfacorcoran/scratch/4142010107/auxil/ni4142010107.mkf.gz /home/idies/workspace/Temporary/mfacorcoran/scratch/nicerl2_output/4142010107_out/.\n",
      "Setting mkf file to /home/idies/workspace/Temporary/mfacorcoran/scratch/nicerl2_output/4142010107_out/ni4142010107.mkf\n",
      "chmod u+w /home/idies/workspace/Temporary/mfacorcoran/scratch/nicerl2_output/4142010107_out/ni4142010107.mkf*\n"
     ]
    }
   ],
   "source": [
    "mkf = os.path.join(obsdir,'auxil',f'ni{nicerobsID}.mkf')\n",
    "if os.path.exists(mkf):\n",
    "    # see if mkf is gzipped    \n",
    "    cmd = f'cp {mkf} {outdir}/.'\n",
    "    stat=os.system(cmd)\n",
    "    mkf = os.path.join(outdir, os.path.split(mkf)[1])\n",
    "    print(f'Setting mkf file to {mkf}')\n",
    "elif os.path.exists(mkf+'.gz'):\n",
    "    #try to copy gzipped mkf     \n",
    "    cmd = f'cp {mkf}.gz {outdir}/.'\n",
    "    print(cmd)\n",
    "    os.system(cmd)\n",
    "    mkf = os.path.join(outdir, os.path.split(mkf)[1])\n",
    "    print(f'Setting mkf file to {mkf}')\n",
    "    #cmd = f'gunzip -f {mkf}.gz'\n",
    "    #print(cmd)\n",
    "    #stat=os.system(cmd)\n",
    "cmd = f'chmod u+w {mkf}*'\n",
    "print(cmd)\n",
    "stat = os.system(cmd)"
   ]
  },
  {
   "cell_type": "markdown",
   "id": "12b7c4cb",
   "metadata": {},
   "source": [
    "# Create the nicerl2 task"
   ]
  },
  {
   "cell_type": "code",
   "execution_count": 18,
   "id": "b208ae68",
   "metadata": {},
   "outputs": [
    {
     "name": "stdout",
     "output_type": "stream",
     "text": [
      "Start at: 2022-06-07 18:53:11\n",
      "End at: 2022-06-07 18:55:01\n",
      "nicerl2 took: 110.28139174450189 seconds\n"
     ]
    }
   ],
   "source": [
    "tstart = Time.now()\n",
    "print(f'Start at: {tstart.iso[:19]}')\n",
    "nicerl2 = hsp.HSPTask('nicerl2')\n",
    "\n",
    "nicerl2.clobber=\"yes\"\n",
    "#nicerl2.cldir=outdir\n",
    "#nicerl2.mkffile=mkf\n",
    "# add the KP values to the mkf file during nicerl2 processing\n",
    "nicerl2.geomag_path=\"https://heasarc.gsfc.nasa.gov/FTP/caldb/data/gen/pcf/geomag/\"\n",
    "nicerl2.geomag_columns=\"kp_noaa.fits(KP)\"\n",
    "\n",
    "resl2 = nicerl2(indir=nicerobsID, noprompt=True, cldir=outdir, mkfile=mkf)\n",
    "\n",
    "tend = Time.now()\n",
    "print(f'End at: {tend.iso[:19]}')\n",
    "print(f'nicerl2 took: {(tend.mjd-tstart.mjd)*86400} seconds')\n",
    "\n",
    "if resl2.returncode != 0:\n",
    "    print('\\n')\n",
    "    for o in resl2.output[:]:\n",
    "        print(o)\n"
   ]
  },
  {
   "cell_type": "code",
   "execution_count": null,
   "id": "f0469ed0-e514-4793-8a41-d628411d4ab5",
   "metadata": {},
   "outputs": [],
   "source": []
  },
  {
   "cell_type": "markdown",
   "id": "98560cc1",
   "metadata": {},
   "source": [
    "# Extract products from cleaned events file"
   ]
  },
  {
   "cell_type": "code",
   "execution_count": 20,
   "id": "6daaa593",
   "metadata": {},
   "outputs": [],
   "source": [
    "os.chdir(outdir)\n",
    "\n",
    "clevt = f'ni{nicerobsID}_0mpu7_cl.evt'\n",
    "phafile = f'ni{nicerobsID}_0mpu7_cl.pha'\n",
    "lcfile = f'ni{nicerobsID}_0mpu7_cl.lc'\n",
    "res = hsp.extractor(filename=clevt, phafile=phafile, clobber='yes', binlc=10.0,fitsbinlc=lcfile, \n",
    "                    eventsout='NONE', imgfile='NONE', regionfile='NONE', timefile='NONE', tcol='TIME',\n",
    "                    ecol='PI', xcolf='RAWX', xcolh='RAWX',ycolf='RAWY', ycolh='RAWY',\n",
    "                    stokes='NONE')"
   ]
  },
  {
   "cell_type": "code",
   "execution_count": 21,
   "id": "5b24713b-650d-404d-b996-2105d000857a",
   "metadata": {},
   "outputs": [
    {
     "name": "stdout",
     "output_type": "stream",
     "text": [
      "extractor v6.07     8 Apr 2022\n",
      " Getting FITS WCS Keywords\n",
      " Doing file: ni4142010107_0mpu7_cl.evt\n",
      "100% completed\n",
      "          Total      Good    Bad: Time     Phase     Grade       Cut\n",
      "         727352    727352            0         0         0         0\n",
      "===============================================================================\n",
      "    Grand Total      Good    Bad: Time     Phase     Grade       Cut\n",
      "         727352    727352            0         0         0         0\n",
      "   in  1055.0     seconds\n",
      " Fits light curve has  7.2735E+05 counts for   689.4     counts/sec\n",
      " Thresholding removed significant counts\n",
      " Try exposure=0.0 on the extract command in xselect\n",
      " or lcthresh=0.0 if running extractor stand-alone\n",
      " Thresholding removed more than half the bins\n",
      " Try exposure=0.0 on the extract command in xselect\n",
      " or lcthresh=0.0 if running extractor stand-alone\n",
      " Spectrum         has   727352 counts for   689.4     counts/sec\n",
      "Keyword TSTART has two values: 247803405.997195 and 247803493\n",
      "Keyword TSTOP has two values: 247878072.68997 and 247878062\n",
      " ... written the PHA data Extension\n",
      "\n"
     ]
    }
   ],
   "source": [
    "print(res.stdout)"
   ]
  },
  {
   "cell_type": "markdown",
   "id": "cc2d057c",
   "metadata": {},
   "source": [
    "# Analyzing NICER spectra\n",
    "\n",
    "We'll just use the on-axis RMF and ARF files"
   ]
  },
  {
   "cell_type": "code",
   "execution_count": 22,
   "id": "303dbcab",
   "metadata": {},
   "outputs": [],
   "source": [
    "# get the on-axis rmf\n",
    "res = hsp.quzcif(mission='nicer', instrument='xti',detector='-',\n",
    "             filter='-', date='-', time='-',expr='-',codename='MATRIX')\n",
    "rmf = [x.split()[0] for x in res.output if 'nixtiref'  in x][0]\n",
    "\n",
    "# get the on-axis arf\n",
    "res = hsp.quzcif(mission='nicer', instrument='xti',detector='-',\n",
    "             filter='-', date='-', time='-',expr='-',codename='SPECRESP')\n",
    "arf = [x.split()[0] for x in res.output if 'nixtiaveonaxis'  in x][0]\n"
   ]
  },
  {
   "cell_type": "code",
   "execution_count": 23,
   "id": "4367d47a-0869-4453-b2e1-16dbe160a99b",
   "metadata": {},
   "outputs": [
    {
     "name": "stdout",
     "output_type": "stream",
     "text": [
      "ni4142010107.mkf\t    ni4142010107_0mpu5_ufa.evt\n",
      "ni4142010107.mkf.gz\t    ni4142010107_0mpu6_ufa.evt\n",
      "ni4142010107_0mpu0_ufa.evt  ni4142010107_0mpu7_cl.evt\n",
      "ni4142010107_0mpu1_ufa.evt  ni4142010107_0mpu7_cl.lc\n",
      "ni4142010107_0mpu2_ufa.evt  ni4142010107_0mpu7_cl.pha\n",
      "ni4142010107_0mpu3_ufa.evt  ni4142010107_0mpu7_ufa.evt\n",
      "ni4142010107_0mpu4_ufa.evt\n"
     ]
    }
   ],
   "source": [
    "!ls /home/idies/workspace/Storage/mfacorcoran/persistent/nicerl2_output/4142010107_out/"
   ]
  },
  {
   "cell_type": "code",
   "execution_count": 24,
   "id": "01854354",
   "metadata": {},
   "outputs": [
    {
     "name": "stdout",
     "output_type": "stream",
     "text": [
      "\n",
      "1 spectrum  in use\n",
      " \n",
      "Spectral Data File: ni4142010107_0mpu7_cl.pha  Spectrum 1\n",
      "Net count rate (cts/s) for Spectrum:1  6.894e+02 +/- 8.084e-01\n",
      " Assigned to Data Group 1 and Plot Group 1\n",
      "  Noticed Channels:  1-1501\n",
      "  Telescope: NICER Instrument: XTI  Channel Type: PI\n",
      "  Exposure Time: 1055 sec\n",
      " Using fit statistic: chi\n",
      " No response loaded.\n",
      "\n",
      "***Warning!  One or more spectra are missing responses,\n",
      "               and are not suitable for fit.\n",
      "Response successfully loaded.\n",
      "Arf successfully loaded.\n",
      "    30 channels (1-30) ignored in spectrum #     1\n",
      "   502 channels (1000-1501) ignored in spectrum #     1\n",
      "\n"
     ]
    }
   ],
   "source": [
    "xspec.AllData.clear()\n",
    "spec = xspec.Spectrum(phafile)\n",
    "spec.response = rmf\n",
    "spec.response.arf = arf\n",
    "spec.ignore('0.0-0.3, 10.0-**')"
   ]
  },
  {
   "cell_type": "code",
   "execution_count": 26,
   "id": "9aeabbab",
   "metadata": {
    "scrolled": true
   },
   "outputs": [
    {
     "name": "stdout",
     "output_type": "stream",
     "text": [
      "\n",
      "========================================================================\n",
      "Model wabs<1>*bknpower<2> Source No.: 1   Active/On\n",
      "Model Model Component  Parameter  Unit     Value\n",
      " par  comp\n",
      "   1    1   wabs       nH         10^22    1.00000      +/-  0.0          \n",
      "   2    2   bknpower   PhoIndx1            1.00000      +/-  0.0          \n",
      "   3    2   bknpower   BreakE     keV      5.00000      +/-  0.0          \n",
      "   4    2   bknpower   PhoIndx2            2.00000      +/-  0.0          \n",
      "   5    2   bknpower   norm                1.00000      +/-  0.0          \n",
      "________________________________________________________________________\n",
      "\n",
      "\n",
      "Fit statistic  : Chi-Squared              5.535691e+06     using 969 bins.\n",
      "\n",
      "Test statistic : Chi-Squared              5.535691e+06     using 969 bins.\n",
      " Null hypothesis probability of 0.000000e+00 with 964 degrees of freedom\n",
      " Current data and model not fit yet.\n",
      "                                   Parameters\n",
      "Chi-Squared  |beta|/N    Lvl          1:nH    2:PhoIndx1      3:BreakE    4:PhoIndx2        5:norm\n",
      "225828       42512.5       0       1.23784      0.222190       10.1271       1.61151      0.174133\n",
      "163126       57708.3       1       1.24170      0.222699       7.32288       6.01259      0.174003\n",
      "152037       48793.8       0       1.27773      0.208458       7.27158       6.22308      0.175181\n",
      "95797.5      51771.7       0       1.50843      0.125793       6.92410       7.09805      0.184719\n",
      "47319.6      54148.7      -1       2.03654      0.110413       6.33263       6.31617      0.229131\n",
      "35495.7      27830.7      -1       2.28923      0.165993       6.03885       5.54134      0.268658\n",
      "33867.2      17494.2      -2       2.99874      0.575822       5.79958       4.39272      0.454472\n",
      "15924.5      47202.3      -2       3.43078      0.784434       5.54031       3.97679      0.696306\n",
      "8970.96      21968.8      -2       3.65361      0.886005       5.38916       3.71937      0.882005\n",
      "7913.12      6118.2       -2       3.79450      0.951632       5.30582       3.59015       1.00068\n",
      "Number of trials exceeded: continue fitting? 7792         1818.01      -3       4.05235       1.09233       5.30987       3.52618       1.22290\n",
      "7439.16      4434.79      -4       4.15268       1.14424       5.34289       3.54618       1.34518\n",
      "7411.99      946.871      -5       4.17923       1.15952       5.37690       3.58189       1.38050\n",
      "7401.05      87.1765      -6       4.19615       1.17087       5.40917       3.61714       1.40238\n",
      "7391.33      48.4094      -7       4.21091       1.18103       5.43982       3.65144       1.42191\n",
      "7382.75      41.9852      -8       4.22456       1.19041       5.46879       3.68448       1.44018\n",
      "7375.34      37.7482      -9       4.23718       1.19905       5.49588       3.71591       1.45723\n",
      "7369.11      33.7052     -10       4.24874       1.20691       5.52089       3.74538       1.47297\n",
      "7364         29.6975     -11       4.25918       1.21399       5.54364       3.77256       1.48729\n",
      "7359.92      25.7962     -12       4.26849       1.22026       5.56400       3.79719       1.50012\n",
      "Number of trials exceeded: continue fitting? 7356.77      22.0404     -13       4.27665       1.22573       5.58190       3.81908       1.51142\n",
      "7354.43      18.5018     -14       4.28367       1.23042       5.59735       3.83811       1.52120\n",
      "7352.75      15.2983     -15       4.28962       1.23438       5.61043       3.85436       1.52951\n",
      "7351.58      12.4942     -16       4.29460       1.23768       5.62137       3.86801       1.53647\n",
      "7350.78      10.1373     -17       4.29872       1.24041       5.63041       3.87935       1.54225\n",
      "7350.24      8.20049     -18       4.30211       1.24265       5.63786       3.88871       1.54701\n",
      "7349.87      6.63856     -19       4.30489       1.24448       5.64396       3.89641       1.55093\n",
      "7349.63      5.39043     -20       4.30717       1.24598       5.64897       3.90275       1.55414\n",
      "7349.47      4.38518     -21       4.30904       1.24721       5.65308       3.90796       1.55678\n",
      "7349.36      3.58398     -22       4.31058       1.24823       5.65646       3.91225       1.55896\n",
      "Number of trials exceeded: continue fitting? 7349.28      2.93937     -23       4.31185       1.24906       5.65924       3.91579       1.56075\n",
      "7349.23      2.41796     -24       4.31289       1.24975       5.66154       3.91872       1.56223\n",
      "7349.2       1.99404     -25       4.31376       1.25032       5.66344       3.92115       1.56346\n",
      "7349.18      1.64804     -26       4.31448       1.25079       5.66502       3.92316       1.56447\n",
      "7349.16      1.36749     -27       4.31507       1.25118       5.66633       3.92483       1.56532\n",
      "7349.15      1.1346      -28       4.31556       1.25150       5.66741       3.92622       1.56602\n",
      "7349.14      0.943021    -29       4.31598       1.25177       5.66832       3.92738       1.56660\n",
      "============================================================\n",
      " Variances and Principal Axes\n",
      "                 1        2        3        4        5  \n",
      " 6.8021E-07| -0.0875  -0.8945   0.0434  -0.0135   0.4360  \n",
      " 2.1597E-05|  0.7446  -0.3193   0.2352  -0.0767  -0.5314  \n",
      " 8.0119E-05|  0.2939  -0.0716  -0.8958   0.3256   0.0113  \n",
      " 8.3654E-04| -0.4869  -0.2456   0.0674   0.5914  -0.5901  \n",
      " 1.0216E-03|  0.3384   0.1799   0.3686   0.7336   0.4232  \n",
      "------------------------------------------------------------\n",
      "\n",
      "============================================================\n",
      "  Covariance Matrix\n",
      "        1           2           3           4           5   \n",
      "   3.342e-04   1.555e-04   8.266e-05   1.914e-05   3.784e-04\n",
      "   1.555e-04   8.672e-05   5.740e-05   1.199e-05   2.024e-04\n",
      "   8.266e-05   5.740e-05   2.081e-04   2.858e-04   1.226e-04\n",
      "   1.914e-05   1.199e-05   2.858e-04   8.510e-04   2.636e-05\n",
      "   3.784e-04   2.024e-04   1.226e-04   2.636e-05   4.806e-04\n",
      "------------------------------------------------------------\n",
      "\n",
      "========================================================================\n",
      "Model wabs<1>*bknpower<2> Source No.: 1   Active/On\n",
      "Model Model Component  Parameter  Unit     Value\n",
      " par  comp\n",
      "   1    1   wabs       nH         10^22    4.31598      +/-  1.82807E-02  \n",
      "   2    2   bknpower   PhoIndx1            1.25177      +/-  9.31226E-03  \n",
      "   3    2   bknpower   BreakE     keV      5.66832      +/-  1.44252E-02  \n",
      "   4    2   bknpower   PhoIndx2            3.92738      +/-  2.91721E-02  \n",
      "   5    2   bknpower   norm                1.56660      +/-  2.19216E-02  \n",
      "________________________________________________________________________\n",
      "\n",
      "\n",
      "Fit statistic  : Chi-Squared                 7349.14     using 969 bins.\n",
      "\n",
      "Test statistic : Chi-Squared                 7349.14     using 969 bins.\n",
      " Null hypothesis probability of 0.00e+00 with 964 degrees of freedom\n"
     ]
    }
   ],
   "source": [
    "# assume a simple model\n",
    "\n",
    "model = xspec.Model('wabs*bknpow')\n",
    "xspec.Fit.perform()"
   ]
  },
  {
   "cell_type": "code",
   "execution_count": 27,
   "id": "74e40ae9",
   "metadata": {},
   "outputs": [
    {
     "data": {
      "text/plain": [
       "[<matplotlib.lines.Line2D at 0x7fefd0761220>]"
      ]
     },
     "execution_count": 27,
     "metadata": {},
     "output_type": "execute_result"
    },
    {
     "data": {
      "image/png": "[encoded data removed]",
      "text/plain": [
       "<Figure size 576x432 with 1 Axes>"
      ]
     },
     "metadata": {
      "needs_background": "light"
     },
     "output_type": "display_data"
    }
   ],
   "source": [
    "%matplotlib inline\n",
    "xspec.Plot.device='/null'\n",
    "xspec.Plot.xAxis='keV'\n",
    "xspec.Plot('lda')\n",
    "cr=xspec.Plot.y()\n",
    "crerr = xspec.Plot.yErr()\n",
    "en = xspec.Plot.x()\n",
    "enwid = xspec.Plot.xErr()\n",
    "mop = xspec.Plot.model()\n",
    "target = fits.open(spec.fileName)[1].header['OBJECT']\n",
    "\n",
    "\n",
    "fig = figure(figsize=[8,6])\n",
    "ylabel('Cts/s/keV', fontsize=12)\n",
    "xlabel('Energy (keV)', fontsize=12)\n",
    "title('Target = '+target+' OBSID = '+nicerobsID+' wabs*bknpow', fontsize=12)\n",
    "yscale('log')\n",
    "xscale('log')\n",
    "errorbar(en, cr, xerr=enwid, yerr=crerr, fmt='k.', alpha=0.2)\n",
    "plot(en, mop,'r-')"
   ]
  },
  {
   "cell_type": "code",
   "execution_count": 28,
   "id": "46f72c5d",
   "metadata": {},
   "outputs": [
    {
     "data": {
      "text/plain": [
       "'Cyg_X-3'"
      ]
     },
     "execution_count": 28,
     "metadata": {},
     "output_type": "execute_result"
    }
   ],
   "source": [
    "target = fits.open(spec.fileName)[1].header['OBJECT']\n",
    "target"
   ]
  },
  {
   "cell_type": "markdown",
   "id": "963b5e01",
   "metadata": {},
   "source": [
    "# Plot the lightcurve\n",
    "\n",
    "We'll plot the lightcurve for each GTI individually"
   ]
  },
  {
   "cell_type": "code",
   "execution_count": 32,
   "id": "79ac517b",
   "metadata": {},
   "outputs": [],
   "source": [
    "lctab = Table.read(lcfile,hdu='RATE')\n",
    "gtitab = Table.read(lcfile, hdu='GTI')\n",
    "gtitab['START']=gtitab['START']-lctab.meta['TSTART']\n",
    "gtitab['STOP']=gtitab['STOP']-lctab.meta['TSTART']"
   ]
  },
  {
   "cell_type": "code",
   "execution_count": 33,
   "id": "759c5b32",
   "metadata": {},
   "outputs": [],
   "source": [
    "# remove rows with no values from gtitab\n",
    "\n",
    "row2remove=[]\n",
    "for j in enumerate(gtitab):\n",
    "    i=j[0]\n",
    "    tsel = (lctab['TIME']>=gtitab[i]['START']) & (lctab['TIME']<=gtitab[i]['STOP'])\n",
    "    if len(lctab[tsel]) < 1:\n",
    "        row2remove.append(i)\n",
    "gtitab.remove_rows(row2remove)\n",
    "numgtis = len(gtitab)"
   ]
  },
  {
   "cell_type": "code",
   "execution_count": 34,
   "id": "e010ddf1",
   "metadata": {},
   "outputs": [
    {
     "name": "stdout",
     "output_type": "stream",
     "text": [
      "0 39\n",
      "1 3\n",
      "2 59\n"
     ]
    },
    {
     "data": {
      "image/png": "[encoded data removed]",
      "text/plain": [
       "<Figure size 720x216 with 3 Axes>"
      ]
     },
     "metadata": {
      "needs_background": "light"
     },
     "output_type": "display_data"
    }
   ],
   "source": [
    "%matplotlib inline\n",
    "fig, ax =subplots(1,numgtis,figsize=[10,3])\n",
    "for i in range(numgtis):\n",
    "    tsel = (lctab['TIME']>gtitab[i]['START']) & (lctab['TIME']<gtitab[i]['STOP'])\n",
    "    t = lctab[tsel]['TIME']\n",
    "    print(i, len(lctab[tsel]))\n",
    "    r = lctab[tsel]['RATE']\n",
    "    re = lctab[tsel]['ERROR']\n",
    "    ax[i].set_ylabel('Cts/s', fontsize=12)\n",
    "    ax[i].set_xlabel('Time (s)', fontsize=12)\n",
    "    ax[i].set_yscale('log')\n",
    "    ax[i].set_ylim(400, 1000)\n",
    "    ax[i].errorbar(t, r,yerr=re, fmt='k.')\n",
    "    tight_layout()"
   ]
  }
 ],
 "metadata": {
  "celltoolbar": "Initialization Cell",
  "kernelspec": {
   "display_name": "Python 3 (ipykernel)",
   "language": "python",
   "name": "python3"
  },
  "language_info": {
   "codemirror_mode": {
    "name": "ipython",
    "version": 3
   },
   "file_extension": ".py",
   "mimetype": "text/x-python",
   "name": "python",
   "nbconvert_exporter": "python",
   "pygments_lexer": "ipython3",
   "version": "3.8.12"
  },
  "toc": {
   "base_numbering": 1,
   "nav_menu": {},
   "number_sections": false,
   "sideBar": true,
   "skip_h1_title": false,
   "title_cell": "Table of Contents",
   "title_sidebar": "Contents",
   "toc_cell": false,
   "toc_position": {
    "height": "calc(100% - 180px)",
    "left": "10px",
    "top": "150px",
    "width": "310px"
   },
   "toc_section_display": true,
   "toc_window_display": true
  },
  "varInspector": {
   "cols": {
    "lenName": 16,
    "lenType": 16,
    "lenVar": 40
   },
   "kernels_config": {
    "python": {
     "delete_cmd_postfix": "",
     "delete_cmd_prefix": "del ",
     "library": "var_list.py",
     "varRefreshCmd": "print(var_dic_list())"
    },
    "r": {
     "delete_cmd_postfix": ") ",
     "delete_cmd_prefix": "rm(",
     "library": "var_list.r",
     "varRefreshCmd": "cat(var_dic_list()) "
    }
   },
   "types_to_exclude": [
    "module",
    "function",
    "builtin_function_or_method",
    "instance",
    "_Feature"
   ],
   "window_display": false
  }
 },
 "nbformat": 4,
 "nbformat_minor": 5
}

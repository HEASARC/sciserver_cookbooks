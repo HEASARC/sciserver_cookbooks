{
 "cells": [
  {
   "cell_type": "markdown",
   "metadata": {},
   "source": [
    "# RXTE example\n",
    "\n",
    "This notebook demonstrates an analysis of 16 years of RXTE data, which would be difficult outside of SciServer.  We extract all of the standard product lightcurves, but then we decide that we need different channel boundaries.  So we re-exctract light curves following the RXTE documentation and using the heasoftpy wrappers.  "
   ]
  },
  {
   "cell_type": "code",
   "execution_count": null,
   "metadata": {},
   "outputs": [],
   "source": [
    "import sys,os, shutil\n",
    "import pyvo as vo\n",
    "import numpy as np\n",
    "from astropy.io import fits\n",
    "import matplotlib.pyplot as plt\n",
    "%matplotlib inline  \n",
    "import astropy.io.fits as pyfits\n",
    "import datetime\n",
    "\n",
    "# Ignore unimportant warnings\n",
    "import warnings\n",
    "warnings.filterwarnings('ignore', '.*Unknown element mirrorURL.*', \n",
    "                        vo.utils.xml.elements.UnknownElementWarning)"
   ]
  },
  {
   "cell_type": "code",
   "execution_count": null,
   "metadata": {},
   "outputs": [],
   "source": [
    "import subprocess as subp\n",
    "from packaging import version\n",
    "import importlib\n",
    "import heasoftpy as hsp\n",
    "print(hsp.__file__)"
   ]
  },
  {
   "cell_type": "markdown",
   "metadata": {},
   "source": [
    "### Step 1:  find the data\n",
    "\n",
    "We can use the Virtual Observatory interfaces to the HEASARC to find the data we're  interested in.  Specifically, we want to look at the observation tables.  So first we get a list of all the tables HEASARC serves and then look for the ones related to RXTE:"
   ]
  },
  {
   "cell_type": "code",
   "execution_count": null,
   "metadata": {},
   "outputs": [],
   "source": [
    "tap_services=vo.regsearch(servicetype='tap',keywords=['heasarc'])\n",
    "heasarc_tables=tap_services[0].service.tables"
   ]
  },
  {
   "cell_type": "code",
   "execution_count": null,
   "metadata": {},
   "outputs": [],
   "source": [
    "for tablename in heasarc_tables.keys():\n",
    "    if \"xte\" in tablename:  \n",
    "        print(\" {:20s} {}\".format(tablename,heasarc_tables[tablename].description))\n"
   ]
  },
  {
   "cell_type": "markdown",
   "metadata": {},
   "source": [
    "The \"xtemaster\" catalog is the one that we're interested in.  \n",
    "\n",
    "Let's see what this table has in it.  Alternatively, we can google it and find the same information here:\n",
    "\n",
    "https://heasarc.gsfc.nasa.gov/W3Browse/all/xtemaster.html\n"
   ]
  },
  {
   "cell_type": "code",
   "execution_count": null,
   "metadata": {},
   "outputs": [],
   "source": [
    "for c in heasarc_tables['xtemaster'].columns:\n",
    "    print(\"{:20s} {}\".format(c.name,c.description))"
   ]
  },
  {
   "cell_type": "markdown",
   "metadata": {},
   "source": [
    "We're interested in Eta Carinae, and we want to get the RXTE cycle, proposal, and observation ID etc. for every observation it took of this source based on its position.  (Just in case the name has been entered differently, which can happen.)  This constructs a query in the ADQL language to select the columns (target_name, cycle, prnb, obsid, time, exposure, ra, dec) where the point defined by the observation's RA and DEC lies inside a circle defined by our chosen source position.  The results will be sorted by time.  See the [NAVO website](https://heasarc.gsfc.nasa.gov/vo/summary/python.html) for more information on how to use these services with python and how to construct ADQL queries for catalog searches."
   ]
  },
  {
   "cell_type": "code",
   "execution_count": null,
   "metadata": {},
   "outputs": [],
   "source": [
    "# Get the coordinate for Eta Car\n",
    "import astropy.coordinates as coord\n",
    "pos=coord.SkyCoord.from_name(\"eta car\")\n",
    "query=\"\"\"SELECT target_name, cycle, prnb, obsid, time, exposure, ra, dec \n",
    "    FROM public.xtemaster as cat \n",
    "    where \n",
    "    contains(point('ICRS',cat.ra,cat.dec),circle('ICRS',{},{},0.1))=1 \n",
    "    and \n",
    "    cat.exposure > 0 order by cat.time\n",
    "    \"\"\".format(pos.ra.deg, pos.dec.deg)"
   ]
  },
  {
   "cell_type": "code",
   "execution_count": null,
   "metadata": {},
   "outputs": [],
   "source": [
    "results=tap_services[0].search(query).to_table()\n",
    "results"
   ]
  },
  {
   "cell_type": "markdown",
   "metadata": {},
   "source": [
    "Let's just see how long these observations are:"
   ]
  },
  {
   "cell_type": "code",
   "execution_count": null,
   "metadata": {},
   "outputs": [],
   "source": [
    "plt.plot(results['time'],results['exposure'])"
   ]
  },
  {
   "cell_type": "markdown",
   "metadata": {},
   "source": [
    "###  Step 2:  combine standard products and plot\n",
    "\n",
    "Let's collect all the standard product light curves for RXTE.  (These are described on the [RXTE analysis pages](https://heasarc.gsfc.nasa.gov/docs/xte/recipes/cook_book.html).)"
   ]
  },
  {
   "cell_type": "code",
   "execution_count": null,
   "metadata": {},
   "outputs": [],
   "source": [
    "## Need cycle number as well, since after AO9, \n",
    "##  no longer 1st digit of proposal number\n",
    "ids=np.unique( results['cycle','prnb','obsid','time'])\n",
    "ids.sort(order='time')\n",
    "ids"
   ]
  },
  {
   "cell_type": "code",
   "execution_count": null,
   "metadata": {},
   "outputs": [],
   "source": [
    "## Construct a file list.\n",
    "##  In this case, the name changes\n",
    "import glob\n",
    "# Though Jupyter Lab container\n",
    "rootdir=\"/FTP\"\n",
    "# Through batch it shows up differently:  \n",
    "#rootdir=\"/home/idies/workspace/HEASARC\\ data\"\n",
    "rxtedata=\"rxte/data/archive\"\n",
    "filenames=[]\n",
    "for (k,val) in enumerate(ids['obsid']):\n",
    "    fname=\"{}/{}/AO{}/P{}/{}/stdprod/xp{}_n2a.lc.gz\".format(\n",
    "        rootdir,\n",
    "        rxtedata,\n",
    "        ids['cycle'][k],\n",
    "        ids['prnb'][k],\n",
    "        ids['obsid'][k],\n",
    "        ids['obsid'][k].replace('-',''))\n",
    "    #print(fname)\n",
    "    f=glob.glob(fname)\n",
    "    if (len(f) > 0):\n",
    "        filenames.append(f[0])\n",
    "print(\"Found {} out of {} files\".format(len(filenames),len(ids)))"
   ]
  },
  {
   "cell_type": "markdown",
   "metadata": {},
   "source": [
    "Let's collect them all into one light curve:"
   ]
  },
  {
   "cell_type": "code",
   "execution_count": null,
   "metadata": {},
   "outputs": [],
   "source": [
    "hdul = fits.open(filenames.pop(0))\n",
    "data = hdul[1].data\n",
    "cnt=0\n",
    "lcs=[]\n",
    "for f in filenames:\n",
    "    if cnt % 100 == 0:\n",
    "        print(\"On file {}\".format(f))\n",
    "    hdul = fits.open(f)\n",
    "    d = hdul[1].data\n",
    "    data=np.hstack([data,d])\n",
    "    plt.plot(d['TIME'],d['RATE'])\n",
    "    lcs.append(d)\n",
    "    cnt+=1"
   ]
  },
  {
   "cell_type": "code",
   "execution_count": null,
   "metadata": {},
   "outputs": [],
   "source": [
    "hdul = fits.open(filenames.pop(0))\n",
    "data = hdul[1].data\n",
    "cnt=0\n",
    "for f in filenames:\n",
    "    hdul = fits.open(f)\n",
    "    d = hdul[1].data\n",
    "    data=np.hstack([data,d])\n",
    "    if cnt % 100 == 0:\n",
    "        print(\"On file {}\".format(f))\n",
    "        print(\"   adding {} rows from TSTART={}\".format(d.shape[0],hdul[1].header['TSTARTI']))\n",
    "    cnt+=1\n",
    "## The above LCs are merged per proposal.  You can see that some proposals\n",
    "##  had data added later, after other proposals, so you need to sort:\n",
    "data.sort(order='TIME')\n"
   ]
  },
  {
   "cell_type": "code",
   "execution_count": null,
   "metadata": {},
   "outputs": [],
   "source": [
    "plt.plot(data['TIME'],data['RATE'])\n"
   ]
  },
  {
   "cell_type": "markdown",
   "metadata": {},
   "source": [
    "### Step 3:  Re-extract a light-curve\n",
    "\n",
    "Now we go out and read about how to analyze RXTE data, and we decide that we need different channel boundaries than were used in the standard products.  We can write a little function that does the RXTE data analysis steps for every observation to extract a lightcurve and read it into memory to recreate the above dataset.  This function may look complicated, but it only calls three RXTE executables:\n",
    "\n",
    "* pcaprepobsid\n",
    "* maketime\n",
    "* pcaextlc2\n",
    "\n",
    "which extracts the Standard mode 2 data (not to be confused with the \"standard products\") for the channels you're interested in.  It has a bit of error checking that'll help when launching a long job.\n",
    "\n",
    "Note that each call to this function will take 10-20 seconds to complete.  So when we run a whole proposal, we'll have to wait a while. "
   ]
  },
  {
   "cell_type": "code",
   "execution_count": null,
   "metadata": {},
   "outputs": [],
   "source": [
    "\n",
    "class XlcError( Exception ):\n",
    "    pass\n",
    "\n",
    "\n",
    "#  Define a function that, given an ObsID, does the rxte light curve extraction\n",
    "def rxte_lc( obsid=None, ao=None , chmin=None, chmax=None, cleanup=True):\n",
    "    rootdir=\"/home/idies/workspace/headata/FTP\"\n",
    "    rxtedata=\"rxte/data/archive\"\n",
    "    obsdir=\"{}/{}/AO{}/P{}/{}/\".format(\n",
    "        rootdir,\n",
    "        rxtedata,\n",
    "        ao,\n",
    "        obsid[0:5],\n",
    "        obsid\n",
    "    )\n",
    "    #print(\"Looking for obsdir={}\".format(obsdir))\n",
    "    outdir=\"tmp.{}\".format(obsid)\n",
    "    if (not os.path.isdir(outdir)):\n",
    "        os.mkdir(outdir)\n",
    "\n",
    "    if cleanup and os.path.isdir(outdir):\n",
    "        shutil.rmtree(outdir,ignore_errors=True)\n",
    "\n",
    "    try:\n",
    "        #print(\"Running pcaprepobsid\")\n",
    "        result=hsp.pcaprepobsid(indir=obsdir,\n",
    "                                outdir=outdir\n",
    "                               )\n",
    "        print(result.stdout)\n",
    "        #  This one doesn't seem to return correctly, so this doesn't trap!\n",
    "        if result.returncode != 0:\n",
    "            raise XlcError(\"pcaprepobsid returned status {}\".format(result.returncode))\n",
    "    except:\n",
    "        raise\n",
    "    # Recommended filter from RTE Cookbook pages:\n",
    "    filt_expr = \"(ELV > 4) && (OFFSET < 0.1) && (NUM_PCU_ON > 0) && .NOT. ISNULL(ELV) && (NUM_PCU_ON < 6)\"\n",
    "    try:\n",
    "        filt_file=glob.glob(outdir+\"/FP_*.xfl\")[0]\n",
    "    except:\n",
    "        raise XlcError(\"pcaprepobsid doesn't seem to have made a filter file!\")\n",
    "\n",
    "    try:\n",
    "        #print(\"Running maketime\")\n",
    "        result=hsp.maketime(infile=filt_file, \n",
    "                            outfile=os.path.join(outdir,'rxte_example.gti'),\n",
    "                            expr=filt_expr, name='NAME', \n",
    "                            value='VALUE', \n",
    "                            time='TIME', \n",
    "                            compact='NO')\n",
    "        #print(result.stdout)\n",
    "        if result.returncode != 0:\n",
    "            raise XlcError(\"maketime returned status {}\".format(result.returncode))\n",
    "    except:\n",
    "        raise\n",
    "      \n",
    "    try:\n",
    "        #print(\"Running pcaextlc2\")\n",
    "        result=hsp.pcaextlc2(src_infile=\"@{}/FP_dtstd2.lis\".format(outdir),\n",
    "                             bkg_infile=\"@{}/FP_dtbkg2.lis\".format(outdir),\n",
    "                             outfile=os.path.join(outdir,'rxte_example.lc'), \n",
    "                             gtiandfile=os.path.join(outdir,'rxte_example.gti'),\n",
    "                             chmin=chmin,\n",
    "                             chmax=chmax,\n",
    "                             pculist='ALL', layerlist='ALL', binsz=16)\n",
    "        #print(result.stdout)\n",
    "        if result.returncode != 0:\n",
    "            raise XlcError(\"pcaextlc2 returned status {}\".format(result.returncode))\n",
    "    except:\n",
    "        raise\n",
    "\n",
    "    with pyfits.open(os.path.join(outdir,'rxte_example.lc'),memmap=False) as hdul:\n",
    "        lc=hdul[1].data\n",
    "    if cleanup:\n",
    "        shutil.rmtree(outdir,ignore_errors=True)\n",
    "    return lc\n"
   ]
  },
  {
   "cell_type": "markdown",
   "metadata": {},
   "source": [
    "Let's look just at a small part of the time range, and look at only the first few for speed:"
   ]
  },
  {
   "cell_type": "code",
   "execution_count": null,
   "metadata": {
    "scrolled": true,
    "tags": []
   },
   "outputs": [],
   "source": [
    "break_at=10\n",
    "for (k,val) in enumerate(ids):\n",
    "    if k>break_at:  break\n",
    "    l=rxte_lc(ao=val['cycle'], obsid=val['obsid'], chmin=\"5\",chmax=\"10\")    \n",
    "    try:\n",
    "        lc=np.hstack([lc,l])\n",
    "    except:\n",
    "        lc=l\n",
    "        "
   ]
  },
  {
   "cell_type": "code",
   "execution_count": null,
   "metadata": {},
   "outputs": [],
   "source": [
    "# Because the obsids won't necessarily be processed in time order\n",
    "lc.sort(order='TIME')"
   ]
  },
  {
   "cell_type": "code",
   "execution_count": null,
   "metadata": {},
   "outputs": [],
   "source": [
    "plt.plot(lc['TIME'],lc['RATE'])"
   ]
  },
  {
   "cell_type": "code",
   "execution_count": null,
   "metadata": {},
   "outputs": [],
   "source": [
    "hdu = pyfits.BinTableHDU(lc)\n",
    "pyfits.HDUList([pyfits.PrimaryHDU(),hdu]).writeto('eta_car.lc',overwrite=True)\n"
   ]
  },
  {
   "cell_type": "markdown",
   "metadata": {},
   "source": [
    "You could then remove the break in the above loop and submit this job to the [batch queue](https://apps.sciserver.org/compute/jobs)."
   ]
  },
  {
   "cell_type": "code",
   "execution_count": null,
   "metadata": {},
   "outputs": [],
   "source": []
  }
 ],
 "metadata": {
  "kernelspec": {
   "display_name": "(heasoft)",
   "language": "python",
   "name": "heasoft"
  },
  "language_info": {
   "codemirror_mode": {
    "name": "ipython",
    "version": 3
   },
   "file_extension": ".py",
   "mimetype": "text/x-python",
   "name": "python",
   "nbconvert_exporter": "python",
   "pygments_lexer": "ipython3",
   "version": "3.9.16"
  }
 },
 "nbformat": 4,
 "nbformat_minor": 4
}

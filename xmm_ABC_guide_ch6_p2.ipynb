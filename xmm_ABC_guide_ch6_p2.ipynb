{
 "cells": [
  {
   "cell_type": "markdown",
   "id": "95220aeb-e7d6-43ba-9f8f-a83b7f62ccb2",
   "metadata": {},
   "source": [
    "# ABC Guide for XMM-Newton -- Part 2\n",
    "\n",
    "---\n",
    "\n",
    "#### Introduction\n",
    "This tutorial is based on Chapter 6 from the The XMM-Newton ABC Guide prepared by the NASA/GSFC XMM-Newton Guest Observer Facility. This notebook assumes you are at least minimally familiar with pySAS on SciServer (see the [Long pySAS Introduction](./xmm-pysas-intro-long.ipynb \"Long pySAS Intro\")). \n",
    "#### Expected Outcome\n",
    "The ability to run source detection, spectra extraction, check for pile up, and preparing the spectra for analysis by creating a redistribution matrix file (RMF) and an ancillary response file (ARF).\n",
    "#### SAS Tasks to be Used\n",
    "\n",
    "- `evselect`[(Documentation for evselect)](https://xmm-tools.cosmos.esa.int/external/sas/current/doc/evselect/index.html)\n",
    "- `edetect_chain`[(Documentation for edetect_chain)](https://xmm-tools.cosmos.esa.int/external/sas/current/doc/edetect_chain/index.html)\n",
    "- `atthkgen `[(Documentation for atthkgen)](https://xmm-tools.cosmos.esa.int/external/sas/current/doc/atthkgen/index.html)\n",
    "- `srcdisplay`[(Documentation for srcdisplay)](https://xmm-tools.cosmos.esa.int/external/sas/current/doc/srcdisplay/index.html)\n",
    "- `epatplot`[(Documentation for epatplot)](https://xmm-tools.cosmos.esa.int/external/sas/current/doc/epatplot/index.html)\n",
    "- `backscale`[(Documentation for backscale)](https://xmm-tools.cosmos.esa.int/external/sas/current/doc/backscale/index.html)\n",
    "- `rmfgen`[(Documentation for rmfgen)](https://xmm-tools.cosmos.esa.int/external/sas/current/doc/rmfgen/index.html)\n",
    "- `arfgen`[(Documentation for arfgen)](https://xmm-tools.cosmos.esa.int/external/sas/current/doc/arfgen/index.html)\n",
    "\n",
    "#### Prerequisites\n",
    "On SciServer both SAS and HEASOFT are automatically initialized when opening a container and starting a kernal.\n",
    "\n",
    "#### Useful Links\n",
    "\n",
    "- [`pysas` Documentation](https://xmm-tools.cosmos.esa.int/external/sas/current/doc/pysas/index.html \"pysas Documentation\")\n",
    "- [`pysas` on GitHub](https://github.com/XMMGOF/pysas)\n",
    "- [Common SAS Threads](https://www.cosmos.esa.int/web/xmm-newton/sas-threads/index.html \"SAS Threads\")\n",
    "- [Users' Guide to the XMM-Newton Science Analysis System (SAS)](https://xmm-tools.cosmos.esa.int/external/xmm_user_support/documentation/sas_usg/USG/SASUSG.html \"Users' Guide\")\n",
    "- [The XMM-Newton ABC Guide](https://heasarc.gsfc.nasa.gov/docs/xmm/abc/ \"ABC Guide\")\n",
    "- [XMM Newton GOF Helpdesk](https://heasarc.gsfc.nasa.gov/docs/xmm/xmm_helpdesk.html \"Helpdesk\") - Link to form to contact the GOF Helpdesk.\n",
    "\n",
    "#### Caveats\n",
    "This tutorial uses an observation of the Lockman Hole (obsid = '0123700101'). The following assumes this notebook is run from the <tt>(xmmsas)</tt> environment on SciServer. You should see <tt>(xmmsas)</tt> at the top right of the notebook. If not, click there and select <tt>(xmmsas)</tt>.\n"
   ]
  },
  {
   "cell_type": "markdown",
   "id": "7eebc609-8d0a-40be-a848-cc6abf26f406",
   "metadata": {},
   "source": [
    "##### Last Reviewed: _1 May 2024, for SAS v21_\n",
    "##### Last Updated: _1 May 2024_\n",
    "##### By: Ryan Tanner (ryan.tanner@nasa.gov)\n",
    "---"
   ]
  },
  {
   "cell_type": "code",
   "execution_count": null,
   "id": "c36c8366-38cb-4a4f-ad8c-75937fe0484a",
   "metadata": {
    "editable": true,
    "slideshow": {
     "slide_type": ""
    },
    "tags": []
   },
   "outputs": [],
   "source": [
    "# pySAS imports\n",
    "import pysas\n",
    "from pysas.wrapper import Wrapper as w\n",
    "\n",
    "# Importing Js9\n",
    "import jpyjs9\n",
    "my_js9 = jpyjs9.JS9(width = 800, height = 800, side=True)\n",
    "\n",
    "# Useful imports\n",
    "import os, subprocess\n",
    "\n",
    "# Imports for plotting\n",
    "import matplotlib.pyplot as plt\n",
    "from astropy.visualization import astropy_mpl_style\n",
    "from astropy.io import fits\n",
    "from astropy.wcs import WCS\n",
    "from astropy.table import Table\n",
    "plt.style.use(astropy_mpl_style)"
   ]
  },
  {
   "cell_type": "markdown",
   "id": "597017ed-cf00-4ca3-914a-9fbd541e91bb",
   "metadata": {},
   "source": [
    "Now we need to let pySAS know which Obs ID we are working with. If you have already worked through Part 1 of this tutorial then when you run `basic_setup` it will auto-detect the observation files."
   ]
  },
  {
   "cell_type": "markdown",
   "id": "ce5b5d70-3ed0-4090-b1b7-5e4d9aa39443",
   "metadata": {},
   "source": [
    "<div class=\"alert alert-block alert-warning\">\n",
    "    <b>Warning:</b> By default this notebook will place observation data files in your <tt>scratch</tt> space. The <tt>scratch</tt> space on SciServer will only retain files for 90 days. If you wish to keep the data files for longer move them into your <tt>persistent</tt> directory.\n",
    "</div>"
   ]
  },
  {
   "cell_type": "code",
   "execution_count": null,
   "id": "d3bde458-8f5f-4e8c-87f2-7908930beaaa",
   "metadata": {
    "scrolled": true
   },
   "outputs": [],
   "source": [
    "obsid = '0123700101'\n",
    "usr = os.listdir('/home/idies/workspace/Temporary/')[0]\n",
    "data_dir = os.path.join('/home/idies/workspace/Temporary/',usr,'scratch/xmm_data')\n",
    "odf = pysas.odfcontrol.ODFobject(obsid)\n",
    "odf.basic_setup(data_dir=data_dir,overwrite=False,repo='sciserver',rerun=False)\n",
    "os.chdir(odf.work_dir)\n",
    "\n",
    "# File names for this notebook. The User can change these file names.\n",
    "unfiltered_event_list = odf.files['m1evt_list'][0]\n",
    "temporary_event_list = 'temporary_event_list.fits'\n",
    "light_curve_file ='mos1_ltcrv.fits'\n",
    "gti_rate_file = 'gti_rate.fits'\n",
    "filtered_event_list = 'filtered_event_list.fits'\n",
    "attitude_file = 'attitude.fits'\n",
    "soft_band_file = 'mos1-s.fits'\n",
    "hard_band_file = 'mos1-h.fits'\n",
    "mos_all_file = 'mos1-all.fits'\n",
    "eml_list_file = 'emllist.fits'"
   ]
  },
  {
   "cell_type": "markdown",
   "id": "0ce16ebd-bfe0-469c-a1ec-57dc4d683b53",
   "metadata": {
    "editable": true,
    "slideshow": {
     "slide_type": ""
    },
    "tags": []
   },
   "source": [
    "---\n",
    "If you have already worked through Part 1 of this tutorial you can skip the next cell. But if not, or if you want to run it again, the necessary code from Part 1 is in the cell below."
   ]
  },
  {
   "cell_type": "code",
   "execution_count": null,
   "id": "f4af848f-fe87-4066-b933-8caa4f8e779b",
   "metadata": {
    "editable": true,
    "scrolled": true,
    "slideshow": {
     "slide_type": ""
    },
    "tags": []
   },
   "outputs": [],
   "source": [
    "odf.basic_setup(data_dir=data_dir,overwrite=False,repo='sciserver',rerun=False)\n",
    "\n",
    "os.chdir(odf.work_dir)\n",
    "\n",
    "# \"Standard\" Filter\n",
    "inargs = ['table={0}'.format(unfiltered_event_list), \n",
    "          'withfilteredset=yes', \n",
    "          \"expression='(PATTERN <= 12)&&(PI in [200:4000])&&#XMMEA_EM'\", \n",
    "          'filteredset={0}'.format(temporary_event_list), \n",
    "          'filtertype=expression', \n",
    "          'keepfilteroutput=yes', \n",
    "          'updateexposure=yes', \n",
    "          'filterexposure=yes']\n",
    "\n",
    "w('evselect', inargs).run()\n",
    "\n",
    "# Make Light Curve File\n",
    "inargs = ['table={0}'.format(temporary_event_list), \n",
    "          'withrateset=yes', \n",
    "          'rateset={0}'.format(light_curve_file), \n",
    "          'maketimecolumn=yes', \n",
    "          'timecolumn=TIME', \n",
    "          'timebinsize=100', \n",
    "          'makeratecolumn=yes']\n",
    "\n",
    "w('evselect', inargs).run()\n",
    "\n",
    "# Make Secondary GTI File\n",
    "inargs = ['table={0}'.format(light_curve_file), \n",
    "          'gtiset={0}'.format(gti_rate_file),\n",
    "          'timecolumn=TIME', \n",
    "          \"expression='(RATE <= 6)'\"]\n",
    "\n",
    "w('tabgtigen', inargs).run()\n",
    "\n",
    "# Filter Using Secondary GTI File\n",
    "inargs = ['table={0}'.format(temporary_event_list),\n",
    "          'withfilteredset=yes', \n",
    "          \"expression='GTI({0},TIME)'\".format(gti_rate_file), \n",
    "          'filteredset={0}'.format(filtered_event_list),\n",
    "          'filtertype=expression', \n",
    "          'keepfilteroutput=yes',\n",
    "          'updateexposure=yes', \n",
    "          'filterexposure=yes']\n",
    "\n",
    "w('evselect', inargs).run()"
   ]
  },
  {
   "cell_type": "markdown",
   "id": "4a8b6683-eb97-4ed6-8530-41712367eebb",
   "metadata": {
    "editable": true,
    "slideshow": {
     "slide_type": ""
    },
    "tags": []
   },
   "source": [
    "### 6.6 : Regions in JS9"
   ]
  },
  {
   "cell_type": "markdown",
   "id": "1d9f8863-df74-4f7f-bc2a-8344284d2a9d",
   "metadata": {},
   "source": [
    "As in Part 1, we will use a function to create a FITS image file from the filtered event list and open it in JS9."
   ]
  },
  {
   "cell_type": "code",
   "execution_count": null,
   "id": "81f425f0-3a66-4f8f-95e0-ef138e942544",
   "metadata": {},
   "outputs": [],
   "source": [
    "def make_fits_image(event_list_file, image_file='image.fits'):\n",
    "    \n",
    "    inargs = ['table={0}'.format(event_list_file), \n",
    "              'withimageset=yes',\n",
    "              'imageset={0}'.format(image_file), \n",
    "              'xcolumn=X', \n",
    "              'ycolumn=Y', \n",
    "              'imagebinning=imageSize', \n",
    "              'ximagesize=600', \n",
    "              'yimagesize=600']\n",
    "\n",
    "    w('evselect', inargs).run()\n",
    "\n",
    "    hdu = fits.open(image_file)\n",
    "    my_js9.SetFITS(hdu)\n",
    "    my_js9.SetColormap('heat',1,0.5)\n",
    "    my_js9.SetScale(\"log\")\n",
    "    \n",
    "    return image_file"
   ]
  },
  {
   "cell_type": "code",
   "execution_count": null,
   "id": "7ce0a644-c586-4919-84ce-3169d620251b",
   "metadata": {
    "scrolled": true
   },
   "outputs": [],
   "source": [
    "make_fits_image(filtered_event_list)"
   ]
  },
  {
   "cell_type": "markdown",
   "id": "cd87e6dc-5c54-4a09-bf9e-289e2aff9f65",
   "metadata": {},
   "source": [
    "To create a region, you can either click on the region menu and select a shape, or you can click on a region shape located directly below the menu bar in JS9. Click on the circle to make a circular region. A green circle should appear.\n",
    "\n",
    "If you click on the circle you can drag it around the image. When you select the region a teal colored box will surround the region to show that it is highlighted. You can resize the region by clicking and dragging any of the points on the selection box.\n",
    "\n",
    "If you are not familiar with regions in ds9 feel free to add more regions and get comfortable interacting with regions. When you are ready you can clear all regions by running the next cell."
   ]
  },
  {
   "cell_type": "code",
   "execution_count": null,
   "id": "f8402c46-40de-4372-bac8-47c52d21c02b",
   "metadata": {},
   "outputs": [],
   "source": [
    "my_js9.RemoveRegions('all')"
   ]
  },
  {
   "cell_type": "markdown",
   "id": "be197e62-d1d9-4c34-a7c9-82413d0bc325",
   "metadata": {},
   "source": [
    "We will now add a single region around a single interesting source."
   ]
  },
  {
   "cell_type": "code",
   "execution_count": null,
   "id": "6a969ac2-4bfb-443b-867a-44364406ad2b",
   "metadata": {},
   "outputs": [],
   "source": [
    "my_js9.AddRegions(\"circle\", {'px': 26188.5, 'py': 22816.5, 'radius': 3.5})"
   ]
  },
  {
   "cell_type": "markdown",
   "id": "2c41a5bd-6be0-47ec-b369-2e04f90b5d07",
   "metadata": {},
   "source": [
    "We can get the region information by using the following commands. The `GetRegions()` command will return a list of all regions. In this case we only have one region in the list."
   ]
  },
  {
   "cell_type": "code",
   "execution_count": null,
   "id": "8e1b38ab-fd2c-4835-88c3-f4e02a2db75e",
   "metadata": {},
   "outputs": [],
   "source": [
    "regions = my_js9.GetRegions()\n",
    "regions"
   ]
  },
  {
   "cell_type": "markdown",
   "id": "66ff62c5-a091-40c2-9bfe-66ae80d190d3",
   "metadata": {},
   "source": [
    "We can then select the region we want with its information."
   ]
  },
  {
   "cell_type": "code",
   "execution_count": null,
   "id": "d12127b4-41fb-4f4a-947f-2e088e595a21",
   "metadata": {},
   "outputs": [],
   "source": [
    "my_region = regions[0]\n",
    "my_region"
   ]
  },
  {
   "cell_type": "markdown",
   "id": "7bcebefe-bb53-43aa-b8cd-4587048c3210",
   "metadata": {},
   "source": [
    "It may be hard to see the region we have added so we will zoom in. First we will get the current settings."
   ]
  },
  {
   "cell_type": "code",
   "execution_count": null,
   "id": "98d16dbe-c0cb-4d97-b138-a0aa95e63ce0",
   "metadata": {},
   "outputs": [],
   "source": [
    "current_pan = my_js9.GetPan()\n",
    "current_zoom = my_js9.GetZoom()\n",
    "print(f\"Pan: {current_pan}\")\n",
    "print(f\"Zoom: {current_zoom}\")"
   ]
  },
  {
   "cell_type": "markdown",
   "id": "ca6c7a72-a7aa-483a-ab28-c30027a0c5ed",
   "metadata": {},
   "source": [
    "Now we will center and zoom in on the region using the location information from the region."
   ]
  },
  {
   "cell_type": "code",
   "execution_count": null,
   "id": "ff617fad-dae6-41ac-adeb-1a5b610d2fa2",
   "metadata": {},
   "outputs": [],
   "source": [
    "new_pan = current_pan\n",
    "new_pan['x'] = my_region['x']\n",
    "new_pan['y'] = my_region['y']\n",
    "my_js9.SetPan(new_pan)\n",
    "new_zoom = current_zoom * 4\n",
    "my_js9.SetZoom(new_zoom)"
   ]
  },
  {
   "cell_type": "markdown",
   "id": "e2227922-b86b-451c-ae76-dc3078e36aa4",
   "metadata": {},
   "source": [
    "### 6.7 Extract the Source and Background Spectra for a Single Region"
   ]
  },
  {
   "cell_type": "markdown",
   "id": "c3ca43b9-7d18-41e5-a519-10fb6a75f6b3",
   "metadata": {},
   "source": [
    "Throughout the following, please keep in mind that some parameters are instrument-dependent. The parameter `specchannelmax` should be set to 11999 for the MOS, or 20479 for the PN. Also, for the PN, the most stringent filters, `(FLAG==0)&&(PATTERN<=4)`, must be included in the expression to get a high-quality spectrum.\n",
    "\n",
    "For the MOS, the standard filters should be appropriate for many cases, though there are some instances where tightening the selection requirements might be needed. For example, if obtaining the best-possible spectral resolution is critical to your work, and the corresponding loss of counts is not important, only the single pixel events should be selected `(PATTERN==0)`. If your observation is of a bright source, you again might want to select only the single pixel events to mitigate pile up (see §6.8 and §6.9 for a more detailed discussion). In any case, you'll need to know spatial information about the area over which you want to extract the spectrum.\n",
    "\n",
    "Now using `evselect` we can select just the events inside of the region. These events should mostly be from the source we are interested in. We will use the following filtering expression.\n",
    "\n",
    "`expression='((X,Y) in CIRCLE(26188.5,22816.5,300))'`\n",
    "\n",
    "The inputs for `evselect` to extract the source spectra are as follows.\n",
    "\n",
    "\ttable - the event file\n",
    "\tenergycolumn - energy column\n",
    "\twithfilteredset - make a filtered event file\n",
    "\tkeepfilteroutput - keep the filtered file\n",
    "\tfilteredset - name of output file\n",
    "\tfiltertype - type of filter\n",
    "\texpression - expression to filter by\n",
    "\twithspectrumset - make a spectrum\n",
    "\tspectrumset - name of output spectrum\n",
    "\tspectralbinsize - size of bin, in eV\n",
    "\twithspecranges - covering a certain spectral range\n",
    "\tspecchannelmin - minimum of spectral range\n",
    "\tspecchannelmax - maximum of spectral range\n",
    "\n",
    "When extracting the background spectrum, follow the same procedures, but change the extraction area. For example, make an annulus around the source; this can be done using two circles, each defining the inner and outer edges of the annulus, then change the filtering expression (and output file name) as necessary. `expression='((X,Y) in CIRCLE(26188.5,22816.5,1500))&&!((X,Y) in CIRCLE(26188.5,22816.5,500))'`\n",
    "\n",
    "Below we extract both the source and the background spectra. The keywords are as described above."
   ]
  },
  {
   "cell_type": "code",
   "execution_count": null,
   "id": "2d841fa8-4610-4ef4-85d0-01755c50510c",
   "metadata": {
    "scrolled": true
   },
   "outputs": [],
   "source": [
    "filtered_source = 'mos1_filtered.fits'\n",
    "filtered_bkg = 'bkg_filtered.fits'\n",
    "source_spectra_file = 'mos1_pi.fits'\n",
    "bkg_spectra_file = 'bkg_pi.fits'\n",
    "\n",
    "inargs = {'table': '{0}'.format(filtered_event_list),\n",
    "          'energycolumn': 'PI',\n",
    "          'withfilteredset': 'yes',\n",
    "          'filteredset': '{0}'.format(filtered_source),\n",
    "          'keepfilteroutput': 'yes',\n",
    "          'filtertype': 'expression',\n",
    "          'expression': \"'((X,Y) in CIRCLE(26188.5,22816.5,300))'\",\n",
    "          'withspectrumset': 'yes',\n",
    "          'spectrumset': '{0}'.format(source_spectra_file),\n",
    "          'spectralbinsize': '5',\n",
    "          'withspecranges': 'yes',\n",
    "          'specchannelmin': '0',\n",
    "          'specchannelmax': '11999'}\n",
    "\n",
    "w('evselect', inargs).run()\n",
    "\n",
    "inargs = {'table': '{0}'.format(filtered_event_list),\n",
    "          'energycolumn': 'PI',\n",
    "          'withfilteredset': 'yes',\n",
    "          'filteredset': '{0}'.format(filtered_bkg),\n",
    "          'keepfilteroutput': 'yes',\n",
    "          'filtertype': 'expression',\n",
    "          'expression': \"'((X,Y) in CIRCLE(26188.5,22816.5,1500))&&!((X,Y) in CIRCLE(26188.5,22816.5,500))'\",\n",
    "          'withspectrumset': 'yes',\n",
    "          'spectrumset': '{0}'.format(bkg_spectra_file),\n",
    "          'spectralbinsize': '5',\n",
    "          'withspecranges': 'yes',\n",
    "          'specchannelmin': '0',\n",
    "          'specchannelmax': '11999'}\n",
    "\n",
    "w('evselect', inargs).run()"
   ]
  },
  {
   "cell_type": "markdown",
   "id": "7a676e8d-3d1c-4e61-8b7b-19fecb7fda46",
   "metadata": {},
   "source": [
    "You might want to automatically generate expressions for your regions using the region information from JS9. Below is some example code on how to automatically generate filtering expressions for both a source and the background."
   ]
  },
  {
   "cell_type": "code",
   "execution_count": null,
   "id": "c4f5c584-3583-4034-bf55-bdf53c2a2c7c",
   "metadata": {},
   "outputs": [],
   "source": [
    "my_js9.RemoveRegions('all')\n",
    "my_js9.AddRegions(\"circle\", {'px': 26188.5, 'py': 22816.5, 'radius': 3.5})\n",
    "my_js9.AddRegions(\"annulus\", {'px': 26188.5, 'py': 22816.5, 'radii': [5,15]})\n",
    "regions = my_js9.GetRegions()\n",
    "source_region = regions[0]\n",
    "bkg_region = regions[1]\n",
    "source_loc = source_region['lcs']\n",
    "bkg_loc = bkg_region['lcs']"
   ]
  },
  {
   "cell_type": "code",
   "execution_count": null,
   "id": "66c039a4-8a01-4c8b-a632-fb2aba6f9986",
   "metadata": {
    "scrolled": true
   },
   "outputs": [],
   "source": [
    "expression = \"'((X,Y) in CIRCLE({x:.1f},{y:.1f},{radius:.1f}))'\".format(x=source_loc['x'],y=source_loc['y'],radius=source_loc['radius'])\n",
    "inargs = {'table': '{0}'.format(filtered_event_list),\n",
    "          'energycolumn': 'PI',\n",
    "          'withfilteredset': 'yes',\n",
    "          'filteredset': '{0}'.format(filtered_source),\n",
    "          'keepfilteroutput': 'yes',\n",
    "          'filtertype': 'expression',\n",
    "          'expression': expression,\n",
    "          'withspectrumset': 'yes',\n",
    "          'spectrumset': '{0}'.format(source_spectra_file),\n",
    "          'spectralbinsize': '5',\n",
    "          'withspecranges': 'yes',\n",
    "          'specchannelmin': '0',\n",
    "          'specchannelmax': '11999'}\n",
    "\n",
    "w('evselect', inargs).run()"
   ]
  },
  {
   "cell_type": "code",
   "execution_count": null,
   "id": "4852c2a0-e873-4944-8f31-f747d513d9f3",
   "metadata": {
    "scrolled": true
   },
   "outputs": [],
   "source": [
    "expression = \"((X,Y) in CIRCLE({x:.1f},{y:.1f},{radiuso:.1f}))&&!((X,Y) in CIRCLE({x:.1f},{y:.1f},{radiusi:.1f}))\".format(x=bkg_loc['x'],y=bkg_loc['y'],radiuso=bkg_loc['radii'][1],radiusi=bkg_loc['radii'][0])\n",
    "inargs = {'table': '{0}'.format(filtered_event_list),\n",
    "          'energycolumn': 'PI',\n",
    "          'withfilteredset': 'yes',\n",
    "          'filteredset': '{0}'.format(filtered_bkg),\n",
    "          'keepfilteroutput': 'yes',\n",
    "          'filtertype': 'expression',\n",
    "          'expression': expression,\n",
    "          'withspectrumset': 'yes',\n",
    "          'spectrumset': '{0}'.format(bkg_spectra_file),\n",
    "          'spectralbinsize': '5',\n",
    "          'withspecranges': 'yes',\n",
    "          'specchannelmin': '0',\n",
    "          'specchannelmax': '11999'}\n",
    "\n",
    "w('evselect', inargs).run()"
   ]
  },
  {
   "cell_type": "markdown",
   "id": "14af03b9-f943-4f7a-872d-c8790ca6169f",
   "metadata": {},
   "source": [
    "### 6.8 Check for Pile Up"
   ]
  },
  {
   "cell_type": "markdown",
   "id": "9b5af9e9-6b45-419b-a6ef-0955855e7632",
   "metadata": {},
   "source": [
    "Depending on how bright the source is and what modes the EPIC detectors are in, event pile up may be a problem. Pile up occurs when a source is so bright that incoming X-rays strike two neighboring pixels or the same pixel in the CCD more than once in a read-out cycle. In such cases the energies of the two events are in effect added together to form one event. If this happens sufficiently often, \n",
    "1) the spectrum will appear to be harder than it actually is, and\n",
    "2) the count rate will be underestimated, since multiple events will be undercounted.\n",
    "\n",
    "To check whether pile up may be a problem, use the SAS task epatplot. Heavily piled sources will be immediately obvious, as they will have a \"hole\" in the center, but pile up is not always so conspicuous. Therefore, we recommend to always check for it.\n",
    "\n",
    "<div class=\"alert alert-block alert-info\">\n",
    "    <b>Note:</b> This procedure requires as input the event file for the source created when the spectrum was made (i.e. 'filtered_source'), not the usual time-filtered event file (i.e. 'filtered_event_list').\n",
    "</div>\n",
    "\n",
    "To check for pile up in our Lockman Hole example, run the following cell:"
   ]
  },
  {
   "cell_type": "code",
   "execution_count": null,
   "id": "d5d2cd98-9cc9-4571-a6b2-cc7a3f042e6d",
   "metadata": {
    "scrolled": true
   },
   "outputs": [],
   "source": [
    "inargs = ['set={0}'.format(filtered_source),\n",
    "          'plotfile=mos1_epat.ps',\n",
    "          'useplotfile=yes',\n",
    "          'withbackgroundset=yes',\n",
    "          'backgroundset={0}'.format(filtered_bkg)]\n",
    "\n",
    "w('epatplot', inargs).run()"
   ]
  },
  {
   "cell_type": "markdown",
   "id": "cf94e145-c41e-4800-9169-51490c92879e",
   "metadata": {},
   "source": [
    "where\n",
    "\n",
    "    set - input events file \n",
    "    plotfile - output postscript file \n",
    "    useplotfile - flag to use file name from \"plotfile\" \n",
    "    withbackgroundset - use background event set for background subtraction? \n",
    "    backgroundset - name of background event file\n",
    "\n",
    "The output of `epatplot` is a postscript file, `mos1_epat.ps`, which may be viewed with a postscript viewer such as `gv` (i.e. 'ghostscript viewer'). At the moment there is no way to view a postscript file on SciServer so to view it you will have to download `mos1_epat.ps` to your local machine to view it. If you do not have `gv` installed on your local machine, install it from a terminal using `sudo apt install gv`. Then from the download directory you can run `gv mos1_epat.ps` to view the graphs. In the postscript image there are two graphs describing the distribution of counts as a function of PI channel. You should get a plot like that shown below."
   ]
  },
  {
   "cell_type": "markdown",
   "id": "dce895da-6d06-4d5d-bfc9-3ed028e22565",
   "metadata": {},
   "source": [
    "<center><img src=\"pile_up_plot1.png\"/></center>"
   ]
  },
  {
   "cell_type": "markdown",
   "id": "bff3c943-ee93-440a-926b-4dc94f7a7c96",
   "metadata": {},
   "source": [
    "---\n",
    "\n",
    "A few words about interpretting the plots are in order. The top is the distribution of counts versus PI channel for each pattern class (single, double, triple, quadruple), and the bottom is the expected pattern distribution (smooth lines) plotted over the observed distribution (histogram). The lower plot shows the model distributions for single and double events and the observed distributions. It also gives the ratio of observed-to-modeled events with 1-$\\sigma$ uncertainties for single and double pattern events over a given energy range. (The default is 0.5-2.0 keV; this can be changed with the pileupnumberenergyrange parameter.) If the data is not piled up, there will be good agreement between the modeled and observed single and double event pattern distributions. Also, the observed-to-modeled fractions for both singles and doubles in the 0.5-2.0 keV range will be unity, within errors. In contrast, if the data is piled up, there will be clear divergence between the modeled and observed pattern distributions, and the observed-to-modeled fraction for singles will be less than 1.0, and for doubles, it will be greater than 1.0.\n",
    "\n",
    "Finally, when examining the plots, it should noted that the observed-to-modeled fractions can be inaccurate. Therefore, the agreement between the modeled and observed single and double event pattern distributions should be the main factor in determining if an observation is affected by pile up or not.\n",
    "\n",
    "The source used in our Lockman Hole example is too faint to provide reasonable statistics for epatplot and is far from being affected by pile up. For comparison, an example of a bright source (Mkn 421, Obs ID: 0136541101) which is strongly affected by pileup is shown below. Note that the observed-to-model fraction for doubles is over 1.0, and there is severe divergence between the model and the observed pattern distribution."
   ]
  },
  {
   "cell_type": "markdown",
   "id": "0599bdee-3817-4c5b-8116-aa484a80233b",
   "metadata": {},
   "source": [
    "<center><img src=\"pile_up_Mkn_421.png\"/></center>"
   ]
  },
  {
   "cell_type": "markdown",
   "id": "b21818b1-9b10-46f3-8a18-8c22bfcffe75",
   "metadata": {},
   "source": [
    "### 6.9 My Observation is Piled Up! Now What?"
   ]
  },
  {
   "cell_type": "markdown",
   "id": "a770c126-6476-4036-91d0-97101ceee415",
   "metadata": {},
   "source": [
    "If you're working with a different (much brighter) dataset that does show signs of pile up, there are a few ways to deal with it. First, using the region selection and event file filtering procedures demonstrated in earlier sections, you can excise the inner-most regions of a source (as they are the most heavily piled up), re-extract the spectrum, and continue your analysis on the excised event file. For this procedure, it is recommended that you take an iterative approach: remove an inner region, extract a spectrum, check with epatplot, and repeat, each time removing a slightly larger region, until the model and observed distribution functions agree. If you do this, be aware that removing too small a region with respect to the instrumental pixel size (1.1'' for the MOS, 4.1'' for the PN) can introduce systematic inaccuracies when calculating the source flux; these are less than 4%, and decrease to less than 1% when the excised region is more than 5 times the instrumental pixel half-size. In any case, be certain that the excised region is larger than the instrumental pixel size!\n",
    "\r\n",
    "You can also use the event file filtering procedures to include only single pixel events (PATTERN==0), as these events are less sensitive to pile up than other patterns."
   ]
  },
  {
   "cell_type": "markdown",
   "id": "267a55a9-7c6d-4c72-845b-af1a17867aa4",
   "metadata": {},
   "source": [
    "### 6.10 Determine the Spectrum Extraction Areas"
   ]
  },
  {
   "cell_type": "markdown",
   "id": "f204bb0f-ea50-4d3d-ab5b-9e9170df95fc",
   "metadata": {},
   "source": [
    "Now that we are confident that our spectrum is not piled up, we can continue by finding the source and background region areas. This is done with the task `backscale`, which takes into account any bad pixels or chip gaps, and writes the result into the BACKSCAL keyword of the spectrum table. Alternatively, we can skip running backscale, and use a keyword in arfgen below. We will show both options for the curious.\r\n",
    "\r\n",
    "The inputs for `backscale` are:\r\n",
    "\r\n",
    "    spectrumset - spectrum file\r\n",
    "    badpixlocation - event file containing the bad pixels\r\n",
    "\r\n",
    "To find the source and background extraction areas explicitly,"
   ]
  },
  {
   "cell_type": "code",
   "execution_count": null,
   "id": "d367e54a-e9a4-4348-af4c-c28fec49858a",
   "metadata": {
    "scrolled": true
   },
   "outputs": [],
   "source": [
    "inargs = ['spectrumset={0}'.format(source_spectra_file),\n",
    "          'badpixlocation=mos1_filt_time.fits']\n",
    "\n",
    "w('backscale', inargs).run()\n",
    "\n",
    "inargs = ['spectrumset={0}'.format(bkg_spectra_file),\n",
    "          'badpixlocation=mos1_filt_time.fits']\n",
    "\n",
    "w('backscale', inargs).run()"
   ]
  },
  {
   "cell_type": "markdown",
   "id": "c7809d3d-4550-4fe4-ac48-8e68141865f5",
   "metadata": {},
   "source": [
    "### 6.11 Create the Photon Redistribution Matrix (RMF) and Ancillary File (ARF)"
   ]
  },
  {
   "cell_type": "markdown",
   "id": "7e3fa9da-d602-42c6-a9f5-e5addd3f781d",
   "metadata": {},
   "source": [
    "Now that a source spectrum has been extracted, we need to reformat the detector response by making a redistribution matrix file (RMF) and ancillary response file (ARF). To make the RMF we use `rmfgen`. The input arguments are:\n",
    "\n",
    "    rmfset - output file\n",
    "    spectrumset - input spectrum file\n",
    "\n",
    "Now we can use `arfgen` with the RMF, spectrum, and event file to make the ancillary file (ARF). The input arguments are:\n",
    "\n",
    "    arfset - output ARF file name\n",
    "    spectrumset - input spectrum file name\n",
    "    withrmfset - flag to use the RMF\n",
    "    rmfset - RMF file created by rmfgen\n",
    "    withbadpixcorr - flag to include the bad pixel correction\n",
    "    badpixlocation - file containing the bad pixel information; should be set to the event file from which the spectrum was extracted.\n",
    "    setbackscale - flag to calculate the area of the source region and write it to the BACKSCAL keyword in the spectrum header\n",
    "    \n",
    "At this point, the spectrum stored in the file `mos1_pi.fits` is ready to be analyzed using an analysis package such as XSPEC."
   ]
  },
  {
   "cell_type": "code",
   "execution_count": null,
   "id": "14650eaf-7dcd-4233-8abd-d9ca504912b2",
   "metadata": {
    "scrolled": true
   },
   "outputs": [],
   "source": [
    "inargs = {'rmfset': 'mos1_rmf.fits',\n",
    "          'spectrumset': '{0}'.format(source_spectra_file)}\n",
    "\n",
    "w('rmfgen', inargs).run()\n",
    "\n",
    "inargs = {}\n",
    "inargs = {'arfset': 'mos1_arf.fits',\n",
    "          'spectrumset': '{0}'.format(source_spectra_file),\n",
    "          'withrmfset': 'yes',\n",
    "          'rmfset': 'mos1_rmf.fits',\n",
    "          'withbadpixcorr': 'yes',\n",
    "          'badpixlocation': 'mos1_filt_time.fits',\n",
    "          'setbackscale': 'yes'}\n",
    "\n",
    "w('arfgen', inargs).run()"
   ]
  }
 ],
 "metadata": {
  "kernelspec": {
   "display_name": "(xmmsas)",
   "language": "python",
   "name": "conda-env-xmmsas-py"
  },
  "language_info": {
   "codemirror_mode": {
    "name": "ipython",
    "version": 3
   },
   "file_extension": ".py",
   "mimetype": "text/x-python",
   "name": "python",
   "nbconvert_exporter": "python",
   "pygments_lexer": "ipython3",
   "version": "3.10.14"
  }
 },
 "nbformat": 4,
 "nbformat_minor": 5
}

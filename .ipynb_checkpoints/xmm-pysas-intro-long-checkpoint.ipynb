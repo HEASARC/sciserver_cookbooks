{
 "cells": [
  {
   "cell_type": "markdown",
   "id": "b5f4a220-e46e-4704-8d58-5dd39c56d9fb",
   "metadata": {},
   "source": [
    "<h2 style=\"text-align: center;\">pySAS Introduction -- Long Version</h2>\n",
    "<br>\n",
    "<center>\n",
    "<table border=\"0\" style=\"background-color: #DDDDDD; width: 100%;\">\n",
    "\t<tbody>\n",
    "\t\t<tr>\n",
    "\t\t\t<td style=\"padding: 2px; text-align: left;\">\n",
    "\t\t\t<p><b>Introduction</b></p>\n",
    "\t\t\t<p style=\"text-align: justify;\">This tutorial provides a much more detailed explanation on how to use pySAS than the one found in the <a href=\"./xmm-pysas-intro-short.ipynb\">Short pySAS Introduction</a>. In particular this tutorial shows how to get XMM-Newton data ready to be processed by any SAS task and shows a few examples of calling and running SAS tasks through pySAS. \n",
    "\t\t\t<p><b>Expected Outcome</b></p>\n",
    "\t\t\t<p style=\"text-align: justify;\"> The ability to process any XMM-Newton observation with any SAS task.</p>\n",
    "\t\t\t<p><b>SAS Tasks to be Used</b></p>\n",
    "\t\t\t<ul>\n",
    "\t\t\t\t<li><a href=\"https://xmm-tools.cosmos.esa.int/external/sas/current/doc/sasver/index.html\"><tt>sasver</tt></a></li>\n",
    "                <li><a href=\"https://xmm-tools.cosmos.esa.int/external/sas/current/doc/startsas/index.html\"><tt>startsas</tt></a></li>\n",
    "\t\t\t\t<li><a href=\"https://xmm-tools.cosmos.esa.int/external/sas/current/doc/cifbuild/index.html\" target=\"_parent\"><tt>cifbuild</tt></a></li>\n",
    "\t\t\t\t<li><a href=\"https://xmm-tools.cosmos.esa.int/external/sas/current/doc/odfingest/index.html\" target=\"_parent\"><tt>odfingest</tt></a></li>\n",
    "\t\t\t</ul>\n",
    "\t\t\t<p><b>Prerequisites</b></p>\n",
    "\t\t\t<p style=\"text-align: justify;\">On SciServer both SAS and HEASOFT are automatically initialized when opening a container and starting a kernal.</p>\n",
    "\t\t\t<p><b>Useful Links</b></p>\n",
    "\t\t\t<ul>\n",
    "                <li><a href=\"https://xmm-tools.cosmos.esa.int/external/sas/current/doc/pysas/index.html\"><tt>pysas</tt></a></li>\n",
    "\t\t\t\t<li><a href=\"/web/xmm-newton/sas\" target=\"_parent\">SAS web pages</a></li>\n",
    "\t\t\t\t<li><a href=\"/web/xmm-newton/sas-download\" target=\"_parent\">SAS download page</a></li>\n",
    "\t\t\t\t<li><a href=\"/web/xmm-newton/sas-requirements\" target=\"_parent\">SAS external software requirements</a></li>\n",
    "\t\t\t\t<li><a href=\"https://xmm-tools.cosmos.esa.int/external/sas/current/doc/\" target=\"_parent\">Latest SAS on-line documentation</a></li>\n",
    "\t\t\t\t<li><a href=\"/web/xmm-newton/sas-threads\" target=\"_parent\">SAS Threads</a></li>\n",
    "\t\t\t</ul>\n",
    "\t\t\t<p><b><a href=\"#cav\">Caveats</a></b></p>\n",
    "                <p style=\"text-align: justify;\">This tutorial uses an observation of NGC3079 (obsid = '0802710101'). The following assumes this notebook is run from the (xmmsas) environment on SciServer. You should see (xmmsas) at the top right of the notebook. If not, click there and select (xmmsas).</p>\n",
    "\t\t\t<h4>Last Reviewed: <i>6 November 2023, for SAS v21</i></h4>\n",
    "\t\t\t<h4>Last Updated: <i>6 November 2023</i></h4>\n",
    "\t\t\t</td>\n",
    "\t\t</tr>\n",
    "\t</tbody>\n",
    "</table>\n",
    "</center>\n",
    "\n",
    "---"
   ]
  },
  {
   "cell_type": "markdown",
   "id": "fe7e0658-b8d6-428d-b824-f247f31ef9db",
   "metadata": {},
   "source": [
    "## Procedure\n",
    " \n",
    "Lets begin by asking three questions:\n",
    "\n",
    "1. What XMM-Newton Observation data do I want to process?\n",
    "2. Which directory will contain the XMM-Newton Observation data I want to process?\n",
    "3. Which directory am I going to use to work with (py)SAS?\n",
    "\n",
    "For the first question, you will need an Observation ID. In this tutorial we use the ObsID `0802710101`. \n",
    "\n",
    "For the second question, you will also have to choose a directory for your data (`data_dir`). You can set your data directory to any path you want, but ideally it should be in your persistent memory space since data stored anywhere else will be lost after exiting SciServer.\n",
    "\n",
    "For the third question, a working directory will automatically be created for each ObsID, as explained below. You can change this manually, but it is not necessary.\n",
    "***\n",
    "In the cell below you will need to enter your <code style=\"background:yellow;color:black\">user ID</code>.\n",
    "___"
   ]
  },
  {
   "cell_type": "code",
   "execution_count": null,
   "id": "dbba53a7-a029-4aea-87a6-1e51a6423079",
   "metadata": {},
   "outputs": [],
   "source": [
    "user = 'userid'\n",
    "import gofpysas as pysas\n",
    "data_dir = '/home/idies/workspace/Storage/{0}/persistent/xmm_data'.format(user)\n",
    "obsid = '0802710101'"
   ]
  },
  {
   "cell_type": "markdown",
   "id": "3ff6fc63-f00d-4041-b212-869ef6b5bd0b",
   "metadata": {},
   "source": [
    "By running the cell below, an Observation Data File (odf) object is created. By itself it doesn't do anything, but it has several helpful functions to get your data ready to analyse."
   ]
  },
  {
   "cell_type": "code",
   "execution_count": null,
   "id": "39afae8a-f4da-4619-a217-028a091a8f25",
   "metadata": {},
   "outputs": [],
   "source": [
    "odf = pysas.odfcontrol.ODFobject(obsid)"
   ]
  },
  {
   "cell_type": "markdown",
   "id": "b7355639-abd0-4ad9-8f2c-fb7527ee3f7d",
   "metadata": {},
   "source": [
    "# Run `odf.odfcompile`\n",
    "\n",
    "When you run the cell below the following things will happen.\n",
    "\n",
    "1. `odfcompile` will check if `data_dir` exists, and if not it will create it.\n",
    "2. Inside data_dir `odfcompile` will create a directory with the value for the obs ID (i.e. `$data_dir/0802710101/`).\n",
    "3. Inside of that, `odfcompile` will create two directories:\n",
    "\n",
    "    a. `$data_dir/0802710101/ODF` where the observation data files are kept.\n",
    "    \n",
    "    b. `$data_dir/0802710101/work` where the `ccf.cif`, `*SUM.SAS`, and output files are kept.\n",
    "4. `odfcompile` will automatically transfer the data for `obsid` to `$data_dir/0802710101/ODF` from the HEASARC archive.\n",
    "5. `odfcompile` will run `cfibuild` and `odfingest`.\n",
    "\n",
    "That is it! Your data is now calibrated and ready for analysis!"
   ]
  },
  {
   "cell_type": "code",
   "execution_count": null,
   "id": "784b954a-8424-401c-9e0d-20fc24f484e4",
   "metadata": {},
   "outputs": [],
   "source": [
    "odf.odfcompile(data_dir=data_dir,repo='sciserver')"
   ]
  },
  {
   "cell_type": "markdown",
   "id": "1a1cae53-0a00-4816-9454-cc5146f8e960",
   "metadata": {},
   "source": [
    "If you need to include options for either or both `cfibuild` and `odfingest`, these can be passed to `odfcompile` using the inputs `cifbuild_opts='Insert options here'` and `odfingest_opts='Insert options here'`.\n",
    " \n",
    "Another important input is `overwrite=True/False`. If set to true, it will erase **all data**, including any previous analysis output, in the obsid directory (i.e. `$data_dir/0802710101/`) and download the original files again.\n",
    " \n",
    "You can also choose the level of data products you download. If you set `level=ODF` then it will download the raw, uncalibrated data and recalibrate it. If you set `level=PPS` this will download previously calibrated data products that can be used directly for analisys.\n",
    "\n",
    "The odf object will store some usefull information for analysis. For example, it stores `data_dir`, `odf_dir`, and `work_dir`:"
   ]
  },
  {
   "cell_type": "code",
   "execution_count": null,
   "id": "974dd03b-6dd3-4203-943e-8ddbbc6601a8",
   "metadata": {},
   "outputs": [],
   "source": [
    "print(\"Data directory: {0}\".format(odf.data_dir))\n",
    "print(\"ODF  directory: {0}\".format(odf.odf_dir))\n",
    "print(\"Work directory: {0}\".format(odf.work_dir))"
   ]
  },
  {
   "cell_type": "markdown",
   "id": "e9f1cd28-6fc6-49c4-a490-076ba0a6018b",
   "metadata": {},
   "source": [
    "The location and name of important files are also stored in a Python dictionary in the odf object."
   ]
  },
  {
   "cell_type": "code",
   "execution_count": null,
   "id": "1f23a314-4ee5-48b1-85eb-ce91d9ec7819",
   "metadata": {},
   "outputs": [],
   "source": [
    "file_names = list(odf.files.keys())\n",
    "print(file_names)\n",
    "for name in file_names: print(odf.files[name])"
   ]
  },
  {
   "cell_type": "markdown",
   "id": "8638e469-6608-40e3-9ab1-28446d2c72ae",
   "metadata": {},
   "source": [
    "If you want more information on the function `odfcompile` run the cell below to see the function documentation."
   ]
  },
  {
   "cell_type": "code",
   "execution_count": null,
   "id": "9fc291fe-d149-4c51-94b8-877cf89f3ed7",
   "metadata": {},
   "outputs": [],
   "source": [
    "print(odf.odfcompile.__doc__)"
   ]
  },
  {
   "cell_type": "markdown",
   "id": "558c5e7c-cf21-45ac-9de3-7099a8c21845",
   "metadata": {},
   "source": [
    "## Invoking SAS tasks from notebooks\n",
    "\n",
    "Now we are ready to execute any SAS task needed to analize our data. To execute any SAS task within a Notebook, we need to import from `pysas` a component known as `Wrapper`. The following cell shows how to do that,"
   ]
  },
  {
   "cell_type": "code",
   "execution_count": null,
   "id": "adcae05f-255e-4554-90f9-4475bf3c7285",
   "metadata": {},
   "outputs": [],
   "source": [
    "from pysas.wrapper import Wrapper as w"
   ]
  },
  {
   "cell_type": "markdown",
   "id": "33a4dc8b-f13f-45dc-910f-0b81d1068859",
   "metadata": {},
   "source": [
    "<p style=\"text-align: justify;\">Any SAS task accepts arguments which can be either specific options, e.g. <tt>--version</tt>, which shows the task's version, or parameters with format <tt>param=value</tt>. When the task is invoked from the command line, these arguments follow the name of the task. However, in Notebooks we have to pass them to the task in a different way. This is done using a Python list, whose name you are free to choose. Let the name of such list be <tt>inargs</tt>.</p>\n",
    "\n",
    "<p style=\"text-align: justify;\">To pass the option <tt>--version</tt> to the task to be executed, we must define <tt>inargs</tt> as,</p>"
   ]
  },
  {
   "cell_type": "code",
   "execution_count": null,
   "id": "812a001a-6938-45ab-88c9-9d0e07c54091",
   "metadata": {},
   "outputs": [],
   "source": [
    "inargs = ['--version']"
   ]
  },
  {
   "cell_type": "markdown",
   "id": "50c14680-cc80-4fd5-8ccc-bbe201f84542",
   "metadata": {},
   "source": [
    "<p style=\"text-align: justify;\">To execute the task, we will use the <tt>Wrapper</tt> component imported earlier from <tt>pysas</tt>, as <tt>w</tt> (which is a sort of alias), as follows,</p>"
   ]
  },
  {
   "cell_type": "code",
   "execution_count": null,
   "id": "32b02d3b-3025-4ed2-99da-a6161d018fc1",
   "metadata": {},
   "outputs": [],
   "source": [
    "t = w('sasver', inargs)"
   ]
  },
  {
   "cell_type": "markdown",
   "id": "d363a855-ed9c-46f6-84c0-75b8ed27dc86",
   "metadata": {},
   "source": [
    "<p style=\"text-align: justify;\">In Python terms, <tt>t</tt> is an *instantiation* of the object <tt>Wrapper</tt> (or its alias <tt>w</tt>).</p>\n",
    "\n",
    "<p style=\"text-align: justify;\">To run <a href=\"https://xmm-tools.cosmos.esa.int/external/sas/current/doc/sasver/index.html\"><tt>sasver</tt></a>, we can now do as follows,</p>"
   ]
  },
  {
   "cell_type": "code",
   "execution_count": null,
   "id": "5da67a57-07a6-42e3-9699-9ae8eb3fe339",
   "metadata": {},
   "outputs": [],
   "source": [
    "t.run()"
   ]
  },
  {
   "cell_type": "markdown",
   "id": "577e625a-7656-43a6-b8c2-e012f336a12d",
   "metadata": {},
   "source": [
    "<p style=\"text-align: justify;\">This output is equivalent to having run <a href=\"https://xmm-tools.cosmos.esa.int/external/sas/current/doc/sasver/index.html\"><tt>sasver</tt></a> in the command line with argument <tt>--version</tt>.</p>\n",
    "\n",
    "<p style=\"text-align: justify;\">Each SAS task, regardless of the task being a Python task or not, accepts a predefined set of options. To list which are these options, we can always invoke the task with option <tt>--help</tt> (or <tt>-h</tt> as well).</p>\n",
    "\n",
    "<p style=\"text-align: justify;\">With <a href=\"https://xmm-tools.cosmos.esa.int/external/sas/current/doc/sasver/index.html\"><tt>sasver</tt></a>, as with some other SAS tasks, we could define <tt>inargs</tt> as an empty list, which is equivalent to run the task in the command line without options, like this,</p>"
   ]
  },
  {
   "cell_type": "code",
   "execution_count": null,
   "id": "4fe56078-6f7d-46ce-a9ea-c8356fd63499",
   "metadata": {},
   "outputs": [],
   "source": [
    "inargs = []\n",
    "t = w('sasver', inargs)\n",
    "t.run()"
   ]
  },
  {
   "cell_type": "markdown",
   "id": "08be2ffe-a751-4006-a77c-c4e72879b387",
   "metadata": {},
   "source": [
    "<p style=\"text-align: justify;\">That is indeed the desired output of the task <a href=\"https://xmm-tools.cosmos.esa.int/external/sas/current/doc/sasver/index.html\"><tt>sasver</tt></a>.</p>\n",
    "\n",
    "<p style=\"text-align: justify;\">A similar result can be achieved by combining all the previous steps into a single expression, like this,</p>"
   ]
  },
  {
   "cell_type": "code",
   "execution_count": null,
   "id": "c4468386-ac12-4088-a29b-de7577ffa770",
   "metadata": {},
   "outputs": [],
   "source": [
    "w('sasver', []).run()"
   ]
  },
  {
   "cell_type": "markdown",
   "id": "9a6853ed-e9ff-413a-9901-f02b0f723c9b",
   "metadata": {},
   "source": [
    "<p style=\"text-align: justify;\"><b>The output of <tt>sasver</tt> provides useful information on which version of SAS is being run and which SAS environment variables are defined.</b></p>\n",
    "\n",
    "<p style=\"text-align: justify;\"><u>Note</u>:It is important to always use [ ] when passing parameters to a task when using the wrapper, as parameters and options have to be passed in the form of a list. For example,  <tt>w('evselect', ['-h']).run()</tt>, will execute the SAS task <a href=\"https://xmm-tools.cosmos.esa.int/external/sas/current/doc/evselect/index.html\"><tt>evselect</tt></a> with option -h. </p>"
   ]
  },
  {
   "cell_type": "markdown",
   "id": "22232e6d-2b54-4114-bb86-bd2147463a74",
   "metadata": {},
   "source": [
    "<h3>Listing available options</h3>\n",
    "&nbsp;\n",
    "<p style=\"text-align: justify;\">As noted earlier, we can list all options available to any SAS task with option <tt>--help</tt> (or <tt>-h</tt>),</p>"
   ]
  },
  {
   "cell_type": "code",
   "execution_count": null,
   "id": "23e27dda-f253-4f42-bdc3-28ff84fdcc9d",
   "metadata": {},
   "outputs": [],
   "source": [
    "w('sasver', ['-h']).run()"
   ]
  },
  {
   "cell_type": "markdown",
   "id": "46638e8f-603e-4a6c-ba8d-2af682609a26",
   "metadata": {},
   "source": [
    "<p style=\"text-align: justify;\">As explained in the help text shown here, if the task would have had any available parameters, we would get a listing of them immediately after the help text.</p>\n",
    "\n",
    "<p style=\"text-align: justify;\">As shown in the text above, the task <a href=\"https://xmm-tools.cosmos.esa.int/external/sas/current/doc/sasver/index.html\"><tt>sasver</tt></a> has no parameters.</p>\n",
    "\n",
    "<p style=\"text-align: justify;\">You may try any other of the available options listed above to see how they behave when passed from the notebook.</p> "
   ]
  },
  {
   "cell_type": "markdown",
   "id": "984fb1e6-2c55-4fe9-9865-12168dd7b74a",
   "metadata": {},
   "source": [
    "## How to continue from here?\n",
    "\n",
    "This depends on the type of products you have requested.\n",
    "\n",
    "If you requested the Pipeline products (`level=PPS`), your may begin exploring these products directly. Among them, you will find the Observation Event Files for the different instruments and a lot of information ready to be used.\n",
    "\n",
    "If you simply requested the ODF (`level=ODF`), the first step is to run the proper SAS tasks to get the Observation Event Files for each instrument. Then, you may have alook to other Threads to get familiar with specific processing tasks for each instrument.\n",
    "\n",
    "In the next cells we show how to run from here four typical SAS tasks, three `procs` and one `chain` to process exposures taken with the EPIC PN and MOS instruments, RGS and OM.\n",
    "\n",
    "Given that the execution of these tasks produces a lot of output, we have not run them within the notebook.\n",
    "\n",
    "We leave this up to you! But below we show some common SAS tasks."
   ]
  },
  {
   "cell_type": "code",
   "execution_count": null,
   "id": "bd86768b-2952-48ab-b084-61d9ad9cb909",
   "metadata": {},
   "outputs": [],
   "source": [
    "os.chdir(odf.work_dir)"
   ]
  },
  {
   "cell_type": "code",
   "execution_count": null,
   "id": "9a6f2793-60d7-4e48-9202-a33d3ae0a94b",
   "metadata": {},
   "outputs": [],
   "source": [
    "inargs = []\n",
    "w('epproc', inargs).run()"
   ]
  },
  {
   "cell_type": "code",
   "execution_count": null,
   "id": "8d4ebd25-8753-43c3-a169-6140dac1e307",
   "metadata": {},
   "outputs": [],
   "source": [
    "w('emproc', []).run()"
   ]
  },
  {
   "cell_type": "code",
   "execution_count": null,
   "id": "14198867-1f1b-4f82-88af-6d05c7e76be6",
   "metadata": {},
   "outputs": [],
   "source": [
    "w('rgsproc', []).run()"
   ]
  },
  {
   "cell_type": "code",
   "execution_count": null,
   "id": "b05a5d5b-02cd-4b44-a05c-4008591584a0",
   "metadata": {},
   "outputs": [],
   "source": [
    "w('omichain', []).run()"
   ]
  },
  {
   "cell_type": "markdown",
   "id": "9f1dbcaf-b100-47a7-b5fa-043072701dae",
   "metadata": {},
   "source": [
    "To display all possible inputs for a given task, run the task with the help option."
   ]
  },
  {
   "cell_type": "code",
   "execution_count": null,
   "id": "c4b7e296-f65a-4d66-9153-8ceabe207db7",
   "metadata": {},
   "outputs": [],
   "source": [
    "w('epproc', ['-h']).run()"
   ]
  },
  {
   "cell_type": "markdown",
   "id": "d3afd0b5-402d-4cd4-922f-d4b9e6cd5151",
   "metadata": {},
   "source": [
    "For convenience there is a function called `basic_setup` which will run `odfcompile`, and then run both `epproc` and `emproc`. This allows for data to be copied into your personal data space, calibrated, and run two of the most common SAS tasks, all with a single command."
   ]
  },
  {
   "cell_type": "code",
   "execution_count": null,
   "id": "cf3fc374-0906-4ad2-9ae6-b7ff9d8fba65",
   "metadata": {},
   "outputs": [],
   "source": [
    "odf = pysas.odfcontrol.ODFobject(obsid)\n",
    "odf.basic_setup(data_dir=data_dir,overwrite=False,repo='sciserver')"
   ]
  },
  {
   "cell_type": "markdown",
   "id": "bbfab7d4-8eaf-4a2d-b82d-0814bb204377",
   "metadata": {},
   "source": [
    "Running `basic_setup(data_dir=data_dir,overwrite=False,repo='sciserver')` is the same as running the following commands:\n",
    "\n",
    "    odf.setodf(data_dir=data_dir,overwrite=False,repo='sciserver')\n",
    "    odf.runanalysis('epproc',[],rerun=False)\n",
    "    odf.runanalysis('emproc',[],rerun=False)\n",
    "    \n",
    "For more information see the function documentation."
   ]
  },
  {
   "cell_type": "code",
   "execution_count": null,
   "id": "1ebeee9b-1f46-4ec4-8258-2e9eee9b7fc4",
   "metadata": {},
   "outputs": [],
   "source": [
    "print(odf.basic_setup.__doc__)"
   ]
  },
  {
   "cell_type": "markdown",
   "id": "6cc6ed41-f636-48e2-b775-beb8e62f8031",
   "metadata": {},
   "source": [
    "### Just the Raw Data\n",
    "\n",
    "If you want to just copy the raw data, and not do anything with it, you can use the function `download_data`. The function takes `obsid` and `data_dir` (both required) and copies the data from the HEASARC on SciServer. If the directory `data_dir` does not exist, it will create it. It will also create a subdirectory for the `obsid`. <code style=\"background:yellow;color:black\">WARNING:</code> This function will silently erase any prior data in the directory `$data_dir/obsid/`."
   ]
  },
  {
   "cell_type": "code",
   "execution_count": null,
   "id": "6b08d4dc-877c-4a18-9821-76824bb1989c",
   "metadata": {},
   "outputs": [],
   "source": [
    "pysas.odfcontrol.download_data(obsid,data_dir,repo='sciserver')"
   ]
  }
 ],
 "metadata": {
  "kernelspec": {
   "display_name": "Python 3 (ipykernel)",
   "language": "python",
   "name": "python3"
  },
  "language_info": {
   "codemirror_mode": {
    "name": "ipython",
    "version": 3
   },
   "file_extension": ".py",
   "mimetype": "text/x-python",
   "name": "python",
   "nbconvert_exporter": "python",
   "pygments_lexer": "ipython3",
   "version": "3.11.5"
  }
 },
 "nbformat": 4,
 "nbformat_minor": 5
}

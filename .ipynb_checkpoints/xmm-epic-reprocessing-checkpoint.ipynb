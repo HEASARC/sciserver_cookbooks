{
 "cells": [
  {
   "cell_type": "markdown",
   "id": "696730ec-0b06-44a3-85c9-f46d62e8473d",
   "metadata": {},
   "source": [
    "<h2 style=\"text-align: center;\">How to reprocess ODFs to generate calibrated and concatenated EPIC event lists </h2>\n",
    "<br>\n",
    "<center>\n",
    "<table border=\"0\" style=\"background-color: #DDDDDD; width: 100%;\">\n",
    "\t<tbody>\n",
    "\t\t<tr>\n",
    "\t\t\t<td style=\"padding: 2px; text-align: left;\">\n",
    "\t\t\t<p><b>Introduction</b></p>\n",
    "\t\t\t<p style=\"text-align: justify;\">This thread illustrates how to reprocess Observation Data Files (ODFs) to obtain calibrated and concatenated event lists.</p>\n",
    "\t\t\t<p><b>Expected Outcome</b></p>\n",
    "\t\t\t<p style=\"text-align: justify;\">The user will obtain calibrated and concatenated event lists which can be directly used to generate scientific products (images, spectra, light curves) through the SAS tasks <a href=\"https://xmm-tools.cosmos.esa.int/external/sas/current/doc/evselect/index.html\" target=\"_parent\"><tt>evselect</tt></a> or <a href=\"https://xmm-tools.cosmos.esa.int/external/sas/current/doc/xmmselect/index.html\" target=\"_parent\"><tt>xmmselect</tt></a>.</p>\n",
    "\t\t\t<p><b>SAS Tasks to be Used</b></p>\n",
    "\t\t\t<ul>\n",
    "\t\t\t\t<li><a href=\"https://xmm-tools.cosmos.esa.int/external/sas/current/doc/emproc/index.html\" target=\"_parent\"><tt>emproc</tt></a></li>\n",
    "\t\t\t\t<li><a href=\"https://xmm-tools.cosmos.esa.int/external/sas/current/doc/epproc/index.html\" target=\"_parent\"><tt>epproc</tt></a></li>\n",
    "\t\t\t</ul>\n",
    "\t\t\t<p><b>Prerequisites</b></p>\n",
    "\t\t\t<ul>\n",
    "\t\t\t\t<li><a href=\"https://www.cosmos.esa.int/web/xmm-newton/sas-thread-sas-startup.ipynb\" target=\"_parent\">SAS Startup Thread</a></li>\n",
    "\t\t\t</ul>\n",
    "\t\t\t<p><b>Useful Links</b></p>\n",
    "\t\t\t<p style=\"text-align: justify;\">Alternatively to following this thread, the pipeline products contain calibrated and concatenated event lists. Both ODFs and pipeline products can be downloaded from the XMM-Newton Science Archive.</p>\n",
    "\t\t\t<ul>\n",
    "                <li><a href=\"https://xmm-tools.cosmos.esa.int/external/sas/current/doc/pysas/index.html\"><tt>pysas</tt></a></li>\n",
    "\t\t\t\t<li><a href=\"https://www.cosmos.esa.int/web/xmm-newton/xsa\" target=\"_parent\">XMM-Newton Science Archive (XSA)</a></li>\n",
    "\t\t\t\t<li><a href=\"https://www.cosmos.esa.int/web/xmm-newton/pipeline\" target=\"_blank\">PPS Pipeline Products</a></li>\n",
    "\t\t\t</ul>\n",
    "\t\t\t<p><b><a href=\"#cav\">Caveats</a></b></p>\n",
    "\t\t\t<h4>Last Reviewed: <i>6 November 2023, for SAS v21</i></h4>\n",
    "\t\t\t<h4>Last Updated: <i>6 November 2023</i></h4>\n",
    "\t\t\t</td>\n",
    "\t\t</tr>\n",
    "\t</tbody>\n",
    "</table>\n",
    "</center>"
   ]
  },
  {
   "cell_type": "markdown",
   "id": "ed7a1e35-27be-43cd-afcb-124d4e822043",
   "metadata": {},
   "source": [
    "This tutorial assumes you are familiar with at least the Short pySAS Introduction Jupyter Notebook (<a href=\"./xmm-pysas-intro-short.ipynb\">Short pySAS Introduction</a>).\n",
    "\n",
    "---\n",
    "## Procedure\n",
    "Run the EPIC reduction meta-tasks.\n",
    "\n",
    "    For EPIC-MOS:\n",
    "        emproc\n",
    "\n",
    "    and for EPIC-pn:\n",
    "        epproc\n",
    "\n",
    "That's it! The default values of these meta-tasks are appropriate for most practical cases. You may have a look at the next section in this thread to learn how to perform specific reduction sub-tasks using [emproc](https://xmm-tools.cosmos.esa.int/external/sas/current/doc/emproc/index.html) or [epproc](https://xmm-tools.cosmos.esa.int/external/sas/current/doc/epproc/index.html).\n",
    "\n",
    "The files produced by [epproc](https://xmm-tools.cosmos.esa.int/external/sas/current/doc/epproc/index.html) are the following:\n",
    "\n",
    " - `????_??????????_AttHk.ds`, the reconstructed attitude file\n",
    " - `????_??????????_EPN_????_01_Badpixels.ds`, one table per reduced CCD containing the bad pixels\n",
    " - `????_??????????_EPN_????_ImagingEvts.ds`, the calibrated and concatenated event list, which shall be used as an input to extract scientific products via [evselect](https://xmm-tools.cosmos.esa.int/external/sas/current/doc/evselect/index.html) or [xmmselect](https://xmm-tools.cosmos.esa.int/external/sas/current/doc/xmmselect/index.html).\n",
    "    \n",
    "The files produced by [emproc](https://xmm-tools.cosmos.esa.int/external/sas/current/doc/emproc/index.html) are conceptually the same. The main difference in the naming convention is that the string `EPN` is replaced by `EMOS1` and `EMOS2` for each EPIC-MOS camera, respectively.\n",
    "\n",
    "***\n",
    "In the cell below you will need to enter your <code style=\"background:yellow;color:black\">user ID</code>.\n",
    "___"
   ]
  },
  {
   "cell_type": "code",
   "execution_count": null,
   "id": "dbba53a7-a029-4aea-87a6-1e51a6423079",
   "metadata": {},
   "outputs": [],
   "source": [
    "user = 'userid'\n",
    "import gofpysas as pysas\n",
    "data_dir = '/home/idies/workspace/Storage/{0}/persistent/xmm_data'.format(user)\n",
    "obsid = '0104860501'"
   ]
  },
  {
   "cell_type": "code",
   "execution_count": null,
   "id": "807b1b81-15fc-4033-a890-c20aad4f540d",
   "metadata": {
    "tags": []
   },
   "outputs": [],
   "source": [
    "odf = pysas.odfcontrol.ODFobject(obsid)\n",
    "odf.basic_setup(data_dir=data_dir,overwrite=False,repo='sciserver')"
   ]
  },
  {
   "cell_type": "markdown",
   "id": "80383949-653a-4f06-923b-3757cb31611e",
   "metadata": {},
   "source": [
    "### Visualize the contents of the event files just created\n",
    "\n",
    "The odf object contains a dictionary with the path and filename for important output files created by `basic_setup`."
   ]
  },
  {
   "cell_type": "code",
   "execution_count": null,
   "id": "18e78e11-f443-40aa-a344-c98bebb67d1c",
   "metadata": {
    "tags": []
   },
   "outputs": [],
   "source": [
    "file_names = list(odf.files.keys())\n",
    "print(file_names)\n",
    "for name in file_names: print(odf.files[name])"
   ]
  },
  {
   "cell_type": "markdown",
   "id": "bd8ea7a4-3c87-44bf-b503-1a151dba3ef1",
   "metadata": {
    "tags": []
   },
   "source": [
    "The next blocks can be used to visualize the contents of the newly created event files. A simple selection criteria is impossed for illustration purposes. The thread <i>How to filter EPIC event lists for flaring particle background</i> will show how to use more complex filtering expressions by using the SAS task [evselect](https://xmm-tools.cosmos.esa.int/external/sas/current/doc/evselect/index.html)."
   ]
  },
  {
   "cell_type": "code",
   "execution_count": null,
   "id": "4c78a9ff-1c21-481a-a680-63785a81a7d9",
   "metadata": {
    "tags": []
   },
   "outputs": [],
   "source": [
    "import numpy as np\n",
    "import matplotlib.pyplot as plt\n",
    "from astropy.io import fits\n",
    "from astropy.table import Table\n",
    "from matplotlib.colors import LogNorm"
   ]
  },
  {
   "cell_type": "code",
   "execution_count": null,
   "id": "2bb48083-e759-4e40-b699-20f3be305373",
   "metadata": {
    "tags": []
   },
   "outputs": [],
   "source": [
    "# For display purposes only, define a minimum filtering criteria for EPIC-pn\n",
    "\n",
    "pn_pattern   = 4        # pattern selection\n",
    "pn_pi_min    = 300.     # Low energy range eV\n",
    "pn_pi_max    = 12000.   # High energy range eV\n",
    "pn_flag      = 0        # FLAG\n",
    "\n",
    "# For display purposes only, define a minimum filtering criteria for EPIC-MOS\n",
    "\n",
    "mos_pattern   = 12      # pattern selection\n",
    "mos_pi_min    = 300.    # Low energy range eV\n",
    "mos_pi_max    = 20000.  # High energy range eV\n",
    "mos_flag      = 0       # FLAG\n",
    "\n",
    "plt.figure(figsize=(15,25))\n",
    "\n",
    "pl=1\n",
    "\n",
    "pnevt_list = odf.files['pnevt_list']\n",
    "m1evt_list = odf.files['m1evt_list']\n",
    "m2evt_list = odf.files['m2evt_list']\n",
    "\n",
    "evts=len(pnevt_list)+len(m1evt_list)+len(m2evt_list)\n",
    "if len(pnevt_list) >0:\n",
    "    for x in pnevt_list:\n",
    "        hdu_list = fits.open(x, memmap=True)\n",
    "        evt_data = Table(hdu_list[1].data)\n",
    "        \n",
    "        mask = ((evt_data['PATTERN'] <= pn_pattern) &\n",
    "                (evt_data['FLAG'] == pn_flag) &\n",
    "                (evt_data['PI'] >= pn_pi_min) &\n",
    "                (evt_data['PI'] <= pn_pi_max))\n",
    "        print(\"Events in event file\" + \" \" + x + \": \" + str(len(evt_data)) + \"\\n\")\n",
    "        print(\"Events in filtered event file\" + \" \" + x + \": \" + str(np.sum(mask)) + \"\\n\")\n",
    "\n",
    "# Create Events image        \n",
    "\n",
    "        xmax=np.amax(evt_data['X']) \n",
    "        xmin=np.amin(evt_data['X']) \n",
    "        xmid=(xmax-xmin)/2.+xmin\n",
    "        ymax=np.amax(evt_data['Y']) \n",
    "        ymin=np.amin(evt_data['Y'])\n",
    "        xbin_size=80\n",
    "        ybin_size=80\n",
    "        NBINS = (int((xmax-xmin)/xbin_size),int((ymax-ymin)/ybin_size))\n",
    "   \n",
    "        plt.subplot(evts, 2, pl)\n",
    "\n",
    "        img_zero_mpl = plt.hist2d(evt_data['X'], evt_data['Y'], NBINS, cmap='GnBu', norm=LogNorm())\n",
    "\n",
    "        cbar = plt.colorbar(ticks=[10.,100.,1000.])\n",
    "        cbar.ax.set_yticklabels(['10','100','1000'])\n",
    "        \n",
    "        plt.title(x)\n",
    "        plt.xlabel('x')\n",
    "        plt.ylabel('y')\n",
    "   \n",
    "        pl=pl+1\n",
    "    \n",
    "# Create Filtered Events image\n",
    "\n",
    "        xmax=np.amax(evt_data['X'][mask]) \n",
    "        xmin=np.amin(evt_data['X'][mask]) \n",
    "        xmid=(xmax-xmin)/2.+xmin\n",
    "        ymax=np.amax(evt_data['Y'][mask]) \n",
    "        ymin=np.amin(evt_data['Y'][mask])\n",
    "        xbin_size=80\n",
    "        ybin_size=80\n",
    "        NBINS = (int((xmax-xmin)/xbin_size),int((ymax-ymin)/ybin_size))\n",
    "   \n",
    "        plt.subplot(evts, 2, pl)\n",
    "\n",
    "        img_zero_mpl = plt.hist2d(evt_data['X'][mask], evt_data['Y'][mask], NBINS, cmap='GnBu', norm=LogNorm())\n",
    "\n",
    "        cbar = plt.colorbar(ticks=[10.,100.,1000.])\n",
    "        cbar.ax.set_yticklabels(['10','100','1000'])\n",
    "        \n",
    "        plt.title(x)\n",
    "        plt.xlabel('x')\n",
    "        plt.ylabel('y')\n",
    "\n",
    "        txt=(\"PATTERN <= \" + str(pn_pattern) + \n",
    "            \" : \" + str(pn_pi_min) + \" <= E(eV) <= \" + str(pn_pi_max) + \n",
    "            \" : \" + \" FLAG = \" + str(pn_flag))\n",
    "        plt.text(xmid, ymin+0.1*(ymax-ymin), txt, ha='center')\n",
    "    \n",
    "        pl=pl+1\n",
    "\n",
    "        hdu_list.close()\n",
    "    \n",
    "if len(m1evt_list) >0:\n",
    "    for x in m1evt_list:\n",
    "        hdu_list = fits.open(x, memmap=True)\n",
    "        evt_data = Table(hdu_list[1].data)\n",
    "\n",
    "        mask = ((evt_data['PATTERN'] <= mos_pattern) &\n",
    "                (evt_data['FLAG'] == mos_flag) &\n",
    "                (evt_data['PI'] >= mos_pi_min) &\n",
    "                (evt_data['PI'] <= mos_pi_max))\n",
    "        print(\"Events in event file\" + \" \" + x + \": \" + str(len(evt_data)) + \"\\n\")\n",
    "        print(\"Events in filtered event file\" + \" \" + x + \": \" + str(np.sum(mask)) + \"\\n\")\n",
    "\n",
    "# Create Events image            \n",
    "\n",
    "        xmax=np.amax(evt_data['X']) \n",
    "        xmin=np.amin(evt_data['X']) \n",
    "        xmid=(xmax-xmin)/2.+xmin\n",
    "        ymax=np.amax(evt_data['Y']) \n",
    "        ymin=np.amin(evt_data['Y'])\n",
    "        xbin_size=80\n",
    "        ybin_size=80\n",
    "        NBINS = (int((xmax-xmin)/xbin_size),int((ymax-ymin)/ybin_size))\n",
    "   \n",
    "        plt.subplot(evts, 2, pl)\n",
    "\n",
    "        img_zero_mpl = plt.hist2d(evt_data['X'], evt_data['Y'], NBINS, cmap='GnBu', norm=LogNorm())\n",
    "\n",
    "        cbar = plt.colorbar(ticks=[10.,100.,1000.])\n",
    "        cbar.ax.set_yticklabels(['10','100','1000'])\n",
    "        \n",
    "        plt.title(x)\n",
    "        plt.xlabel('x')\n",
    "        plt.ylabel('y')\n",
    " \n",
    "        pl=pl+1\n",
    "    \n",
    "# Create Filtered Events image\n",
    "\n",
    "        xmax=np.amax(evt_data['X'][mask]) \n",
    "        xmin=np.amin(evt_data['X'][mask]) \n",
    "        xmid=(xmax-xmin)/2.+xmin\n",
    "        ymax=np.amax(evt_data['Y'][mask]) \n",
    "        ymin=np.amin(evt_data['Y'][mask])\n",
    "        xbin_size=80\n",
    "        ybin_size=80\n",
    "        NBINS = (int((xmax-xmin)/xbin_size),int((ymax-ymin)/ybin_size))\n",
    "   \n",
    "        plt.subplot(evts, 2, pl)\n",
    "\n",
    "        img_zero_mpl = plt.hist2d(evt_data['X'][mask], evt_data['Y'][mask], NBINS, cmap='GnBu', norm=LogNorm())\n",
    "\n",
    "        cbar = plt.colorbar(ticks=[10.,100.,1000.])\n",
    "        cbar.ax.set_yticklabels(['10','100','1000'])\n",
    "        \n",
    "        plt.title(x)\n",
    "        plt.xlabel('x')\n",
    "        plt.ylabel('y')\n",
    "\n",
    "        txt=(\"PATTERN <= \" + str(mos_pattern) + \n",
    "            \" : \" + str(mos_pi_min) + \" <= E(eV) <= \" + str(mos_pi_max) +\n",
    "            \" : \" + \" FLAG = \" + str(mos_flag))\n",
    "        plt.text(xmid, ymin+0.1*(ymax-ymin), txt, ha='center')\n",
    " \n",
    "        pl=pl+1\n",
    "    \n",
    "        hdu_list.close()\n",
    "    \n",
    "if len(m2evt_list) >0:\n",
    "    for x in m2evt_list:\n",
    "        hdu_list = fits.open(x, memmap=True)\n",
    "        evt_data = Table(hdu_list[1].data)\n",
    "\n",
    "        mask = ((evt_data['PATTERN'] <= mos_pattern) &\n",
    "                (evt_data['FLAG'] == mos_flag) &\n",
    "                (evt_data['PI'] >= mos_pi_min) &\n",
    "                (evt_data['PI'] <= mos_pi_max))\n",
    "        print(\"Events in event file\" + \" \" + x + \": \" + str(len(evt_data)) + \"\\n\")\n",
    "        print(\"Events in filtered event file\" + \" \" + x + \": \" + str(np.sum(mask)) + \"\\n\")\n",
    "        \n",
    "# Create Events image\n",
    "\n",
    "        xmax=np.amax(evt_data['X']) \n",
    "        xmin=np.amin(evt_data['X']) \n",
    "        xmid=(xmax-xmin)/2.+xmin\n",
    "        ymax=np.amax(evt_data['Y']) \n",
    "        ymin=np.amin(evt_data['Y'])\n",
    "        xbin_size=80\n",
    "        ybin_size=80\n",
    "        NBINS = (int((xmax-xmin)/xbin_size),int((ymax-ymin)/ybin_size))\n",
    "   \n",
    "        plt.subplot(evts, 2, pl)\n",
    "\n",
    "        img_zero_mpl = plt.hist2d(evt_data['X'], evt_data['Y'], NBINS, cmap='GnBu', norm=LogNorm())\n",
    "\n",
    "        cbar = plt.colorbar(ticks=[10.,100.,1000.])\n",
    "        cbar.ax.set_yticklabels(['10','100','1000'])\n",
    "\n",
    "        plt.title(x)\n",
    "        plt.xlabel('x')\n",
    "        plt.ylabel('y')\n",
    "       \n",
    "        pl=pl+1\n",
    "    \n",
    "# Create Filtered Events image    \n",
    "       \n",
    "        xmax=np.amax(evt_data['X'][mask]) \n",
    "        xmin=np.amin(evt_data['X'][mask]) \n",
    "        xmid=(xmax-xmin)/2.+xmin\n",
    "        ymax=np.amax(evt_data['Y'][mask]) \n",
    "        ymin=np.amin(evt_data['Y'][mask])\n",
    "        xbin_size=80\n",
    "        ybin_size=80\n",
    "        NBINS = (int((xmax-xmin)/xbin_size),int((ymax-ymin)/ybin_size))\n",
    "   \n",
    "        plt.subplot(evts, 2, pl)\n",
    "\n",
    "        img_zero_mpl = plt.hist2d(evt_data['X'][mask], evt_data['Y'][mask], NBINS, cmap='GnBu', norm=LogNorm())\n",
    "\n",
    "        cbar = plt.colorbar(ticks=[10.,100.,1000.])\n",
    "        cbar.ax.set_yticklabels(['10','100','1000'])\n",
    "\n",
    "        plt.title(x)\n",
    "        plt.xlabel('x')\n",
    "        plt.ylabel('y')\n",
    "        \n",
    "        txt=(\"PATTERN <= \" + str(mos_pattern) + \n",
    "            \" : \" + str(mos_pi_min) + \" <= E(eV) <= \" + str(mos_pi_max) + \n",
    "            \" : \" + \" FLAG = \" + str(mos_flag))\n",
    "        plt.text(xmid, ymin+0.1*(ymax-ymin), txt, ha='center')\n",
    "\n",
    "        pl=pl+1\n",
    "\n",
    "        hdu_list.close()\n",
    "        \n"
   ]
  },
  {
   "cell_type": "markdown",
   "id": "25367ebb-f06f-4a77-9a61-8b01ac275cae",
   "metadata": {},
   "source": [
    "<h3>How to accomplish specific reduction tasks<br />\n",
    "&nbsp;</h3>\n",
    "\n",
    "<p style=\"text-align: justify;\"><a href=\"https://xmm-tools.cosmos.esa.int/external/sas/current/doc/emproc/index.html\" target=\"_parent\"><tt>emproc</tt></a> and <a href=\"https://xmm-tools.cosmos.esa.int/external/sas/current/doc/epproc/index.html\" target=\"_parent\"><tt>epproc</tt></a> are highly flexible tasks, which allow the user to perform a wide range of customized reduction tasks. Some <a href=\"https://xmm-tools.cosmos.esa.int/external/sas/current/doc/emproc/index.html\" target=\"_parent\"><tt>emproc</tt></a> examples are listed below. The same customized reduction tasks can be performed for the EPIC-pn as well, just by substituting <a href=\"https://xmm-tools.cosmos.esa.int/external/sas/current/doc/emproc/index.html\" target=\"_parent\"><tt>emproc</tt></a> with <a href=\"https://xmm-tools.cosmos.esa.int/external/sas/current/doc/epproc/index.html\" target=\"_parent\"><tt>epproc</tt></a> in the commands.</p>\n",
    "\n",
    "<ul>\n",
    "\t<li>if you want to reduce only one of the cameras (EPIC-MOS1 in the example):<br />\n",
    "\t<br />\n",
    "\t&nbsp;<tt>emproc selectinstruments=yes emos1=yes</tt></li>\n",
    "</ul>"
   ]
  },
  {
   "cell_type": "code",
   "execution_count": null,
   "id": "344a1dab-dee8-420c-9f87-3e553cd7259f",
   "metadata": {
    "tags": []
   },
   "outputs": [],
   "source": [
    "# SAS Command\n",
    "cmd    = \"emproc\" # SAS task to be executed                  \n",
    "\n",
    "# Arguments of SAS Command\n",
    "inargs = ['selectinstruments=yes','emos1=yes']\n",
    "\n",
    "print(\"   SAS command to be executed: \"+cmd+\", with arguments; \\n\")\n",
    "inargs"
   ]
  },
  {
   "cell_type": "code",
   "execution_count": null,
   "id": "2dbdf172-fa5d-4d2f-82a5-a9aedbf07a71",
   "metadata": {},
   "outputs": [],
   "source": [
    "w(cmd, inargs).run()"
   ]
  },
  {
   "cell_type": "markdown",
   "id": "79ae37ee-e686-4f47-b3a6-703a335655e5",
   "metadata": {},
   "source": [
    "<ul>    \n",
    "\t<li>if you want to reduce only a subsample of exposures:<br />\n",
    "\t<br />\n",
    "\t&nbsp;<tt>emproc withinstexpids=yes instexpids=\"M1S001 M2S002\"</tt></li>\n",
    "</ul>"
   ]
  },
  {
   "cell_type": "code",
   "execution_count": null,
   "id": "88218b81-412c-4e45-937b-dd279329908d",
   "metadata": {},
   "outputs": [],
   "source": [
    "# SAS Command\n",
    "cmd    = \"emproc\" # SAS task to be executed                  \n",
    "\n",
    "# Arguments of SAS Command\n",
    "inargs = ['withinstexpids=yes','instexpids=\"M1S001 M2S002\"']\n",
    "\n",
    "print(\"   SAS command to be executed: \"+cmd+\", with arguments; \\n\")\n",
    "inargs"
   ]
  },
  {
   "cell_type": "code",
   "execution_count": null,
   "id": "1d499d73-0418-40ba-9916-8bcd14fb8071",
   "metadata": {},
   "outputs": [],
   "source": [
    "w(cmd, inargs).run()"
   ]
  },
  {
   "cell_type": "markdown",
   "id": "29710d7a-4895-4698-8363-ca25dd11504e",
   "metadata": {},
   "source": [
    "<ul>      \n",
    "    <li>if you want to reduce data from 1 CCD only (#4 and #5 in the example):<br />\n",
    "\t<br />\n",
    "\t&nbsp;<tt>emproc selectccds=yes ccd4=yes ccd5=yes</tt></li>\n",
    "</ul>"
   ]
  },
  {
   "cell_type": "code",
   "execution_count": null,
   "id": "6adaa678-ec46-4b5c-97de-465491ed47a4",
   "metadata": {},
   "outputs": [],
   "source": [
    "# SAS Command\n",
    "cmd    = \"emproc\" # SAS task to be executed                  \n",
    "\n",
    "# Arguments of SAS Command\n",
    "inargs = ['selectccds=yes','ccd4=yes','ccd5=yes']\n",
    "\n",
    "print(\"   SAS command to be executed: \"+cmd+\", with arguments; \\n\")\n",
    "inargs"
   ]
  },
  {
   "cell_type": "code",
   "execution_count": null,
   "id": "43d7a60a-e5e0-4e84-adf5-98f2ea73faa4",
   "metadata": {},
   "outputs": [],
   "source": [
    "w(cmd, inargs).run()"
   ]
  },
  {
   "cell_type": "markdown",
   "id": "f1045911-3fac-416e-896a-43f45996709d",
   "metadata": {},
   "source": [
    "<ul>      \n",
    "    <li>if you want to change the reference pointing for the calculation of the sky coordinates to a value of your choice:<br />\n",
    "\t<br />\n",
    "\t&nbsp;<tt>emproc referencepointing=user ra=34.65646 dec=-12.876546</tt></li>\n",
    "</ul>\t"
   ]
  },
  {
   "cell_type": "code",
   "execution_count": null,
   "id": "57e5aa4b-d089-4104-aebd-1e5ae75e2e19",
   "metadata": {},
   "outputs": [],
   "source": [
    "# SAS Command\n",
    "cmd    = \"emproc\" # SAS task to be executed                  \n",
    "\n",
    "# Arguments of SAS Command\n",
    "inargs = ['referencepointing=user','ra=34.65646','dec=-12.876546']\n",
    "\n",
    "print(\"   SAS command to be executed: \"+cmd+\", with arguments; \\n\")\n",
    "inargs"
   ]
  },
  {
   "cell_type": "code",
   "execution_count": null,
   "id": "718797ab-d0fe-4ad5-98e7-80f1737f316e",
   "metadata": {},
   "outputs": [],
   "source": [
    "w(cmd, inargs).run()"
   ]
  },
  {
   "cell_type": "markdown",
   "id": "8d4a5b08-b500-41c2-baa5-8c6f32e3d0ef",
   "metadata": {},
   "source": [
    "<p style=\"text-align: justify;\">Please be aware that if you want to supply coordinates for the analysis of the EPIC-MOS Timing mode, the command is slightly different, e.g.:</p>\n",
    "\n",
    "<p style=\"text-align: justify;\"><tt>&nbsp;&nbsp; emproc withsrccoords=yes srcra=34.65646 srcdec=-12.876546</tt></p>\n",
    "\n",
    "   \n",
    "If you want to filter the event list events, using an external Good Time Interval (GTI) file (see the corresponding thread on how to filter event files for flaring particle background by creating a GTI file):\n",
    "\n",
    "<p style=\"text-align: justify;\"><tt>&nbsp;&nbsp; emproc withgtiset=yes gtiset=mygti.gti filterevents=yes</tt></p>\n"
   ]
  },
  {
   "cell_type": "code",
   "execution_count": null,
   "id": "a8b0956b-4292-483f-9550-a048a9c60a10",
   "metadata": {},
   "outputs": [],
   "source": [
    "# SAS Command\n",
    "cmd    = \"emproc\" # SAS task to be executed                  \n",
    "\n",
    "# Arguments of SAS Command\n",
    "inargs = ['withgtiset=yes','gtiset=mygti.gti','filterevents=yes']\n",
    "\n",
    "print(\"   SAS command to be executed: \"+cmd+\", with arguments; \\n\")\n",
    "inargs"
   ]
  },
  {
   "cell_type": "code",
   "execution_count": null,
   "id": "92251bd0-df04-417c-b45f-ae7b7f7cccbb",
   "metadata": {},
   "outputs": [],
   "source": [
    "w(cmd, inargs).run()"
   ]
  },
  {
   "cell_type": "markdown",
   "id": "a9103ffe-e01e-48cd-8244-c6e2b1e0ab46",
   "metadata": {},
   "source": [
    "<p style=\"text-align: justify;\">Parameters can be combined to accomplish simultaneously two or more of the above tasks during the same run.</p>\n",
    "\n",
    "<p style=\"text-align: justify;\">The user is referred to the on-line documentation of <a href=\"https://xmm-tools.cosmos.esa.int/external/sas/current/doc/emproc/index.html\" target=\"_parent\"><tt>emproc</tt></a> and <a href=\"https://xmm-tools.cosmos.esa.int/external/sas/current/doc/epproc/index.html\" target=\"_parent\"><tt>epproc</tt></a> for a complete list of the available options.</p>"
   ]
  },
  {
   "cell_type": "markdown",
   "id": "3a4bab7b-3503-4023-878d-726f3c025247",
   "metadata": {},
   "source": [
    "<h3 style=\"text-align: justify;\">Reduction of EPIC-pn Timing Mode exposures<br />\n",
    "&nbsp;</h3>\n",
    "\n",
    "<p style=\"text-align: justify;\">Most exposures in EPIC-pn Timing Mode are affected by X-ray Loading (XRL; cf. Sect.3.1 in Guainazzi et al., 2013, <a href=\"http://xmm2.esac.esa.int/docs/documents/CAL-TN-0083.pdf\">XMM-SOC-CAL-TN-0083</a>). Furthermore, a residual dependence of the energy scale on the total count rate is corrected through the \"Rate-Dependent PHA\" correction (Guainazzi, 2014, <a href=\"http://xmm2.esac.esa.int/docs/documents/CAL-SRN-0312-1-4.pdf\">XMM-CCF-REL-312</a>). In order to correct for these effects a set of default calibration settings have been identified. As of SAS v14.0, this is controlled by a single parameter within the tasks <a href=\"https://xmm-tools.cosmos.esa.int/external/sas/current/doc/epproc/index.html\" target=\"_parent\"><tt>epproc</tt></a> and <a href=\"https://xmm-tools.cosmos.esa.int/external/sas/current/doc/epchain/index.html\" target=\"_parent\"><tt>epchain</tt></a>. This parameter is called <tt>withdefaultcal</tt> and is set to <tt>yes</tt> by default. Setting <tt>withdefaultcal=yes</tt> implies <tt>runepreject=yes withxrlcorrection=yes runepfast=no withrdpha=yes</tt>. So one shall run the EPIC-pn reduction meta-tasks as follows:</p>\n",
    "\n",
    "<p><tt>&nbsp;&nbsp; epproc </tt></p>\n",
    "\n",
    "<p>or:</p>\n",
    "\n",
    "<p><tt>&nbsp;&nbsp; epchain datamode=TIMING </tt></p>\n",
    "\n",
    "<p>For more information please refer to the documentation of <a href=\"https://xmm-tools.cosmos.esa.int/external/sas/current/doc/epproc/index.html\" target=\"_parent\"><tt>epproc</tt></a> and <a href=\"https://xmm-tools.cosmos.esa.int/external/sas/current/doc/epchain/index.html\" target=\"_parent\"><tt>epchain</tt></a>.</p>"
   ]
  },
  {
   "cell_type": "markdown",
   "id": "c3a3a986-3d7d-46fb-b9d1-c52bc59900a6",
   "metadata": {},
   "source": [
    "<h3 style=\"text-align: justify;\">Reduction of EPIC-pn Burst Mode exposures<br />\n",
    "&nbsp;</h3>\n",
    "\n",
    "<p style=\"text-align: justify;\">Most exposures in EPIC-pn Burst Mode are affected by X-ray Loading (XRL; cf. Sect.3.1 in Guainazzi et al., 2013, <a href=\"http://xmm2.esac.esa.int/docs/documents/CAL-TN-0083.pdf\">XMM-SOC-CAL-TN-0083</a>). Furthermore, a residual dependence of the energy scale on the total count rate is corrected through the \"Rate-Dependent CTI\" correction. In order to correct for these effects a set of default calibration settings have been identified. As of SAS v14.0, this is controlled by a single parameter within the tasks <a href=\"https://xmm-tools.cosmos.esa.int/external/sas/current/doc/epproc/index.html\" target=\"_parent\"><tt>epproc</tt></a> and <a href=\"https://xmm-tools.cosmos.esa.int/external/sas/current/doc/epchain/index.html\" target=\"_parent\"><tt>epchain</tt></a>. This parameter is called <tt>withdefaultcal</tt> and is set to <tt>yes</tt> by default. Setting <tt>withdefaultcal=yes</tt> implies <tt>runepreject=yes withxrlcorrection=yes runepfast=yes withrdpha=no</tt>. So one shall run the EPIC-pn reduction meta-tasks as follows:</p>\n",
    "\n",
    "<p><tt>&nbsp;&nbsp; epproc burst=yes</tt></p>\n",
    "\n",
    "<p>Notice the inclusion of the extra parameter <tt>burst=yes</tt> in the call to <a href=\"https://xmm-tools.cosmos.esa.int/external/sas/current/doc/epproc/index.html\" target=\"_parent\"><tt>epproc</tt></a>. The meta-task <a href=\"https://xmm-tools.cosmos.esa.int/external/sas/current/doc/epchain/index.html\" target=\"_parent\"><tt>epchain</tt></a> also needs an extra parameter:</p>\n",
    "\n",
    "<p><tt>&nbsp;&nbsp; epchain datamode=BURST</tt></p>"
   ]
  },
  {
   "cell_type": "code",
   "execution_count": null,
   "id": "85f03432-0275-474b-8b4d-3256f73a810a",
   "metadata": {},
   "outputs": [],
   "source": [
    "# SAS Command\n",
    "cmd    = \"epchain\" # SAS task to be executed                  \n",
    "\n",
    "# Arguments of SAS Command\n",
    "inargs = ['datamode=BURST']\n",
    "\n",
    "print(\"   SAS command to be executed: \"+cmd+\", with arguments; \\n\")\n",
    "inargs"
   ]
  },
  {
   "cell_type": "code",
   "execution_count": null,
   "id": "457b7b19-96ac-422e-87d4-e8c62ea45433",
   "metadata": {},
   "outputs": [],
   "source": [
    "w(cmd,inargs).run()"
   ]
  },
  {
   "cell_type": "markdown",
   "id": "85c5aa09-7b9b-4c2d-ae2b-2559611bfe81",
   "metadata": {},
   "source": [
    "<h3>Should I indeed bother to regenerate my event lists?<br />\n",
    "&nbsp;</h3>\n",
    "\n",
    "<p style=\"text-align: justify;\">Concatenated and calibrated EPIC event lists are already available in the <a href=\"http://xmmssc-www.star.le.ac.uk/public/pipeline/\" target=\"_blank\">PPS Pipeline Products</a>. These are produced with the most updated software and calibrations available at the moment the observation was performed and - normally a couple of weeks later - the ODF are produced. There is therefore no need for you to regenerate the EPIC event lists yourself, unless substantial changes in the software and/or calibration occurred between the time when the <a href=\"http://xmmssc-www.star.le.ac.uk/public/pipeline/\" target=\"_blank\">Pipeline Products</a> were generated and the moment when you are analyzing the data. Of course, there is no general answer or recipe one can apply to decide if/when this is the case. In order to collect all the available and necessary elements to formulate your judgment, follow these steps:</p>\n",
    "\n",
    "<ol>\n",
    "\t<li>check in the <a href=\"/web/xmm-newton/xsa\" target=\"_parent\"> XMM-Newton Science Archive</a> the <a href=\"/web/xmm-newton/sas-version-history\" target=\"_parent\">SAS version</a> and the date when the <a href=\"/web/xmm-newton/current-calibration-files\" target=\"_parent\">Calibration Index File</a> was generated to produce the <a href=\"http://xmmssc-www.star.le.ac.uk/public/pipeline/\" target=\"_parent\">Pipeline Products</a>;</li>\n",
    "\t<li>verify in the <a href=\"/web/xmm-newton/sas-release-notes\" target=\"_parent\">SAS release notes</a> the software changes between the version employed to produce the <a href=\"http://xmmssc-www.star.le.ac.uk/public/pipeline/\" target=\"_parent\">Pipeline Products</a> and the <a href=\"/web/xmm-newton/sas-version-history\" target=\"_parent\">latest SAS version</a>;</li>\n",
    "\t<li>verify in the <a href=\"/web/xmm-newton/ccf-release-notes\" target=\"_parent\">CCF release notes</a> the changes in the calibration files between the moment when <a href=\"http://xmmssc-www.star.le.ac.uk/public/pipeline/\" target=\"_parent\">Pipeline Products</a> were generated and the moment your analysis is being performed.</li>\n",
    "</ol>\n",
    "&nbsp;\n",
    "\n",
    "<p>If you feel lost or unsure, and prefer to stay on the safe side, you had probably better regenerate your EPIC calibrated event lists.</p>"
   ]
  }
 ],
 "metadata": {
  "kernelspec": {
   "display_name": "Python 3 (ipykernel)",
   "language": "python",
   "name": "python3"
  },
  "language_info": {
   "codemirror_mode": {
    "name": "ipython",
    "version": 3
   },
   "file_extension": ".py",
   "mimetype": "text/x-python",
   "name": "python",
   "nbconvert_exporter": "python",
   "pygments_lexer": "ipython3",
   "version": "3.11.5"
  }
 },
 "nbformat": 4,
 "nbformat_minor": 5
}

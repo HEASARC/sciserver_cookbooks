{
 "cells": [
  {
   "cell_type": "markdown",
   "id": "94f2c78c-a324-42a5-b598-74c0da6e0b4d",
   "metadata": {},
   "source": [
    "## Getting Started\n",
    "\n",
    "This notebooks contains some tips on getting started with accessing and using HEASARC data on Sciserver."
   ]
  },
  {
   "cell_type": "markdown",
   "id": "6815fa70-f256-48b3-9c8d-8f1dd8546ec2",
   "metadata": {
    "tags": []
   },
   "source": [
    "### Finding and Exploring the data\n",
    "\n",
    "The Heasarc data holdings can be searched and explored in different ways:\n",
    "- Using the powerful [Xamin Web Interface](https://heasarc.gsfc.nasa.gov/xamin/xamin.jsp).\n",
    "\n",
    "- Using a virtual observatory (VO) client such as [pyVO](https://github.com/astropy/pyvo) (see below) or [Topcat](http://www.star.bris.ac.uk/~mbt/topcat/).\n",
    "\n",
    "- Using the classical [Browse Mission Interface](https://heasarc.gsfc.nasa.gov/cgi-bin/W3Browse/w3browse.pl).\n",
    "\n",
    "In Section 1. below, we give a quick example on how to use pyVO to search for NuSTAR data on a specific object. Alternatively, in section 2 assumes you can use Xamin to obtain a list of observations you are interested in. \n",
    "\n",
    "The outcome of sections 1 and 2 is the same, so you can follow either of them."
   ]
  },
  {
   "cell_type": "markdown",
   "id": "bc433cff-235d-4c1f-b643-090a33e2ae5a",
   "metadata": {
    "tags": []
   },
   "source": [
    "---\n",
    "#### 1. pyVO Example"
   ]
  },
  {
   "cell_type": "markdown",
   "id": "43b9718f-d97c-49b2-80a5-c4022f38e4a1",
   "metadata": {},
   "source": [
    "\n",
    "We first search the Virtual Observatory (VO) *registry* for data provided by `heasarc`. The registry provides an index of all data providers that allow access using VO standards.\n",
    "\n",
    "In the following example (`heasarc_service`), we search for all entries in the registry that have the keyword `heasarc`. This can a large and general set. The search can be filtered for more specfic datasets."
   ]
  },
  {
   "cell_type": "code",
   "execution_count": null,
   "id": "d344f896-c264-4497-b349-a90a9dbc783a",
   "metadata": {},
   "outputs": [],
   "source": [
    "import pyvo as vo\n",
    "\n",
    "heasarc_service = vo.regsearch(keywords='heasarc')\n",
    "print(f'The search returned {len(heasarc_service)} entries. Examples include:\\n')\n",
    "\n",
    "# ivoid is the unique identifier for the dataset\n",
    "heasarc_service.to_table()[['ivoid', 'res_title']][-5:]"
   ]
  },
  {
   "cell_type": "markdown",
   "id": "8d547ca0-96d0-423e-9403-2cadb4a1d2ae",
   "metadata": {},
   "source": [
    "---\n",
    "\n",
    "We can be more specific by selecting only the master catalogs and the services that provide a cone search capability (i.e. search by providing `RA`, `DEC` and a search `radius`)."
   ]
  },
  {
   "cell_type": "code",
   "execution_count": null,
   "id": "d2e393bc-d7a8-4ba6-a054-7fbb24cf7e69",
   "metadata": {},
   "outputs": [],
   "source": [
    "master = []\n",
    "for srv in heasarc_service:\n",
    "    if 'master' in srv.ivoid and 'conesearch' in srv.access_modes():\n",
    "        master.append(srv)\n",
    "        print(f'{srv.ivoid}:\\t {srv.res_title}')\n"
   ]
  },
  {
   "cell_type": "markdown",
   "id": "b6c7703c-056b-45a0-add5-ba0cc0deb296",
   "metadata": {},
   "source": [
    "---\n",
    "Lets focus on *numaster*, the master catalog for *NuSTAR*, and search for data on some object, say the X-ray binary **Cyg X-1**.\n",
    "\n",
    "We use `astropy` to resolve the name into positional coordinate.\n",
    "We specify the service we want to use as `conesearch`."
   ]
  },
  {
   "cell_type": "code",
   "execution_count": null,
   "id": "80f10dd0-2576-4030-b228-7418760c8423",
   "metadata": {},
   "outputs": [],
   "source": [
    "import astropy.coordinates as coord\n",
    "pos = coord.SkyCoord.from_name(\"cyg x-1\")\n",
    "\n",
    "nu_master = master[3].get_service('conesearch')\n",
    "result = nu_master.search(pos=pos, radius=0.5)"
   ]
  },
  {
   "cell_type": "code",
   "execution_count": null,
   "id": "0978cb6f-7ee0-4bb8-beb7-e9cf65727a60",
   "metadata": {},
   "outputs": [],
   "source": [
    "# display the result as an astropy table.\n",
    "result.to_table()"
   ]
  },
  {
   "cell_type": "markdown",
   "id": "7b9a1877-ba5e-4d4c-9405-15f206a0feb3",
   "metadata": {},
   "source": [
    "---\n",
    "Say we are interested in the first 4 datasets. We use another feature of the VO: `datalinks`. \n",
    "For each row of interest, we request the related links, and select those that point to a data directory.\n",
    "They provide `access_url` columns. Here, we collect the paths to the directory containing the event files starting with `FTP`."
   ]
  },
  {
   "cell_type": "code",
   "execution_count": null,
   "id": "461ae396-b461-43c8-aa82-a7c6d333f08d",
   "metadata": {},
   "outputs": [],
   "source": [
    "paths = []\n",
    "for i in range(4):\n",
    "    datalink = result[i].getdatalink().to_table()\n",
    "    link_to_dirs = datalink[datalink['content_type'] == 'directory']\n",
    "    link = link_to_dirs['access_url'].value[0]\n",
    "    path = '/FTP/' + link.split('FTP')[1]\n",
    "    paths.append(path)\n",
    "    print(path)"
   ]
  },
  {
   "cell_type": "markdown",
   "id": "43ca49c9-9cf9-42d3-ba75-14cc60c37cef",
   "metadata": {
    "tags": []
   },
   "source": [
    "---\n",
    "#### 2. Using Xamin:"
   ]
  },
  {
   "cell_type": "markdown",
   "id": "7e56d65a-1117-4521-9836-81e6ad0a1835",
   "metadata": {},
   "source": [
    "Here, we use Xamin to find the data. We again use *numaster*, the master catalog for *NuSTAR*, and search for data the X-ray binary **Cyg X-1**.\n",
    "\n",
    "When using Xamin to find the data, there is an option in the `Data Products Cart` to select `FTP Paths`, which, when selecting the first 4 datasets, provides a text similar to the following:"
   ]
  },
  {
   "cell_type": "code",
   "execution_count": null,
   "id": "2cee531e-1c50-4f0f-a392-c13dd91da5f3",
   "metadata": {},
   "outputs": [],
   "source": [
    "paths_txt = \"\"\"\n",
    "/FTP/nustar/data/obs/00/3//30001011002/\n",
    "/FTP/nustar/data/obs/03/3//30302019002/\n",
    "/FTP/nustar/data/obs/01/1//10102001002/\n",
    "/FTP/nustar/data/obs/05/8//80502335006/\n",
    "\"\"\"\n",
    "paths = paths_txt.split('\\n')[1:-1]"
   ]
  },
  {
   "cell_type": "markdown",
   "id": "18c8cf8b-8b80-4233-a1e8-eac5f380b8eb",
   "metadata": {},
   "source": [
    "---\n",
    "---\n",
    "### Accessing The Data\n",
    "All the heasarc data is mounted into the compute under `/FTP/`, so once we have the path to the data (though `pyVO` or Xamin), we can directly access it without the need to download it.\n",
    "\n",
    "So to check the content of the observational folder for the first observations of `cyg x-1`, we can do:"
   ]
  },
  {
   "cell_type": "code",
   "execution_count": null,
   "id": "405b25c6-2647-48f5-95b9-e53892efb28b",
   "metadata": {},
   "outputs": [],
   "source": [
    "import glob\n",
    "glob.glob(f'{paths[0]}/*')"
   ]
  },
  {
   "cell_type": "markdown",
   "id": "ed64d0df-c785-4e4e-835e-71b6b3c3ec20",
   "metadata": {},
   "source": [
    "---\n",
    "---\n",
    "### Analyzing The Data\n",
    "To Analyze the data within the notebook, we use `heasoftpy`. In the *NuSTAR* example, we can call the `nupipeline` tool to re-prodduce the cleaned event files."
   ]
  },
  {
   "cell_type": "code",
   "execution_count": null,
   "id": "2b7c82c8-a9ff-495f-b737-89ce4436eefa",
   "metadata": {
    "scrolled": true,
    "tags": []
   },
   "outputs": [],
   "source": [
    "import heasoftpy as hsp\n",
    "\n",
    "\n",
    "# set some input\n",
    "indir  = paths[0]\n",
    "obsid  = indir.split('/')[-2] \n",
    "outdir = obsid + '_reproc'\n",
    "stem   = 'nu' + obsid\n",
    "\n",
    "# call the tasks; verbose=20 logs the output to nupipeline.log\n",
    "out = hsp.nupipeline(indir=indir, outdir=outdir, steminputs=stem, instrument='FPMA', \n",
    "                     clobber='yes', noprompt=True, verbose=20)"
   ]
  },
  {
   "cell_type": "markdown",
   "id": "5a907909-e210-40cc-b37b-a3c3119d9f9d",
   "metadata": {},
   "source": [
    "Once the task finishes running, we see the new cleaned event files in the local `./30001011002_reproc/` directory"
   ]
  },
  {
   "cell_type": "markdown",
   "id": "7d8e5ca5-6d41-4cf4-963a-eba451d2ab51",
   "metadata": {},
   "source": [
    "---\n",
    "---\n",
    "### Subsequent Analysis\n",
    "For subsequent analysis, you can use `heasoftpy` which provides a python access to all tools in `heasoft`, as well as `pyxspec` to spectral modeling."
   ]
  }
 ],
 "metadata": {
  "kernelspec": {
   "display_name": "Python 3 (ipykernel)",
   "language": "python",
   "name": "python3"
  },
  "language_info": {
   "codemirror_mode": {
    "name": "ipython",
    "version": 3
   },
   "file_extension": ".py",
   "mimetype": "text/x-python",
   "name": "python",
   "nbconvert_exporter": "python",
   "pygments_lexer": "ipython3",
   "version": "3.11.7"
  }
 },
 "nbformat": 4,
 "nbformat_minor": 5
}

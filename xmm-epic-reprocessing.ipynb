{
 "cells": [
  {
   "cell_type": "markdown",
   "id": "e2517ee9-d5f7-4342-ba24-5ed958e19d9e",
   "metadata": {},
   "source": [
    "# How to reprocess ODFs to generate calibrated and concatenated EPIC event lists\n",
    "\n",
    "---\n",
    "\n",
    "#### Introduction\n",
    "This thread illustrates how to reprocess Observation Data Files (ODFs) to obtain calibrated and concatenated event lists.\n",
    "#### Expected Outcome\n",
    "The user will obtain calibrated and concatenated event lists which can be directly used to generate scientific products (images, spectra, light curves) through the SAS tasks [<tt>evselect</tt>](https://xmm-tools.cosmos.esa.int/external/sas/current/doc/evselect/index.html) or [<tt>xmmselect</tt>](https://xmm-tools.cosmos.esa.int/external/sas/current/doc/xmmselect/index.html).\n",
    "#### SAS Tasks to be Used\n",
    "\n",
    "- `emproc`[(Documentation for emproc)](https://xmm-tools.cosmos.esa.int/external/sas/current/doc/emproc/index.html \"emproc Documentation\")\n",
    "- `epproc`[(Documentation for epproc)](https://xmm-tools.cosmos.esa.int/external/sas/current/doc/epproc/index.html \"epproc Documentation\")\n",
    "\n",
    "#### Prerequisites\n",
    "On SciServer both SAS and HEASOFT are automatically initialized when opening a container and starting a kernal.\n",
    "#### Useful Links\n",
    "\n",
    "- [`pysas` Documentation](https://xmm-tools.cosmos.esa.int/external/sas/current/doc/pysas/index.html \"pysas Documentation\")\n",
    "- [Common SAS Threads](https://www.cosmos.esa.int/web/xmm-newton/sas-threads/index.html \"SAS Threads\")\n",
    "- [Users' Guide to the XMM-Newton Science Analysis System (SAS)](https://xmm-tools.cosmos.esa.int/external/xmm_user_support/documentation/sas_usg/USG/SASUSG.html \"Users' Guide\")\n",
    "- [The XMM-Newton ABC Guide](https://heasarc.gsfc.nasa.gov/docs/xmm/abc/ \"ABC Guide\")\n",
    "\n",
    "#### Caveats\n",
    "The following assumes this notebook is run from the <tt>(xmmsas)</tt> environment on SciServer. You should see <tt>(xmmsas)</tt> at the top right of the notebook. If not, click there and select <tt>(xmmsas)</tt>. This tutorial assumes you are familiar with at least the Short pySAS Introduction Jupyter Notebook (<a href=\"./xmm-pysas-intro-short.ipynb\">Short pySAS Introduction</a>)."
   ]
  },
  {
   "cell_type": "markdown",
   "id": "83fe6e1b-e823-4bfc-b99c-62ec4185511d",
   "metadata": {},
   "source": [
    "##### Last Reviewed: _12 December 2023, for SAS v21_\n",
    "##### Last Updated: _12 December 2023_\n",
    "---"
   ]
  },
  {
   "cell_type": "markdown",
   "id": "ed7a1e35-27be-43cd-afcb-124d4e822043",
   "metadata": {},
   "source": [
    "## Procedure\n",
    "Run the EPIC reduction meta-tasks.\n",
    "\n",
    "    For EPIC-MOS:\n",
    "        emproc\n",
    "\n",
    "    and for EPIC-pn:\n",
    "        epproc\n",
    "\n",
    "That's it! The default values of these meta-tasks are appropriate for most practical cases. You may have a look at the next section in this thread to learn how to perform specific reduction sub-tasks using [emproc](https://xmm-tools.cosmos.esa.int/external/sas/current/doc/emproc/index.html) or [epproc](https://xmm-tools.cosmos.esa.int/external/sas/current/doc/epproc/index.html).\n",
    "\n",
    "The files produced by [epproc](https://xmm-tools.cosmos.esa.int/external/sas/current/doc/epproc/index.html) are the following:\n",
    "\n",
    " - `????_??????????_AttHk.ds`, the reconstructed attitude file\n",
    " - `????_??????????_EPN_????_01_Badpixels.ds`, one table per reduced CCD containing the bad pixels\n",
    " - `????_??????????_EPN_????_ImagingEvts.ds`, the calibrated and concatenated event list, which shall be used as an input to extract scientific products via [evselect](https://xmm-tools.cosmos.esa.int/external/sas/current/doc/evselect/index.html) or [xmmselect](https://xmm-tools.cosmos.esa.int/external/sas/current/doc/xmmselect/index.html).\n",
    "    \n",
    "The files produced by [emproc](https://xmm-tools.cosmos.esa.int/external/sas/current/doc/emproc/index.html) are conceptually the same. The main difference in the naming convention is that the string `EPN` is replaced by `EMOS1` and `EMOS2` for each EPIC-MOS camera, respectively.\n",
    "___"
   ]
  },
  {
   "cell_type": "markdown",
   "id": "f65f7680-b0a9-4d25-b261-1dc3ac02a8e4",
   "metadata": {},
   "source": [
    "<div class=\"alert alert-block alert-warning\">\n",
    "    <b>Warning:</b> Make sure you are running this notebook inside your <tt>persistent</tt> directory. If it is not inside the <tt>persistent</tt> directory your data will be lost upon exiting SciServer.\n",
    "</div>"
   ]
  },
  {
   "cell_type": "markdown",
   "id": "7dd866f1-bc9e-472b-bfbd-ad9977c88c40",
   "metadata": {
    "tags": []
   },
   "source": [
    "<div class=\"alert alert-block alert-info\">\n",
    "    <b>Note:</b> This notebook uses a development version of <tt>pysas</tt>, known as <tt>gofpysas</tt>. The main difference between <tt>gofpysas</tt> and <tt>pysas</tt> is the <tt>odf</tt> object, which contains additional functions to simplify the proccess of downloading and calibrating data, along with storing links to various directories and files. <tt>gofpysas</tt> will also automatically initialize and start SAS when imported into Python. <tt>gofpysas</tt> was developed specifically for SciServer, and all capabilites will be incorporated into a future release of <tt>pysas</tt>.\n",
    "</div>"
   ]
  },
  {
   "cell_type": "code",
   "execution_count": null,
   "id": "dbba53a7-a029-4aea-87a6-1e51a6423079",
   "metadata": {},
   "outputs": [],
   "source": [
    "import os\n",
    "import gofpysas as pysas\n",
    "data_dir = os.join.path(os.getcwd(),'xmm_data')\n",
    "obsid = '0104860501'"
   ]
  },
  {
   "cell_type": "code",
   "execution_count": null,
   "id": "807b1b81-15fc-4033-a890-c20aad4f540d",
   "metadata": {
    "tags": []
   },
   "outputs": [],
   "source": [
    "odf = pysas.odfcontrol.ODFobject(obsid)\n",
    "odf.basic_setup(data_dir=data_dir,overwrite=False,repo='sciserver')"
   ]
  },
  {
   "cell_type": "markdown",
   "id": "80383949-653a-4f06-923b-3757cb31611e",
   "metadata": {},
   "source": [
    "### Visualize the contents of the event files just created\n",
    "\n",
    "The odf object contains a dictionary with the path and filename for important output files created by `basic_setup`."
   ]
  },
  {
   "cell_type": "code",
   "execution_count": null,
   "id": "18e78e11-f443-40aa-a344-c98bebb67d1c",
   "metadata": {
    "tags": []
   },
   "outputs": [],
   "source": [
    "file_names = list(odf.files.keys())\n",
    "print(file_names)\n",
    "for name in file_names: print(odf.files[name])"
   ]
  },
  {
   "cell_type": "markdown",
   "id": "bd8ea7a4-3c87-44bf-b503-1a151dba3ef1",
   "metadata": {
    "tags": []
   },
   "source": [
    "The next blocks can be used to visualize the contents of the newly created event files. A simple selection criteria is impossed for illustration purposes. The thread <i>How to filter EPIC event lists for flaring particle background</i> will show how to use more complex filtering expressions by using the SAS task [evselect](https://xmm-tools.cosmos.esa.int/external/sas/current/doc/evselect/index.html)."
   ]
  },
  {
   "cell_type": "code",
   "execution_count": null,
   "id": "4c78a9ff-1c21-481a-a680-63785a81a7d9",
   "metadata": {
    "tags": []
   },
   "outputs": [],
   "source": [
    "import numpy as np\n",
    "import matplotlib.pyplot as plt\n",
    "from astropy.io import fits\n",
    "from astropy.table import Table\n",
    "from matplotlib.colors import LogNorm"
   ]
  },
  {
   "cell_type": "code",
   "execution_count": null,
   "id": "2bb48083-e759-4e40-b699-20f3be305373",
   "metadata": {
    "tags": []
   },
   "outputs": [],
   "source": [
    "# For display purposes only, define a minimum filtering criteria for EPIC-pn\n",
    "\n",
    "pn_pattern   = 4        # pattern selection\n",
    "pn_pi_min    = 300.     # Low energy range eV\n",
    "pn_pi_max    = 12000.   # High energy range eV\n",
    "pn_flag      = 0        # FLAG\n",
    "\n",
    "# For display purposes only, define a minimum filtering criteria for EPIC-MOS\n",
    "\n",
    "mos_pattern   = 12      # pattern selection\n",
    "mos_pi_min    = 300.    # Low energy range eV\n",
    "mos_pi_max    = 20000.  # High energy range eV\n",
    "mos_flag      = 0       # FLAG\n",
    "\n",
    "plt.figure(figsize=(15,25))\n",
    "\n",
    "pl=1\n",
    "\n",
    "pnevt_list = odf.files['pnevt_list']\n",
    "m1evt_list = odf.files['m1evt_list']\n",
    "m2evt_list = odf.files['m2evt_list']\n",
    "\n",
    "evts=len(pnevt_list)+len(m1evt_list)+len(m2evt_list)\n",
    "if len(pnevt_list) >0:\n",
    "    for x in pnevt_list:\n",
    "        hdu_list = fits.open(x, memmap=True)\n",
    "        evt_data = Table(hdu_list[1].data)\n",
    "        \n",
    "        mask = ((evt_data['PATTERN'] <= pn_pattern) &\n",
    "                (evt_data['FLAG'] == pn_flag) &\n",
    "                (evt_data['PI'] >= pn_pi_min) &\n",
    "                (evt_data['PI'] <= pn_pi_max))\n",
    "        print(\"Events in event file\" + \" \" + x + \": \" + str(len(evt_data)) + \"\\n\")\n",
    "        print(\"Events in filtered event file\" + \" \" + x + \": \" + str(np.sum(mask)) + \"\\n\")\n",
    "\n",
    "# Create Events image        \n",
    "\n",
    "        xmax=np.amax(evt_data['X']) \n",
    "        xmin=np.amin(evt_data['X']) \n",
    "        xmid=(xmax-xmin)/2.+xmin\n",
    "        ymax=np.amax(evt_data['Y']) \n",
    "        ymin=np.amin(evt_data['Y'])\n",
    "        xbin_size=80\n",
    "        ybin_size=80\n",
    "        NBINS = (int((xmax-xmin)/xbin_size),int((ymax-ymin)/ybin_size))\n",
    "   \n",
    "        plt.subplot(evts, 2, pl)\n",
    "\n",
    "        img_zero_mpl = plt.hist2d(evt_data['X'], evt_data['Y'], NBINS, cmap='GnBu', norm=LogNorm())\n",
    "\n",
    "        cbar = plt.colorbar(ticks=[10.,100.,1000.])\n",
    "        cbar.ax.set_yticklabels(['10','100','1000'])\n",
    "        \n",
    "        plt.title(x)\n",
    "        plt.xlabel('x')\n",
    "        plt.ylabel('y')\n",
    "   \n",
    "        pl=pl+1\n",
    "    \n",
    "# Create Filtered Events image\n",
    "\n",
    "        xmax=np.amax(evt_data['X'][mask]) \n",
    "        xmin=np.amin(evt_data['X'][mask]) \n",
    "        xmid=(xmax-xmin)/2.+xmin\n",
    "        ymax=np.amax(evt_data['Y'][mask]) \n",
    "        ymin=np.amin(evt_data['Y'][mask])\n",
    "        xbin_size=80\n",
    "        ybin_size=80\n",
    "        NBINS = (int((xmax-xmin)/xbin_size),int((ymax-ymin)/ybin_size))\n",
    "   \n",
    "        plt.subplot(evts, 2, pl)\n",
    "\n",
    "        img_zero_mpl = plt.hist2d(evt_data['X'][mask], evt_data['Y'][mask], NBINS, cmap='GnBu', norm=LogNorm())\n",
    "\n",
    "        cbar = plt.colorbar(ticks=[10.,100.,1000.])\n",
    "        cbar.ax.set_yticklabels(['10','100','1000'])\n",
    "        \n",
    "        plt.title(x)\n",
    "        plt.xlabel('x')\n",
    "        plt.ylabel('y')\n",
    "\n",
    "        txt=(\"PATTERN <= \" + str(pn_pattern) + \n",
    "            \" : \" + str(pn_pi_min) + \" <= E(eV) <= \" + str(pn_pi_max) + \n",
    "            \" : \" + \" FLAG = \" + str(pn_flag))\n",
    "        plt.text(xmid, ymin+0.1*(ymax-ymin), txt, ha='center')\n",
    "    \n",
    "        pl=pl+1\n",
    "\n",
    "        hdu_list.close()\n",
    "    \n",
    "if len(m1evt_list) >0:\n",
    "    for x in m1evt_list:\n",
    "        hdu_list = fits.open(x, memmap=True)\n",
    "        evt_data = Table(hdu_list[1].data)\n",
    "\n",
    "        mask = ((evt_data['PATTERN'] <= mos_pattern) &\n",
    "                (evt_data['FLAG'] == mos_flag) &\n",
    "                (evt_data['PI'] >= mos_pi_min) &\n",
    "                (evt_data['PI'] <= mos_pi_max))\n",
    "        print(\"Events in event file\" + \" \" + x + \": \" + str(len(evt_data)) + \"\\n\")\n",
    "        print(\"Events in filtered event file\" + \" \" + x + \": \" + str(np.sum(mask)) + \"\\n\")\n",
    "\n",
    "# Create Events image            \n",
    "\n",
    "        xmax=np.amax(evt_data['X']) \n",
    "        xmin=np.amin(evt_data['X']) \n",
    "        xmid=(xmax-xmin)/2.+xmin\n",
    "        ymax=np.amax(evt_data['Y']) \n",
    "        ymin=np.amin(evt_data['Y'])\n",
    "        xbin_size=80\n",
    "        ybin_size=80\n",
    "        NBINS = (int((xmax-xmin)/xbin_size),int((ymax-ymin)/ybin_size))\n",
    "   \n",
    "        plt.subplot(evts, 2, pl)\n",
    "\n",
    "        img_zero_mpl = plt.hist2d(evt_data['X'], evt_data['Y'], NBINS, cmap='GnBu', norm=LogNorm())\n",
    "\n",
    "        cbar = plt.colorbar(ticks=[10.,100.,1000.])\n",
    "        cbar.ax.set_yticklabels(['10','100','1000'])\n",
    "        \n",
    "        plt.title(x)\n",
    "        plt.xlabel('x')\n",
    "        plt.ylabel('y')\n",
    " \n",
    "        pl=pl+1\n",
    "    \n",
    "# Create Filtered Events image\n",
    "\n",
    "        xmax=np.amax(evt_data['X'][mask]) \n",
    "        xmin=np.amin(evt_data['X'][mask]) \n",
    "        xmid=(xmax-xmin)/2.+xmin\n",
    "        ymax=np.amax(evt_data['Y'][mask]) \n",
    "        ymin=np.amin(evt_data['Y'][mask])\n",
    "        xbin_size=80\n",
    "        ybin_size=80\n",
    "        NBINS = (int((xmax-xmin)/xbin_size),int((ymax-ymin)/ybin_size))\n",
    "   \n",
    "        plt.subplot(evts, 2, pl)\n",
    "\n",
    "        img_zero_mpl = plt.hist2d(evt_data['X'][mask], evt_data['Y'][mask], NBINS, cmap='GnBu', norm=LogNorm())\n",
    "\n",
    "        cbar = plt.colorbar(ticks=[10.,100.,1000.])\n",
    "        cbar.ax.set_yticklabels(['10','100','1000'])\n",
    "        \n",
    "        plt.title(x)\n",
    "        plt.xlabel('x')\n",
    "        plt.ylabel('y')\n",
    "\n",
    "        txt=(\"PATTERN <= \" + str(mos_pattern) + \n",
    "            \" : \" + str(mos_pi_min) + \" <= E(eV) <= \" + str(mos_pi_max) +\n",
    "            \" : \" + \" FLAG = \" + str(mos_flag))\n",
    "        plt.text(xmid, ymin+0.1*(ymax-ymin), txt, ha='center')\n",
    " \n",
    "        pl=pl+1\n",
    "    \n",
    "        hdu_list.close()\n",
    "    \n",
    "if len(m2evt_list) >0:\n",
    "    for x in m2evt_list:\n",
    "        hdu_list = fits.open(x, memmap=True)\n",
    "        evt_data = Table(hdu_list[1].data)\n",
    "\n",
    "        mask = ((evt_data['PATTERN'] <= mos_pattern) &\n",
    "                (evt_data['FLAG'] == mos_flag) &\n",
    "                (evt_data['PI'] >= mos_pi_min) &\n",
    "                (evt_data['PI'] <= mos_pi_max))\n",
    "        print(\"Events in event file\" + \" \" + x + \": \" + str(len(evt_data)) + \"\\n\")\n",
    "        print(\"Events in filtered event file\" + \" \" + x + \": \" + str(np.sum(mask)) + \"\\n\")\n",
    "        \n",
    "# Create Events image\n",
    "\n",
    "        xmax=np.amax(evt_data['X']) \n",
    "        xmin=np.amin(evt_data['X']) \n",
    "        xmid=(xmax-xmin)/2.+xmin\n",
    "        ymax=np.amax(evt_data['Y']) \n",
    "        ymin=np.amin(evt_data['Y'])\n",
    "        xbin_size=80\n",
    "        ybin_size=80\n",
    "        NBINS = (int((xmax-xmin)/xbin_size),int((ymax-ymin)/ybin_size))\n",
    "   \n",
    "        plt.subplot(evts, 2, pl)\n",
    "\n",
    "        img_zero_mpl = plt.hist2d(evt_data['X'], evt_data['Y'], NBINS, cmap='GnBu', norm=LogNorm())\n",
    "\n",
    "        cbar = plt.colorbar(ticks=[10.,100.,1000.])\n",
    "        cbar.ax.set_yticklabels(['10','100','1000'])\n",
    "\n",
    "        plt.title(x)\n",
    "        plt.xlabel('x')\n",
    "        plt.ylabel('y')\n",
    "       \n",
    "        pl=pl+1\n",
    "    \n",
    "# Create Filtered Events image    \n",
    "       \n",
    "        xmax=np.amax(evt_data['X'][mask]) \n",
    "        xmin=np.amin(evt_data['X'][mask]) \n",
    "        xmid=(xmax-xmin)/2.+xmin\n",
    "        ymax=np.amax(evt_data['Y'][mask]) \n",
    "        ymin=np.amin(evt_data['Y'][mask])\n",
    "        xbin_size=80\n",
    "        ybin_size=80\n",
    "        NBINS = (int((xmax-xmin)/xbin_size),int((ymax-ymin)/ybin_size))\n",
    "   \n",
    "        plt.subplot(evts, 2, pl)\n",
    "\n",
    "        img_zero_mpl = plt.hist2d(evt_data['X'][mask], evt_data['Y'][mask], NBINS, cmap='GnBu', norm=LogNorm())\n",
    "\n",
    "        cbar = plt.colorbar(ticks=[10.,100.,1000.])\n",
    "        cbar.ax.set_yticklabels(['10','100','1000'])\n",
    "\n",
    "        plt.title(x)\n",
    "        plt.xlabel('x')\n",
    "        plt.ylabel('y')\n",
    "        \n",
    "        txt=(\"PATTERN <= \" + str(mos_pattern) + \n",
    "            \" : \" + str(mos_pi_min) + \" <= E(eV) <= \" + str(mos_pi_max) + \n",
    "            \" : \" + \" FLAG = \" + str(mos_flag))\n",
    "        plt.text(xmid, ymin+0.1*(ymax-ymin), txt, ha='center')\n",
    "\n",
    "        pl=pl+1\n",
    "\n",
    "        hdu_list.close()\n",
    "        \n"
   ]
  },
  {
   "cell_type": "markdown",
   "id": "25367ebb-f06f-4a77-9a61-8b01ac275cae",
   "metadata": {},
   "source": [
    "### How to accomplish specific reduction tasks\n",
    "\n",
    "[<tt>emproc</tt>](https://xmm-tools.cosmos.esa.int/external/sas/current/doc/emproc/index.html) and [<tt>epproc</tt>](https://xmm-tools.cosmos.esa.int/external/sas/current/doc/epproc/index.html) are highly flexible tasks, which allow the user to perform a wide range of customized reduction tasks. Some [<tt>emproc</tt>](https://xmm-tools.cosmos.esa.int/external/sas/current/doc/emproc/index.html) examples are listed below. The same customized reduction tasks can be performed for the EPIC-pn as well, just by substituting [<tt>emproc</tt>](https://xmm-tools.cosmos.esa.int/external/sas/current/doc/emproc/index.html) with [<tt>epproc</tt>](https://xmm-tools.cosmos.esa.int/external/sas/current/doc/epproc/index.html) in the commands.\n",
    "\n",
    "- If you want to reduce only one of the cameras (EPIC-MOS1 in the example):\n",
    "\n",
    "    <tt>emproc selectinstruments=yes emos1=yes</tt>"
   ]
  },
  {
   "cell_type": "code",
   "execution_count": null,
   "id": "344a1dab-dee8-420c-9f87-3e553cd7259f",
   "metadata": {
    "tags": []
   },
   "outputs": [],
   "source": [
    "# SAS Command\n",
    "cmd    = \"emproc\" # SAS task to be executed                  \n",
    "\n",
    "# Arguments of SAS Command\n",
    "inargs = ['selectinstruments=yes','emos1=yes']\n",
    "\n",
    "print(\"   SAS command to be executed: \"+cmd+\", with arguments; \\n\")\n",
    "inargs"
   ]
  },
  {
   "cell_type": "code",
   "execution_count": null,
   "id": "2dbdf172-fa5d-4d2f-82a5-a9aedbf07a71",
   "metadata": {},
   "outputs": [],
   "source": [
    "w(cmd, inargs).run()"
   ]
  },
  {
   "cell_type": "markdown",
   "id": "79ae37ee-e686-4f47-b3a6-703a335655e5",
   "metadata": {},
   "source": [
    "- If you want to reduce only a subsample of exposures:\n",
    "\n",
    "    <tt>emproc withinstexpids=yes instexpids=\"M1S001 M2S002\"</tt>"
   ]
  },
  {
   "cell_type": "code",
   "execution_count": null,
   "id": "88218b81-412c-4e45-937b-dd279329908d",
   "metadata": {},
   "outputs": [],
   "source": [
    "# SAS Command\n",
    "cmd    = \"emproc\" # SAS task to be executed                  \n",
    "\n",
    "# Arguments of SAS Command\n",
    "inargs = ['withinstexpids=yes','instexpids=\"M1S001 M2S002\"']\n",
    "\n",
    "print(\"   SAS command to be executed: \"+cmd+\", with arguments; \\n\")\n",
    "inargs"
   ]
  },
  {
   "cell_type": "code",
   "execution_count": null,
   "id": "1d499d73-0418-40ba-9916-8bcd14fb8071",
   "metadata": {},
   "outputs": [],
   "source": [
    "w(cmd, inargs).run()"
   ]
  },
  {
   "cell_type": "markdown",
   "id": "29710d7a-4895-4698-8363-ca25dd11504e",
   "metadata": {},
   "source": [
    "- If you want to reduce data from 1 CCD only (#4 and #5 in the example):\n",
    "\n",
    "    <tt>emproc selectccds=yes ccd4=yes ccd5=yes</tt>"
   ]
  },
  {
   "cell_type": "code",
   "execution_count": null,
   "id": "6adaa678-ec46-4b5c-97de-465491ed47a4",
   "metadata": {},
   "outputs": [],
   "source": [
    "# SAS Command\n",
    "cmd    = \"emproc\" # SAS task to be executed                  \n",
    "\n",
    "# Arguments of SAS Command\n",
    "inargs = ['selectccds=yes','ccd4=yes','ccd5=yes']\n",
    "\n",
    "print(\"   SAS command to be executed: \"+cmd+\", with arguments; \\n\")\n",
    "inargs"
   ]
  },
  {
   "cell_type": "code",
   "execution_count": null,
   "id": "43d7a60a-e5e0-4e84-adf5-98f2ea73faa4",
   "metadata": {},
   "outputs": [],
   "source": [
    "w(cmd, inargs).run()"
   ]
  },
  {
   "cell_type": "markdown",
   "id": "f1045911-3fac-416e-896a-43f45996709d",
   "metadata": {},
   "source": [
    "- If you want to change the reference pointing for the calculation of the sky coordinates to a value of your choice:\n",
    "\n",
    "    <tt>emproc referencepointing=user ra=34.65646 dec=-12.876546</tt>"
   ]
  },
  {
   "cell_type": "code",
   "execution_count": null,
   "id": "57e5aa4b-d089-4104-aebd-1e5ae75e2e19",
   "metadata": {},
   "outputs": [],
   "source": [
    "# SAS Command\n",
    "cmd    = \"emproc\" # SAS task to be executed                  \n",
    "\n",
    "# Arguments of SAS Command\n",
    "inargs = ['referencepointing=user','ra=34.65646','dec=-12.876546']\n",
    "\n",
    "print(\"   SAS command to be executed: \"+cmd+\", with arguments; \\n\")\n",
    "inargs"
   ]
  },
  {
   "cell_type": "code",
   "execution_count": null,
   "id": "718797ab-d0fe-4ad5-98e7-80f1737f316e",
   "metadata": {},
   "outputs": [],
   "source": [
    "w(cmd, inargs).run()"
   ]
  },
  {
   "cell_type": "markdown",
   "id": "8d4a5b08-b500-41c2-baa5-8c6f32e3d0ef",
   "metadata": {},
   "source": [
    "- Please be aware that if you want to supply coordinates for the analysis of the EPIC-MOS Timing mode, the command is slightly different, e.g.:\n",
    "\n",
    "    <tt>emproc withsrccoords=yes srcra=34.65646 srcdec=-12.876546</tt>\n",
    "\n",
    "- If you want to filter the event list events, using an external Good Time Interval (GTI) file (see the corresponding thread on how to filter event files for flaring particle background by creating a GTI file):\n",
    "\n",
    "    <tt>emproc withgtiset=yes gtiset=mygti.gti filterevents=yes</tt>"
   ]
  },
  {
   "cell_type": "code",
   "execution_count": null,
   "id": "a8b0956b-4292-483f-9550-a048a9c60a10",
   "metadata": {},
   "outputs": [],
   "source": [
    "# SAS Command\n",
    "cmd    = \"emproc\" # SAS task to be executed                  \n",
    "\n",
    "# Arguments of SAS Command\n",
    "inargs = ['withgtiset=yes','gtiset=mygti.gti','filterevents=yes']\n",
    "\n",
    "print(\"   SAS command to be executed: \"+cmd+\", with arguments; \\n\")\n",
    "inargs"
   ]
  },
  {
   "cell_type": "code",
   "execution_count": null,
   "id": "92251bd0-df04-417c-b45f-ae7b7f7cccbb",
   "metadata": {},
   "outputs": [],
   "source": [
    "w(cmd, inargs).run()"
   ]
  },
  {
   "cell_type": "markdown",
   "id": "a9103ffe-e01e-48cd-8244-c6e2b1e0ab46",
   "metadata": {},
   "source": [
    "Parameters can be combined to accomplish simultaneously two or more of the above tasks during the same run.\n",
    "\n",
    "The user is referred to the on-line documentation of [<tt>emproc</tt>](https://xmm-tools.cosmos.esa.int/external/sas/current/doc/emproc/index.html) and [<tt>epproc</tt>](https://xmm-tools.cosmos.esa.int/external/sas/current/doc/epproc/index.html) for a complete list of the available options."
   ]
  },
  {
   "cell_type": "markdown",
   "id": "3a4bab7b-3503-4023-878d-726f3c025247",
   "metadata": {},
   "source": [
    "### Reduction of EPIC-pn Timing Mode exposures\n",
    "\n",
    "Most exposures in EPIC-pn Timing Mode are affected by X-ray Loading (XRL; cf. Sect.3.1 in Guainazzi et al., 2013, [XMM-SOC-CAL-TN-0083](http://xmm2.esac.esa.int/docs/documents/CAL-TN-0083.pdf)). Furthermore, a residual dependence of the energy scale on the total count rate is corrected through the \"Rate-Dependent PHA\" correction (Guainazzi, 2014, [XMM-CCF-REL-312](http://xmm2.esac.esa.int/docs/documents/CAL-SRN-0312-1-4.pdf)). In order to correct for these effects a set of default calibration settings have been identified. As of SAS v14.0, this is controlled by a single parameter within the tasks [<tt>epproc</tt>](https://xmm-tools.cosmos.esa.int/external/sas/current/doc/epproc/index.html) and [<tt>epchain</tt>](https://xmm-tools.cosmos.esa.int/external/sas/current/doc/epchain/index.html). This parameter is called <tt>withdefaultcal</tt> and is set to <tt>yes</tt> by default. Setting <tt>withdefaultcal=yes</tt> implies <tt>runepreject=yes withxrlcorrection=yes runepfast=no withrdpha=yes</tt>. So one shall run the EPIC-pn reduction meta-tasks as follows:\n",
    "\n",
    "&emsp;&emsp;<tt>epproc </tt>\n",
    "\n",
    "or:\n",
    "\n",
    "&emsp;&emsp;<tt>epchain datamode=TIMING</tt>\n",
    "\n",
    "For more information please refer to the documentation of [<tt>epproc</tt>](https://xmm-tools.cosmos.esa.int/external/sas/current/doc/epproc/index.html) and [<tt>epchain</tt>](https://xmm-tools.cosmos.esa.int/external/sas/current/doc/epchain/index.html)."
   ]
  },
  {
   "cell_type": "markdown",
   "id": "c3a3a986-3d7d-46fb-b9d1-c52bc59900a6",
   "metadata": {},
   "source": [
    "### Reduction of EPIC-pn Burst Mode exposures\n",
    "\n",
    "Most exposures in EPIC-pn Burst Mode are affected by X-ray Loading (XRL; cf. Sect.3.1 in Guainazzi et al., 2013, [XMM-SOC-CAL-TN-0083](http://xmm2.esac.esa.int/docs/documents/CAL-TN-0083.pdf)). Furthermore, a residual dependence of the energy scale on the total count rate is corrected through the \"Rate-Dependent CTI\" correction. In order to correct for these effects a set of default calibration settings have been identified. As of SAS v14.0, this is controlled by a single parameter within the tasks [<tt>epproc</tt>](https://xmm-tools.cosmos.esa.int/external/sas/current/doc/epproc/index.html) and [<tt>epchain</tt>](https://xmm-tools.cosmos.esa.int/external/sas/current/doc/epchain/index.html). This parameter is called <tt>withdefaultcal</tt> and is set to <tt>yes</tt> by default. Setting <tt>withdefaultcal=yes</tt> implies <tt>runepreject=yes withxrlcorrection=yes runepfast=yes withrdpha=no</tt>. So one shall run the EPIC-pn reduction meta-tasks as follows:\n",
    "\n",
    "&emsp;&emsp;<tt>epproc burst=yes</tt>\n",
    "\n",
    "Notice the inclusion of the extra parameter <tt>burst=yes</tt> in the call to [<tt>epproc</tt>](https://xmm-tools.cosmos.esa.int/external/sas/current/doc/epproc/index.html) and [<tt>epchain</tt>](https://xmm-tools.cosmos.esa.int/external/sas/current/doc/epchain/index.html) also needs an extra parameter:\n",
    "\n",
    "&emsp;&emsp;<tt>epchain datamode=BURST</tt>"
   ]
  },
  {
   "cell_type": "code",
   "execution_count": null,
   "id": "85f03432-0275-474b-8b4d-3256f73a810a",
   "metadata": {},
   "outputs": [],
   "source": [
    "# SAS Command\n",
    "cmd    = \"epchain\" # SAS task to be executed                  \n",
    "\n",
    "# Arguments of SAS Command\n",
    "inargs = ['datamode=BURST']\n",
    "\n",
    "print(\"   SAS command to be executed: \"+cmd+\", with arguments; \\n\")\n",
    "inargs"
   ]
  },
  {
   "cell_type": "code",
   "execution_count": null,
   "id": "457b7b19-96ac-422e-87d4-e8c62ea45433",
   "metadata": {},
   "outputs": [],
   "source": [
    "w(cmd,inargs).run()"
   ]
  }
 ],
 "metadata": {
  "kernelspec": {
   "display_name": "Python 3 (ipykernel)",
   "language": "python",
   "name": "python3"
  },
  "language_info": {
   "codemirror_mode": {
    "name": "ipython",
    "version": 3
   },
   "file_extension": ".py",
   "mimetype": "text/x-python",
   "name": "python",
   "nbconvert_exporter": "python",
   "pygments_lexer": "ipython3",
   "version": "3.11.5"
  }
 },
 "nbformat": 4,
 "nbformat_minor": 5
}

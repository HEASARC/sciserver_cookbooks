{
 "cells": [
  {
   "cell_type": "markdown",
   "id": "e10d847e-8f3d-4ad1-b0d4-c2427a7a7002",
   "metadata": {},
   "source": [
    "# pySAS Introduction -- Short Version\n",
    "---\n",
    "This tutorial provides a short, basic introduction to using pySAS on SciServer. It only covers how to download observation data files and how to calibrate the data.  A much more comprehensive introduction can be found in the <a href=\"./xmm-pysas-intro-long.ipynb\">Long pySAS Introduction</a>. This tutorial is intened for those who are already familiar with SAS commands and want to use Python to run SAS commands. A tutorial on how to learn to use SAS and pySAS for XMM analysis can be found in <a href=\"./xmm-ABC-guide-p1.ipynb\">The XMM-Newton ABC Guide</a>. In this tutorial we will demonstrate,\n",
    "\n",
    "1. How to select a directory for data and analysis.\n",
    "2. How to copy XMM data from the HEASARC archive.\n",
    "3. How to run the standard XMM SAS commands `cfibuild` and `odfingest`.\n",
    "\n",
    "This tutorial uses an observation of NGC3079 (`obsid = '0802710101'`).\n",
    "\n",
    "The following assumes this notebook is run from the <tt>(xmmsas)</tt> environment on SciServer. You should see <tt>(xmmsas)</tt> at the top right of the notebook. If not, click there and select <tt>(xmmsas)</tt>.\n",
    "\n",
    "- [XMM Newton GOF Helpdesk](https://heasarc.gsfc.nasa.gov/docs/xmm/xmm_helpdesk.html \"Helpdesk\") - Link to form to contact the GOF Helpdesk."
   ]
  },
  {
   "cell_type": "markdown",
   "id": "36e8ac89-bfa6-4e81-b9d5-57353b98dd45",
   "metadata": {},
   "source": [
    "##### Last Reviewed: _1 May 2024, for SAS v21_\n",
    "##### Last Updated: _1 May 2024_\n",
    "##### By: Ryan Tanner (ryan.tanner@nasa.gov)\n",
    "---"
   ]
  },
  {
   "cell_type": "markdown",
   "id": "615f2005-6eb6-4c49-bae2-e44f15afba6b",
   "metadata": {},
   "source": [
    "<div class=\"alert alert-block alert-warning\">\n",
    "    <b>Warning:</b> By default this notebook will place observation data files in your <tt>scratch</tt> space. The <tt>scratch</tt> space on SciServer will only retain files for 90 days. If you wish to keep the data files for longer move them into your <tt>persistent</tt> directory.\n",
    "</div>"
   ]
  },
  {
   "cell_type": "code",
   "execution_count": null,
   "id": "d9e16368-833b-4661-be09-881a67724efc",
   "metadata": {},
   "outputs": [],
   "source": [
    "import os\n",
    "import pysas\n",
    "usr = os.listdir('/home/idies/workspace/Temporary/')[0]\n",
    "data_dir = os.path.join('/home/idies/workspace/Temporary/',usr,'scratch/xmm_data')\n",
    "obsid = '0802710101'"
   ]
  },
  {
   "cell_type": "markdown",
   "id": "6cc6ed41-f636-48e2-b775-beb8e62f8031",
   "metadata": {},
   "source": [
    "## Run `odf.odfcompile`\n",
    "\n",
    "When you run the cell below the following things will happen.\n",
    "\n",
    "1. `odfcompile` will check if `data_dir` exists, and if not it will create it.\n",
    "2. Inside data_dir `odfcompile` will create a directory with the value for the obs ID (i.e. `$data_dir/0802710101/`).\n",
    "3. Inside of that, `odfcompile` will create two directories:\n",
    "\n",
    "    a. `$data_dir/0802710101/ODF` where the observation data files are kept.\n",
    "    \n",
    "    b. `$data_dir/0802710101/work` where the `ccf.cif`, `*SUM.SAS`, and output files are kept. All SAS tasks should be run from this directory.\n",
    "4. `odfcompile` will automatically transfer the data for `obsid` to `$data_dir/0802710101/ODF` from the HEASARC archive.\n",
    "5. `odfcompile` will run `cfibuild` and `odfingest`.\n",
    "\n",
    "That is it! Your data is now calibrated and ready for use with all the standard SAS commands!"
   ]
  },
  {
   "cell_type": "code",
   "execution_count": null,
   "id": "807b1b81-15fc-4033-a890-c20aad4f540d",
   "metadata": {
    "tags": []
   },
   "outputs": [],
   "source": [
    "odf = pysas.odfcontrol.ODFobject(obsid)\n",
    "odf.odfcompile(data_dir=data_dir,repo='sciserver',overwrite=True)"
   ]
  },
  {
   "cell_type": "markdown",
   "id": "9d902e6f-b877-4cb4-8c5c-2e7e78effb34",
   "metadata": {},
   "source": [
    "If you want more information on the function `odfcompile` run the cell below or see the long introduction tutorial."
   ]
  },
  {
   "cell_type": "code",
   "execution_count": null,
   "id": "b14a91f5-08cb-488c-b3a3-b2fa10e72bf1",
   "metadata": {
    "tags": []
   },
   "outputs": [],
   "source": [
    "odf.odfcompile?"
   ]
  },
  {
   "cell_type": "markdown",
   "id": "4f0945a2-8f6d-49ef-90f4-6805670e1a47",
   "metadata": {},
   "source": [
    "---\n",
    "To run SAS tasks, especially ones not written in Python, you will need to import a wrapper from pySAS. SAS tasks should be run from the work directory. The location of the work direcotry is stored as a variable in `odf.work_dir`."
   ]
  },
  {
   "cell_type": "code",
   "execution_count": null,
   "id": "0ee9af23-785d-4350-831e-f12707e2bc3c",
   "metadata": {},
   "outputs": [],
   "source": [
    "from pysas.wrapper import Wrapper as w\n",
    "os.chdir(odf.work_dir)"
   ]
  },
  {
   "cell_type": "markdown",
   "id": "a6550002-2b18-4bcb-9f90-277fe42722f1",
   "metadata": {},
   "source": [
    "The wrapper, imported as `w`, takes two inputs, the name of the SAS task to run, and a Python list of all the input arguments for that task. For example, to run a task with no input arguments you simply provide an empty list as the second argument."
   ]
  },
  {
   "cell_type": "code",
   "execution_count": null,
   "id": "d48b9624-e2bd-4455-a62b-e3054f80b01e",
   "metadata": {},
   "outputs": [],
   "source": [
    "inargs = []\n",
    "w('epproc', inargs).run()"
   ]
  },
  {
   "cell_type": "code",
   "execution_count": null,
   "id": "9a7ba5f1-a307-424c-94fe-7ac494cdca36",
   "metadata": {},
   "outputs": [],
   "source": [
    "w('emproc', []).run()"
   ]
  },
  {
   "cell_type": "code",
   "execution_count": null,
   "id": "cb9ccdd1-9409-46c4-97f0-f43d7cc9eb6a",
   "metadata": {},
   "outputs": [],
   "source": [
    "w('rgsproc', []).run()"
   ]
  },
  {
   "cell_type": "code",
   "execution_count": null,
   "id": "2e133d2c-e96e-465e-aae6-32e0d48cc92c",
   "metadata": {},
   "outputs": [],
   "source": [
    "w('omichain', []).run()"
   ]
  },
  {
   "cell_type": "markdown",
   "id": "72e48655-eab6-440f-83b4-46e4154a56fc",
   "metadata": {},
   "source": [
    "You can list all input arguments available to any SAS task with option `'--help'` (or `'-h'`),"
   ]
  },
  {
   "cell_type": "code",
   "execution_count": null,
   "id": "7ad05c30-1048-4304-b382-b926bed7efe2",
   "metadata": {
    "tags": []
   },
   "outputs": [],
   "source": [
    "w('epproc', ['-h']).run()"
   ]
  },
  {
   "cell_type": "markdown",
   "id": "024ec522-15c6-4884-86e6-10cc2255b9e4",
   "metadata": {},
   "source": [
    "If there are multiple input arguments then each needs to be a separate string in the Python list.\n",
    "\n",
    "---\n",
    "For convenience there is a function called `basic_setup` which will run `odfcompile`, and then run both `epproc` and `emproc`. This allows for data to be copied into your personal data space, calibrated, and run two of the most common SAS tasks, all with a single command."
   ]
  },
  {
   "cell_type": "code",
   "execution_count": null,
   "id": "2957e454-8c41-4ef0-8c5f-7c6c60b4f36f",
   "metadata": {},
   "outputs": [],
   "source": [
    "odf = pysas.odfcontrol.ODFobject(obsid)\n",
    "odf.basic_setup(data_dir=data_dir,overwrite=False,repo='sciserver',rerun=False)"
   ]
  },
  {
   "cell_type": "markdown",
   "id": "76f1aa54-f56d-4e80-a789-e0a501959e8f",
   "metadata": {},
   "source": [
    "Running `basic_setup(data_dir=data_dir,overwrite=False,repo='sciserver')` is the same as running the following commands:\n",
    "\n",
    "    odf.setodf(data_dir=data_dir,overwrite=False,repo='sciserver')\n",
    "    odf.runanalysis('epproc',[],rerun=False)\n",
    "    odf.runanalysis('emproc',[],rerun=False)\n",
    "    \n",
    "Using the function `odf.runanalysis` with <tt>rerun=False</tt> will check if `epproc` or `emproc` have already been run and will not overwrite existing output files. If <tt>rerun=True</tt> then previous output files will be ignored and overwritten.\n",
    "    \n",
    "For more information see the function documentation."
   ]
  },
  {
   "cell_type": "code",
   "execution_count": null,
   "id": "d43dd7eb-b02d-4e4e-a92e-8a88d90b4b1e",
   "metadata": {},
   "outputs": [],
   "source": [
    "odf.basic_setup?"
   ]
  },
  {
   "cell_type": "markdown",
   "id": "e966c78e-4a18-407f-a6ad-c3df0001a929",
   "metadata": {},
   "source": [
    "---\n",
    "Here is an example of how to apply a \"standard\" filter. This is equivelant to running the following SAS command:\n",
    "\n",
    "```\n",
    "evselect table=unfiltered_event_list.fits withfilteredset=yes \\\n",
    "    expression='(PATTERN $<=$ 12)&&(PI in [200:12000])&&#XMMEA_EM' \\\n",
    "    filteredset=filtered_event_list.fits filtertype=expression keepfilteroutput=yes \\\n",
    "    updateexposure=yes filterexposure=yes\n",
    "```\n",
    "\n",
    "The input arguments should be in a list, with each input argument a separate string. Note: Some inputs require single quotes to be preserved in the string. This can be done using double quotes to form the string. i.e. `\"expression='(PATTERN <= 12)&&(PI in [200:4000])&&#XMMEA_EM'\"`"
   ]
  },
  {
   "cell_type": "code",
   "execution_count": null,
   "id": "b7dce6bb-6b6a-4e77-bf8c-85d4485b54ab",
   "metadata": {},
   "outputs": [],
   "source": [
    "unfiltered_event_list = odf.files['m1evt_list'][0]\n",
    "\n",
    "inargs = ['table={0}'.format(unfiltered_event_list), \n",
    "          'withfilteredset=yes', \n",
    "          \"expression='(PATTERN <= 12)&&(PI in [200:4000])&&#XMMEA_EM'\", \n",
    "          'filteredset=filtered_event_list.fits', \n",
    "          'filtertype=expression', \n",
    "          'keepfilteroutput=yes', \n",
    "          'updateexposure=yes', \n",
    "          'filterexposure=yes']\n",
    "\n",
    "w('evselect', inargs).run()"
   ]
  }
 ],
 "metadata": {
  "kernelspec": {
   "display_name": "(xmmsas)",
   "language": "python",
   "name": "conda-env-xmmsas-py"
  },
  "language_info": {
   "codemirror_mode": {
    "name": "ipython",
    "version": 3
   },
   "file_extension": ".py",
   "mimetype": "text/x-python",
   "name": "python",
   "nbconvert_exporter": "python",
   "pygments_lexer": "ipython3",
   "version": "3.10.14"
  }
 },
 "nbformat": 4,
 "nbformat_minor": 5
}

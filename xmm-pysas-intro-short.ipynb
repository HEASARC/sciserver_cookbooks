{
 "cells": [
  {
   "cell_type": "markdown",
   "id": "e10d847e-8f3d-4ad1-b0d4-c2427a7a7002",
   "metadata": {},
   "source": [
    "# pySAS Introduction -- Short Version\n",
    "---\n",
    "This tutorial provides a short, basic introduction to using pySAS on SciServer. A much more comprehensive introduction can be found in the <a href=\"./xmm-pysas-intro-long.ipynb\">Long pySAS Introduction</a> In this tutorial we will demonstrate,\n",
    "\n",
    "1. How to select a directory for data and analysis.\n",
    "2. How to copy XMM data from the HEASARC archive.\n",
    "3. How to run the standard XMM SAS commands `cfibuild` and `odfingest`.\n",
    "\n",
    "This tutorial uses an observation of NGC3079 (`obsid = '0802710101'`).\n",
    "\n",
    "The following assumes this notebook is run from the <tt>(xmmsas)</tt> environment on SciServer. You should see <tt>(xmmsas)</tt> at the top right of the notebook. If not, click there and select <tt>(xmmsas)</tt>.\n",
    "\n",
    "- [XMM Newton GOF Helpdesk](https://heasarc.gsfc.nasa.gov/docs/xmm/xmm_helpdesk.html \"Helpdesk\") - Link to form to contact the GOF Helpdesk."
   ]
  },
  {
   "cell_type": "markdown",
   "id": "36e8ac89-bfa6-4e81-b9d5-57353b98dd45",
   "metadata": {},
   "source": [
    "##### Last Reviewed: _12 December 2023, for SAS v21_\n",
    "##### Last Updated: _12 December 2023_\n",
    "---"
   ]
  },
  {
   "cell_type": "markdown",
   "id": "615f2005-6eb6-4c49-bae2-e44f15afba6b",
   "metadata": {},
   "source": [
    "<div class=\"alert alert-block alert-warning\">\n",
    "    <b>Warning:</b> Make sure you are running this notebook inside your <tt>persistent</tt> directory. If it is not inside the <tt>persistent</tt> directory your data will be lost upon exiting SciServer.\n",
    "</div>"
   ]
  },
  {
   "cell_type": "markdown",
   "id": "75762b72-06c8-4dc5-96a1-856582d3b005",
   "metadata": {},
   "source": [
    "<div class=\"alert alert-block alert-info\">\n",
    "    <b>Note:</b> This notebook uses a development version of <tt>pysas</tt>, known as <tt>gofpysas</tt>. The main difference between <tt>gofpysas</tt> and <tt>pysas</tt> is the <tt>odf</tt> object, which contains additional functions to simplify the proccess of downloading and calibrating data, along with storing links to various directories and files. <tt>gofpysas</tt> was developed specifically for SciServer, and all capabilites will be incorporated into a future release of <tt>pysas</tt>.\n",
    "</div>"
   ]
  },
  {
   "cell_type": "code",
   "execution_count": null,
   "id": "dbba53a7-a029-4aea-87a6-1e51a6423079",
   "metadata": {},
   "outputs": [],
   "source": [
    "import os\n",
    "import gofpysas as pysas\n",
    "data_dir = os.join.path(os.getcwd(),'xmm_data')\n",
    "obsid = '0802710101'"
   ]
  },
  {
   "cell_type": "markdown",
   "id": "6cc6ed41-f636-48e2-b775-beb8e62f8031",
   "metadata": {},
   "source": [
    "## Run `odf.odfcompile`\n",
    "\n",
    "When you run the cell below the following things will happen.\n",
    "\n",
    "1. `odfcompile` will check if `data_dir` exists, and if not it will create it.\n",
    "2. Inside data_dir `odfcompile` will create a directory with the value for the obs ID (i.e. `$data_dir/0802710101/`).\n",
    "3. Inside of that, `odfcompile` will create two directories:\n",
    "\n",
    "    a. `$data_dir/0802710101/ODF` where the observation data files are kept.\n",
    "    \n",
    "    b. `$data_dir/0802710101/work` where the `ccf.cif`, `*SUM.SAS`, and output files are kept. All SAS tasks should be run from this directory.\n",
    "4. `odfcompile` will automatically transfer the data for `obsid` to `$data_dir/0802710101/ODF` from the HEASARC archive.\n",
    "5. `odfcompile` will run `cfibuild` and `odfingest`.\n",
    "\n",
    "That is it! Your data is now calibrated and ready for analysis!"
   ]
  },
  {
   "cell_type": "code",
   "execution_count": null,
   "id": "807b1b81-15fc-4033-a890-c20aad4f540d",
   "metadata": {
    "tags": []
   },
   "outputs": [],
   "source": [
    "odf = pysas.odfcontrol.ODFobject(obsid)\n",
    "odf.odfcompile(data_dir=data_dir,repo='sciserver')"
   ]
  },
  {
   "cell_type": "markdown",
   "id": "9d902e6f-b877-4cb4-8c5c-2e7e78effb34",
   "metadata": {},
   "source": [
    "If you want more information on the function `odfcompile` run the cell below or see the long introduction tutorial."
   ]
  },
  {
   "cell_type": "code",
   "execution_count": null,
   "id": "b14a91f5-08cb-488c-b3a3-b2fa10e72bf1",
   "metadata": {
    "tags": []
   },
   "outputs": [],
   "source": [
    "odf.odfcompile?"
   ]
  },
  {
   "cell_type": "markdown",
   "id": "4f0945a2-8f6d-49ef-90f4-6805670e1a47",
   "metadata": {},
   "source": [
    "To run SAS tasks, especially ones not written in Python, you will need to import a wrapper from pySAS. SAS tasks should be run from the work directory. The location of the work direcotry is stored as a variable in `odf.work_dir`."
   ]
  },
  {
   "cell_type": "code",
   "execution_count": null,
   "id": "0ee9af23-785d-4350-831e-f12707e2bc3c",
   "metadata": {},
   "outputs": [],
   "source": [
    "from pysas.wrapper import Wrapper as w\n",
    "os.chdir(odf.work_dir)"
   ]
  },
  {
   "cell_type": "markdown",
   "id": "a6550002-2b18-4bcb-9f90-277fe42722f1",
   "metadata": {},
   "source": [
    "All SAS tasks are called by inputing the name of the task into the wrapper along with any input arguments."
   ]
  },
  {
   "cell_type": "code",
   "execution_count": null,
   "id": "d48b9624-e2bd-4455-a62b-e3054f80b01e",
   "metadata": {},
   "outputs": [],
   "source": [
    "inargs = []\n",
    "w('epproc', inargs).run()"
   ]
  },
  {
   "cell_type": "code",
   "execution_count": null,
   "id": "9a7ba5f1-a307-424c-94fe-7ac494cdca36",
   "metadata": {},
   "outputs": [],
   "source": [
    "w('emproc', []).run()"
   ]
  },
  {
   "cell_type": "code",
   "execution_count": null,
   "id": "cb9ccdd1-9409-46c4-97f0-f43d7cc9eb6a",
   "metadata": {},
   "outputs": [],
   "source": [
    "w('rgsproc', []).run()"
   ]
  },
  {
   "cell_type": "markdown",
   "id": "72e48655-eab6-440f-83b4-46e4154a56fc",
   "metadata": {},
   "source": [
    "You can list all options available to any SAS task with option `'--help'` (or `'-h'`),"
   ]
  },
  {
   "cell_type": "code",
   "execution_count": null,
   "id": "7ad05c30-1048-4304-b382-b926bed7efe2",
   "metadata": {
    "tags": []
   },
   "outputs": [],
   "source": [
    "w('epproc', ['-h']).run()"
   ]
  }
 ],
 "metadata": {
  "kernelspec": {
   "display_name": "Python 3 (ipykernel)",
   "language": "python",
   "name": "python3"
  },
  "language_info": {
   "codemirror_mode": {
    "name": "ipython",
    "version": 3
   },
   "file_extension": ".py",
   "mimetype": "text/x-python",
   "name": "python",
   "nbconvert_exporter": "python",
   "pygments_lexer": "ipython3",
   "version": "3.11.5"
  }
 },
 "nbformat": 4,
 "nbformat_minor": 5
}

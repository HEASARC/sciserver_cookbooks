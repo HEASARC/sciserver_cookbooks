{
 "cells": [
  {
   "cell_type": "markdown",
   "id": "6fb892c9",
   "metadata": {},
   "source": [
    "# Content\n",
    "This notebook presents a tutorial of how to access HEASARC data using the virtual observatory (VO) python client `pyvo`.\n",
    "\n",
    "The use case is a user searching for data on a specific Astronomical object from a specific high energy table. The other [data access tutorial](data_access.ipynb) gives examples other ways to search and access the archive with notebooks.\n",
    "\n",
    "The first steps in this example are:\n",
    "- Assume we are searching the NuSTAR master catalog `numaster`.\n",
    "- Use `pyvo` to obtain all the heasarc services that allow access to the table.\n",
    "- Select the `conesearch` service, which the VO service that allows for a search on a position in the sky.\n"
   ]
  },
  {
   "cell_type": "code",
   "execution_count": null,
   "id": "21852e8e",
   "metadata": {},
   "outputs": [],
   "source": [
    "# import the relevant libraries\n",
    "import pyvo\n",
    "import os"
   ]
  },
  {
   "cell_type": "code",
   "execution_count": null,
   "id": "760ed88e",
   "metadata": {},
   "outputs": [],
   "source": [
    "\n",
    "# select the services\n",
    "nu_services = pyvo.regsearch(ivoid='ivo://nasa.heasarc/numaster')[0]\n",
    "\n",
    "# select the cone search service\n",
    "cs_service = nu_services.get_service('conesearch')\n"
   ]
  },
  {
   "cell_type": "markdown",
   "id": "8fe8a511",
   "metadata": {},
   "source": [
    "Next, we will use the search function in `cs_service` to search for observations around some source, say the AGN `NGC 4151`.\n",
    "\n",
    "The `search` function takes as input, the sky position as a variable in the form of an astropy sky coordinate object `SkyCoord`.\n",
    "\n",
    "The search result is then printed as an astropy Table for a clean display."
   ]
  },
  {
   "cell_type": "code",
   "execution_count": null,
   "id": "c58ee9f9",
   "metadata": {},
   "outputs": [],
   "source": [
    "from astropy.coordinates import SkyCoord\n",
    "\n",
    "pos = SkyCoord.from_name('ngc 4151')\n",
    "\n",
    "search_result = cs_service.search(pos)\n",
    "\n",
    "# display the result as an astropy table\n",
    "search_result.to_table()"
   ]
  },
  {
   "cell_type": "markdown",
   "id": "43ea914d",
   "metadata": {},
   "source": [
    "The search returned several entries.\n",
    "\n",
    "Let's say we are interested only in observations with exposures larger than 50 ks. We do that with a loop over the search results.\n",
    "\n"
   ]
  },
  {
   "cell_type": "code",
   "execution_count": null,
   "id": "d371eff9",
   "metadata": {},
   "outputs": [],
   "source": [
    "obs_to_explore = [res for res in search_result if res['exposure_a'] >= 50000]\n",
    "obs_to_explore"
   ]
  },
  {
   "cell_type": "markdown",
   "id": "12628e2b",
   "metadata": {},
   "source": [
    "The exposure selection resulted in 3 observations (this may change as more observations are collected). Let's try to download them for analysis.\n",
    "\n",
    "To see what data products are available for these 3 observations, we use the VO's datalinks. A datalink is a way to query data products related to some search result.\n",
    "\n",
    "The results of a datalink call will depend on the specific observation. To see the type of products that are available for our observations, we start by looking at one of them."
   ]
  },
  {
   "cell_type": "code",
   "execution_count": null,
   "id": "7f7252e7",
   "metadata": {},
   "outputs": [],
   "source": [
    "obs = obs_to_explore[0]\n",
    "dlink = obs.getdatalink()\n",
    "\n",
    "# only 3 summary columns are printed\n",
    "dlink.to_table()[['ID', 'access_url', 'content_type']]"
   ]
  },
  {
   "cell_type": "markdown",
   "id": "5f61b2bc",
   "metadata": {},
   "source": [
    "Three products are available for our selected observation. From the `content_type` column, we see that one is a `directory` containing the observation files. The `access_url` column gives the direct url to the data (The other two include another datalink service for house keeping data, and a document to list publications related to the selected observation).\n",
    "\n",
    "We can now loop through our selected observations in `obs_to_explore`, and extract the url addresses with `content_type` equal to `directory`.\n",
    "\n",
    "Note that an empty datalink product indicates that no public data is available for that observation, likely because it is in proprietary mode."
   ]
  },
  {
   "cell_type": "code",
   "execution_count": null,
   "id": "688d7290",
   "metadata": {},
   "outputs": [],
   "source": [
    "# loop through the observations\n",
    "links = []\n",
    "for obs in obs_to_explore:\n",
    "    dlink = obs.getdatalink()\n",
    "    dlink_to_dir = [dl for dl in dlink if dl['content_type'] == 'directory']\n",
    "    \n",
    "    # if we have no directory product, the data is likely not public yet\n",
    "    if len(dlink_to_dir) == 0:\n",
    "        continue\n",
    "    \n",
    "    link = dlink_to_dir[0]['access_url']\n",
    "    print(link)\n",
    "    links.append(link)"
   ]
  },
  {
   "cell_type": "markdown",
   "id": "83b8ef58",
   "metadata": {},
   "source": [
    "On Sciserver, all the data is available locally under `/FTP/`, so all we need is to use the link text after `FTP` and copy them to the current directory.\n",
    "\n",
    "\n",
    "If this is run ourside Sciserver, we can download the data directories using `wget` (or `curl`)\n",
    "\n",
    "Set the `on_sciserver` to `False` if using this notebook outside Sciserver"
   ]
  },
  {
   "cell_type": "code",
   "execution_count": null,
   "id": "fc795e33",
   "metadata": {},
   "outputs": [],
   "source": [
    "on_sciserver = True\n",
    "\n",
    "if on_sciserver:\n",
    "    # copy data locally on sciserver\n",
    "    for link in links:\n",
    "        os.system(f\"cp /FTP/{link.split('FTP')[1]} .\")\n",
    "\n",
    "else:\n",
    "    # use wget to download the data\n",
    "    wget_cmd = (\"wget -q -nH --no-check-certificate --no-parent --cut-dirs=6 -r -l0 -c -N -np -R 'index*'\"\n",
    "                \" -erobots=off --retr-symlinks {}\")\n",
    "\n",
    "    for link in links:\n",
    "        os.system(wget_cmd.format(link))"
   ]
  },
  {
   "cell_type": "markdown",
   "id": "a4f5b83f",
   "metadata": {},
   "source": [
    "---\n",
    "- Last Updated: 06/05/2023"
   ]
  },
  {
   "cell_type": "code",
   "execution_count": null,
   "id": "ad81b44b",
   "metadata": {},
   "outputs": [],
   "source": []
  }
 ],
 "metadata": {
  "kernelspec": {
   "display_name": "(heasoft)",
   "language": "python",
   "name": "heasoft"
  },
  "language_info": {
   "codemirror_mode": {
    "name": "ipython",
    "version": 3
   },
   "file_extension": ".py",
   "mimetype": "text/x-python",
   "name": "python",
   "nbconvert_exporter": "python",
   "pygments_lexer": "ipython3",
   "version": "3.8.12"
  }
 },
 "nbformat": 4,
 "nbformat_minor": 5
}
